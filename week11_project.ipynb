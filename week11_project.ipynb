{
  "nbformat": 4,
  "nbformat_minor": 0,
  "metadata": {
    "colab": {
      "name": "week11_project.ipynb",
      "provenance": [],
      "collapsed_sections": []
    },
    "kernelspec": {
      "name": "python3",
      "display_name": "Python 3"
    },
    "language_info": {
      "name": "python"
    }
  },
  "cells": [
    {
      "cell_type": "code",
      "metadata": {
        "id": "dxp6pW_VCpXc"
      },
      "source": [
        "import pandas as pd\n",
        "import numpy as np\n",
        "import matplotlib.pyplot as plt\n",
        "import seaborn as sns\n",
        "import plotly.express as px\n",
        "import plotly.graph_objects as go"
      ],
      "execution_count": null,
      "outputs": []
    },
    {
      "cell_type": "code",
      "metadata": {
        "colab": {
          "base_uri": "https://localhost:8080/",
          "height": 206
        },
        "id": "CKd_aQlnH3ni",
        "outputId": "0addc4db-32c2-4d7f-8623-6e5e47c6d0c9"
      },
      "source": [
        "df = pd.read_csv('https://raw.githubusercontent.com/DavidMairena/Heart_Attack_Possibility/main/heart_disease_uci.csv')\n",
        "df.head()"
      ],
      "execution_count": null,
      "outputs": [
        {
          "output_type": "execute_result",
          "data": {
            "text/html": [
              "<div>\n",
              "<style scoped>\n",
              "    .dataframe tbody tr th:only-of-type {\n",
              "        vertical-align: middle;\n",
              "    }\n",
              "\n",
              "    .dataframe tbody tr th {\n",
              "        vertical-align: top;\n",
              "    }\n",
              "\n",
              "    .dataframe thead th {\n",
              "        text-align: right;\n",
              "    }\n",
              "</style>\n",
              "<table border=\"1\" class=\"dataframe\">\n",
              "  <thead>\n",
              "    <tr style=\"text-align: right;\">\n",
              "      <th></th>\n",
              "      <th>id</th>\n",
              "      <th>age</th>\n",
              "      <th>sex</th>\n",
              "      <th>dataset</th>\n",
              "      <th>cp</th>\n",
              "      <th>trestbps</th>\n",
              "      <th>chol</th>\n",
              "      <th>fbs</th>\n",
              "      <th>restecg</th>\n",
              "      <th>thalch</th>\n",
              "      <th>exang</th>\n",
              "      <th>oldpeak</th>\n",
              "      <th>slope</th>\n",
              "      <th>ca</th>\n",
              "      <th>thal</th>\n",
              "      <th>num</th>\n",
              "    </tr>\n",
              "  </thead>\n",
              "  <tbody>\n",
              "    <tr>\n",
              "      <th>0</th>\n",
              "      <td>1</td>\n",
              "      <td>63</td>\n",
              "      <td>Male</td>\n",
              "      <td>Cleveland</td>\n",
              "      <td>typical angina</td>\n",
              "      <td>145.0</td>\n",
              "      <td>233.0</td>\n",
              "      <td>True</td>\n",
              "      <td>lv hypertrophy</td>\n",
              "      <td>150.0</td>\n",
              "      <td>False</td>\n",
              "      <td>2.3</td>\n",
              "      <td>downsloping</td>\n",
              "      <td>0.0</td>\n",
              "      <td>fixed defect</td>\n",
              "      <td>0</td>\n",
              "    </tr>\n",
              "    <tr>\n",
              "      <th>1</th>\n",
              "      <td>2</td>\n",
              "      <td>67</td>\n",
              "      <td>Male</td>\n",
              "      <td>Cleveland</td>\n",
              "      <td>asymptomatic</td>\n",
              "      <td>160.0</td>\n",
              "      <td>286.0</td>\n",
              "      <td>False</td>\n",
              "      <td>lv hypertrophy</td>\n",
              "      <td>108.0</td>\n",
              "      <td>True</td>\n",
              "      <td>1.5</td>\n",
              "      <td>flat</td>\n",
              "      <td>3.0</td>\n",
              "      <td>normal</td>\n",
              "      <td>2</td>\n",
              "    </tr>\n",
              "    <tr>\n",
              "      <th>2</th>\n",
              "      <td>3</td>\n",
              "      <td>67</td>\n",
              "      <td>Male</td>\n",
              "      <td>Cleveland</td>\n",
              "      <td>asymptomatic</td>\n",
              "      <td>120.0</td>\n",
              "      <td>229.0</td>\n",
              "      <td>False</td>\n",
              "      <td>lv hypertrophy</td>\n",
              "      <td>129.0</td>\n",
              "      <td>True</td>\n",
              "      <td>2.6</td>\n",
              "      <td>flat</td>\n",
              "      <td>2.0</td>\n",
              "      <td>reversable defect</td>\n",
              "      <td>1</td>\n",
              "    </tr>\n",
              "    <tr>\n",
              "      <th>3</th>\n",
              "      <td>4</td>\n",
              "      <td>37</td>\n",
              "      <td>Male</td>\n",
              "      <td>Cleveland</td>\n",
              "      <td>non-anginal</td>\n",
              "      <td>130.0</td>\n",
              "      <td>250.0</td>\n",
              "      <td>False</td>\n",
              "      <td>normal</td>\n",
              "      <td>187.0</td>\n",
              "      <td>False</td>\n",
              "      <td>3.5</td>\n",
              "      <td>downsloping</td>\n",
              "      <td>0.0</td>\n",
              "      <td>normal</td>\n",
              "      <td>0</td>\n",
              "    </tr>\n",
              "    <tr>\n",
              "      <th>4</th>\n",
              "      <td>5</td>\n",
              "      <td>41</td>\n",
              "      <td>Female</td>\n",
              "      <td>Cleveland</td>\n",
              "      <td>atypical angina</td>\n",
              "      <td>130.0</td>\n",
              "      <td>204.0</td>\n",
              "      <td>False</td>\n",
              "      <td>lv hypertrophy</td>\n",
              "      <td>172.0</td>\n",
              "      <td>False</td>\n",
              "      <td>1.4</td>\n",
              "      <td>upsloping</td>\n",
              "      <td>0.0</td>\n",
              "      <td>normal</td>\n",
              "      <td>0</td>\n",
              "    </tr>\n",
              "  </tbody>\n",
              "</table>\n",
              "</div>"
            ],
            "text/plain": [
              "   id  age     sex    dataset  ...        slope   ca               thal num\n",
              "0   1   63    Male  Cleveland  ...  downsloping  0.0       fixed defect   0\n",
              "1   2   67    Male  Cleveland  ...         flat  3.0             normal   2\n",
              "2   3   67    Male  Cleveland  ...         flat  2.0  reversable defect   1\n",
              "3   4   37    Male  Cleveland  ...  downsloping  0.0             normal   0\n",
              "4   5   41  Female  Cleveland  ...    upsloping  0.0             normal   0\n",
              "\n",
              "[5 rows x 16 columns]"
            ]
          },
          "metadata": {},
          "execution_count": 38
        }
      ]
    },
    {
      "cell_type": "code",
      "metadata": {
        "id": "8FnpygRiITkP",
        "colab": {
          "base_uri": "https://localhost:8080/"
        },
        "outputId": "1217e7f1-209b-4c68-ecdf-23211d03962a"
      },
      "source": [
        "df.shape"
      ],
      "execution_count": null,
      "outputs": [
        {
          "output_type": "execute_result",
          "data": {
            "text/plain": [
              "(920, 16)"
            ]
          },
          "metadata": {},
          "execution_count": 5
        }
      ]
    },
    {
      "cell_type": "markdown",
      "metadata": {
        "id": "TUQCkP__PJPW"
      },
      "source": [
        "### Explotarory Data Analysis"
      ]
    },
    {
      "cell_type": "code",
      "metadata": {
        "colab": {
          "base_uri": "https://localhost:8080/"
        },
        "id": "mY1xXUDDPOc5",
        "outputId": "e8c2c72a-1335-4b2f-cbb7-22d1d65a2176"
      },
      "source": [
        "df.dataset.unique()"
      ],
      "execution_count": null,
      "outputs": [
        {
          "output_type": "execute_result",
          "data": {
            "text/plain": [
              "array(['Cleveland', 'Hungary', 'Switzerland', 'VA Long Beach'],\n",
              "      dtype=object)"
            ]
          },
          "metadata": {},
          "execution_count": 6
        }
      ]
    },
    {
      "cell_type": "code",
      "metadata": {
        "colab": {
          "base_uri": "https://localhost:8080/",
          "height": 542
        },
        "id": "Sg-dJrk8PX-5",
        "outputId": "3524ed38-7337-4aa2-9e03-3b1466ed2133"
      },
      "source": [
        "dataset = px.histogram(df ,x = 'dataset', color='num', barmode='group', \n",
        "                    category_orders = {'num': [0,1,2,3,4]}, \n",
        "                    title='Number of Heart Disease by dataset',\n",
        "                    labels={'dataset':'Cities in the dataset', 'num':'Diagnosis of heart disease'})\n",
        "dataset.update_layout(legend=dict(\n",
        "                        orientation=\"h\",\n",
        "                        yanchor=\"bottom\", y=1.02,\n",
        "                        xanchor=\"right\", x=1))"
      ],
      "execution_count": null,
      "outputs": [
        {
          "output_type": "display_data",
          "data": {
            "text/html": [
              "<html>\n",
              "<head><meta charset=\"utf-8\" /></head>\n",
              "<body>\n",
              "    <div>\n",
              "            <script src=\"https://cdnjs.cloudflare.com/ajax/libs/mathjax/2.7.5/MathJax.js?config=TeX-AMS-MML_SVG\"></script><script type=\"text/javascript\">if (window.MathJax) {MathJax.Hub.Config({SVG: {font: \"STIX-Web\"}});}</script>\n",
              "                <script type=\"text/javascript\">window.PlotlyConfig = {MathJaxConfig: 'local'};</script>\n",
              "        <script src=\"https://cdn.plot.ly/plotly-latest.min.js\"></script>    \n",
              "            <div id=\"b13653e4-f17c-429d-b77c-65a1e9c504af\" class=\"plotly-graph-div\" style=\"height:525px; width:100%;\"></div>\n",
              "            <script type=\"text/javascript\">\n",
              "                \n",
              "                    window.PLOTLYENV=window.PLOTLYENV || {};\n",
              "                    \n",
              "                if (document.getElementById(\"b13653e4-f17c-429d-b77c-65a1e9c504af\")) {\n",
              "                    Plotly.newPlot(\n",
              "                        'b13653e4-f17c-429d-b77c-65a1e9c504af',\n",
              "                        [{\"alignmentgroup\": \"True\", \"bingroup\": \"x\", \"hoverlabel\": {\"namelength\": 0}, \"hovertemplate\": \"Diagnosis of heart disease=0<br>Cities in the dataset=%{x}<br>count=%{y}\", \"legendgroup\": \"Diagnosis of heart disease=0\", \"marker\": {\"color\": \"#636efa\"}, \"name\": \"Diagnosis of heart disease=0\", \"offsetgroup\": \"Diagnosis of heart disease=0\", \"orientation\": \"v\", \"showlegend\": true, \"type\": \"histogram\", \"x\": [\"Cleveland\", \"Cleveland\", \"Cleveland\", \"Cleveland\", \"Cleveland\", \"Cleveland\", \"Cleveland\", \"Cleveland\", \"Cleveland\", \"Cleveland\", \"Cleveland\", \"Cleveland\", \"Cleveland\", \"Cleveland\", \"Cleveland\", \"Cleveland\", \"Cleveland\", \"Cleveland\", \"Cleveland\", \"Cleveland\", \"Cleveland\", \"Cleveland\", \"Cleveland\", \"Cleveland\", \"Cleveland\", \"Cleveland\", \"Cleveland\", \"Cleveland\", \"Cleveland\", \"Cleveland\", \"Cleveland\", \"Cleveland\", \"Cleveland\", \"Cleveland\", \"Cleveland\", \"Cleveland\", \"Cleveland\", \"Cleveland\", \"Cleveland\", \"Cleveland\", \"Cleveland\", \"Cleveland\", \"Cleveland\", \"Cleveland\", \"Cleveland\", \"Cleveland\", \"Cleveland\", \"Cleveland\", \"Cleveland\", \"Cleveland\", \"Cleveland\", \"Cleveland\", \"Cleveland\", \"Cleveland\", \"Cleveland\", \"Cleveland\", \"Cleveland\", \"Cleveland\", \"Cleveland\", \"Cleveland\", \"Cleveland\", \"Cleveland\", \"Cleveland\", \"Cleveland\", \"Cleveland\", \"Cleveland\", \"Cleveland\", \"Cleveland\", \"Cleveland\", \"Cleveland\", \"Cleveland\", \"Cleveland\", \"Cleveland\", \"Cleveland\", \"Cleveland\", \"Cleveland\", \"Cleveland\", \"Cleveland\", \"Cleveland\", \"Cleveland\", \"Cleveland\", \"Cleveland\", \"Cleveland\", \"Cleveland\", \"Cleveland\", \"Cleveland\", \"Cleveland\", \"Cleveland\", \"Cleveland\", \"Cleveland\", \"Cleveland\", \"Cleveland\", \"Cleveland\", \"Cleveland\", \"Cleveland\", \"Cleveland\", \"Cleveland\", \"Cleveland\", \"Cleveland\", \"Cleveland\", \"Cleveland\", \"Cleveland\", \"Cleveland\", \"Cleveland\", \"Cleveland\", \"Cleveland\", \"Cleveland\", \"Cleveland\", \"Cleveland\", \"Cleveland\", \"Cleveland\", \"Cleveland\", \"Cleveland\", \"Cleveland\", \"Cleveland\", \"Cleveland\", \"Cleveland\", \"Cleveland\", \"Cleveland\", \"Cleveland\", \"Cleveland\", \"Cleveland\", \"Cleveland\", \"Cleveland\", \"Cleveland\", \"Cleveland\", \"Cleveland\", \"Cleveland\", \"Cleveland\", \"Cleveland\", \"Cleveland\", \"Cleveland\", \"Cleveland\", \"Cleveland\", \"Cleveland\", \"Cleveland\", \"Cleveland\", \"Cleveland\", \"Cleveland\", \"Cleveland\", \"Cleveland\", \"Cleveland\", \"Cleveland\", \"Cleveland\", \"Cleveland\", \"Cleveland\", \"Cleveland\", \"Cleveland\", \"Cleveland\", \"Cleveland\", \"Cleveland\", \"Cleveland\", \"Cleveland\", \"Cleveland\", \"Cleveland\", \"Cleveland\", \"Cleveland\", \"Cleveland\", \"Cleveland\", \"Cleveland\", \"Cleveland\", \"Cleveland\", \"Cleveland\", \"Cleveland\", \"Cleveland\", \"Hungary\", \"Hungary\", \"Hungary\", \"Hungary\", \"Hungary\", \"Hungary\", \"Hungary\", \"Hungary\", \"Hungary\", \"Hungary\", \"Hungary\", \"Hungary\", \"Hungary\", \"Hungary\", \"Hungary\", \"Hungary\", \"Hungary\", \"Hungary\", \"Hungary\", \"Hungary\", \"Hungary\", \"Hungary\", \"Hungary\", \"Hungary\", \"Hungary\", \"Hungary\", \"Hungary\", \"Hungary\", \"Hungary\", \"Hungary\", \"Hungary\", \"Hungary\", \"Hungary\", \"Hungary\", \"Hungary\", \"Hungary\", \"Hungary\", \"Hungary\", \"Hungary\", \"Hungary\", \"Hungary\", \"Hungary\", \"Hungary\", \"Hungary\", \"Hungary\", \"Hungary\", \"Hungary\", \"Hungary\", \"Hungary\", \"Hungary\", \"Hungary\", \"Hungary\", \"Hungary\", \"Hungary\", \"Hungary\", \"Hungary\", \"Hungary\", \"Hungary\", \"Hungary\", \"Hungary\", \"Hungary\", \"Hungary\", \"Hungary\", \"Hungary\", \"Hungary\", \"Hungary\", \"Hungary\", \"Hungary\", \"Hungary\", \"Hungary\", \"Hungary\", \"Hungary\", \"Hungary\", \"Hungary\", \"Hungary\", \"Hungary\", \"Hungary\", \"Hungary\", \"Hungary\", \"Hungary\", \"Hungary\", \"Hungary\", \"Hungary\", \"Hungary\", \"Hungary\", \"Hungary\", \"Hungary\", \"Hungary\", \"Hungary\", \"Hungary\", \"Hungary\", \"Hungary\", \"Hungary\", \"Hungary\", \"Hungary\", \"Hungary\", \"Hungary\", \"Hungary\", \"Hungary\", \"Hungary\", \"Hungary\", \"Hungary\", \"Hungary\", \"Hungary\", \"Hungary\", \"Hungary\", \"Hungary\", \"Hungary\", \"Hungary\", \"Hungary\", \"Hungary\", \"Hungary\", \"Hungary\", \"Hungary\", \"Hungary\", \"Hungary\", \"Hungary\", \"Hungary\", \"Hungary\", \"Hungary\", \"Hungary\", \"Hungary\", \"Hungary\", \"Hungary\", \"Hungary\", \"Hungary\", \"Hungary\", \"Hungary\", \"Hungary\", \"Hungary\", \"Hungary\", \"Hungary\", \"Hungary\", \"Hungary\", \"Hungary\", \"Hungary\", \"Hungary\", \"Hungary\", \"Hungary\", \"Hungary\", \"Hungary\", \"Hungary\", \"Hungary\", \"Hungary\", \"Hungary\", \"Hungary\", \"Hungary\", \"Hungary\", \"Hungary\", \"Hungary\", \"Hungary\", \"Hungary\", \"Hungary\", \"Hungary\", \"Hungary\", \"Hungary\", \"Hungary\", \"Hungary\", \"Hungary\", \"Hungary\", \"Hungary\", \"Hungary\", \"Hungary\", \"Hungary\", \"Hungary\", \"Hungary\", \"Hungary\", \"Hungary\", \"Hungary\", \"Hungary\", \"Hungary\", \"Hungary\", \"Hungary\", \"Hungary\", \"Hungary\", \"Hungary\", \"Hungary\", \"Hungary\", \"Hungary\", \"Hungary\", \"Hungary\", \"Hungary\", \"Hungary\", \"Hungary\", \"Hungary\", \"Hungary\", \"Hungary\", \"Switzerland\", \"Switzerland\", \"Switzerland\", \"Switzerland\", \"Switzerland\", \"Switzerland\", \"Switzerland\", \"Switzerland\", \"VA Long Beach\", \"VA Long Beach\", \"VA Long Beach\", \"VA Long Beach\", \"VA Long Beach\", \"VA Long Beach\", \"VA Long Beach\", \"VA Long Beach\", \"VA Long Beach\", \"VA Long Beach\", \"VA Long Beach\", \"VA Long Beach\", \"VA Long Beach\", \"VA Long Beach\", \"VA Long Beach\", \"VA Long Beach\", \"VA Long Beach\", \"VA Long Beach\", \"VA Long Beach\", \"VA Long Beach\", \"VA Long Beach\", \"VA Long Beach\", \"VA Long Beach\", \"VA Long Beach\", \"VA Long Beach\", \"VA Long Beach\", \"VA Long Beach\", \"VA Long Beach\", \"VA Long Beach\", \"VA Long Beach\", \"VA Long Beach\", \"VA Long Beach\", \"VA Long Beach\", \"VA Long Beach\", \"VA Long Beach\", \"VA Long Beach\", \"VA Long Beach\", \"VA Long Beach\", \"VA Long Beach\", \"VA Long Beach\", \"VA Long Beach\", \"VA Long Beach\", \"VA Long Beach\", \"VA Long Beach\", \"VA Long Beach\", \"VA Long Beach\", \"VA Long Beach\", \"VA Long Beach\", \"VA Long Beach\", \"VA Long Beach\", \"VA Long Beach\"], \"xaxis\": \"x\", \"yaxis\": \"y\"}, {\"alignmentgroup\": \"True\", \"bingroup\": \"x\", \"hoverlabel\": {\"namelength\": 0}, \"hovertemplate\": \"Diagnosis of heart disease=1<br>Cities in the dataset=%{x}<br>count=%{y}\", \"legendgroup\": \"Diagnosis of heart disease=1\", \"marker\": {\"color\": \"#EF553B\"}, \"name\": \"Diagnosis of heart disease=1\", \"offsetgroup\": \"Diagnosis of heart disease=1\", \"orientation\": \"v\", \"showlegend\": true, \"type\": \"histogram\", \"x\": [\"Cleveland\", \"Cleveland\", \"Cleveland\", \"Cleveland\", \"Cleveland\", \"Cleveland\", \"Cleveland\", \"Cleveland\", \"Cleveland\", \"Cleveland\", \"Cleveland\", \"Cleveland\", \"Cleveland\", \"Cleveland\", \"Cleveland\", \"Cleveland\", \"Cleveland\", \"Cleveland\", \"Cleveland\", \"Cleveland\", \"Cleveland\", \"Cleveland\", \"Cleveland\", \"Cleveland\", \"Cleveland\", \"Cleveland\", \"Cleveland\", \"Cleveland\", \"Cleveland\", \"Cleveland\", \"Cleveland\", \"Cleveland\", \"Cleveland\", \"Cleveland\", \"Cleveland\", \"Cleveland\", \"Cleveland\", \"Cleveland\", \"Cleveland\", \"Cleveland\", \"Cleveland\", \"Cleveland\", \"Cleveland\", \"Cleveland\", \"Cleveland\", \"Cleveland\", \"Cleveland\", \"Cleveland\", \"Cleveland\", \"Cleveland\", \"Cleveland\", \"Cleveland\", \"Cleveland\", \"Cleveland\", \"Cleveland\", \"Hungary\", \"Hungary\", \"Hungary\", \"Hungary\", \"Hungary\", \"Hungary\", \"Hungary\", \"Hungary\", \"Hungary\", \"Hungary\", \"Hungary\", \"Hungary\", \"Hungary\", \"Hungary\", \"Hungary\", \"Hungary\", \"Hungary\", \"Hungary\", \"Hungary\", \"Hungary\", \"Hungary\", \"Hungary\", \"Hungary\", \"Hungary\", \"Hungary\", \"Hungary\", \"Hungary\", \"Hungary\", \"Hungary\", \"Hungary\", \"Hungary\", \"Hungary\", \"Hungary\", \"Hungary\", \"Hungary\", \"Hungary\", \"Hungary\", \"Hungary\", \"Hungary\", \"Hungary\", \"Hungary\", \"Hungary\", \"Hungary\", \"Hungary\", \"Hungary\", \"Hungary\", \"Hungary\", \"Hungary\", \"Hungary\", \"Hungary\", \"Hungary\", \"Hungary\", \"Hungary\", \"Hungary\", \"Hungary\", \"Hungary\", \"Hungary\", \"Hungary\", \"Hungary\", \"Hungary\", \"Hungary\", \"Hungary\", \"Hungary\", \"Hungary\", \"Hungary\", \"Hungary\", \"Hungary\", \"Hungary\", \"Hungary\", \"Hungary\", \"Hungary\", \"Hungary\", \"Hungary\", \"Hungary\", \"Hungary\", \"Hungary\", \"Hungary\", \"Hungary\", \"Hungary\", \"Hungary\", \"Hungary\", \"Hungary\", \"Hungary\", \"Hungary\", \"Hungary\", \"Hungary\", \"Hungary\", \"Hungary\", \"Hungary\", \"Hungary\", \"Hungary\", \"Hungary\", \"Hungary\", \"Hungary\", \"Hungary\", \"Hungary\", \"Hungary\", \"Hungary\", \"Hungary\", \"Hungary\", \"Hungary\", \"Hungary\", \"Hungary\", \"Hungary\", \"Hungary\", \"Hungary\", \"Switzerland\", \"Switzerland\", \"Switzerland\", \"Switzerland\", \"Switzerland\", \"Switzerland\", \"Switzerland\", \"Switzerland\", \"Switzerland\", \"Switzerland\", \"Switzerland\", \"Switzerland\", \"Switzerland\", \"Switzerland\", \"Switzerland\", \"Switzerland\", \"Switzerland\", \"Switzerland\", \"Switzerland\", \"Switzerland\", \"Switzerland\", \"Switzerland\", \"Switzerland\", \"Switzerland\", \"Switzerland\", \"Switzerland\", \"Switzerland\", \"Switzerland\", \"Switzerland\", \"Switzerland\", \"Switzerland\", \"Switzerland\", \"Switzerland\", \"Switzerland\", \"Switzerland\", \"Switzerland\", \"Switzerland\", \"Switzerland\", \"Switzerland\", \"Switzerland\", \"Switzerland\", \"Switzerland\", \"Switzerland\", \"Switzerland\", \"Switzerland\", \"Switzerland\", \"Switzerland\", \"Switzerland\", \"VA Long Beach\", \"VA Long Beach\", \"VA Long Beach\", \"VA Long Beach\", \"VA Long Beach\", \"VA Long Beach\", \"VA Long Beach\", \"VA Long Beach\", \"VA Long Beach\", \"VA Long Beach\", \"VA Long Beach\", \"VA Long Beach\", \"VA Long Beach\", \"VA Long Beach\", \"VA Long Beach\", \"VA Long Beach\", \"VA Long Beach\", \"VA Long Beach\", \"VA Long Beach\", \"VA Long Beach\", \"VA Long Beach\", \"VA Long Beach\", \"VA Long Beach\", \"VA Long Beach\", \"VA Long Beach\", \"VA Long Beach\", \"VA Long Beach\", \"VA Long Beach\", \"VA Long Beach\", \"VA Long Beach\", \"VA Long Beach\", \"VA Long Beach\", \"VA Long Beach\", \"VA Long Beach\", \"VA Long Beach\", \"VA Long Beach\", \"VA Long Beach\", \"VA Long Beach\", \"VA Long Beach\", \"VA Long Beach\", \"VA Long Beach\", \"VA Long Beach\", \"VA Long Beach\", \"VA Long Beach\", \"VA Long Beach\", \"VA Long Beach\", \"VA Long Beach\", \"VA Long Beach\", \"VA Long Beach\", \"VA Long Beach\", \"VA Long Beach\", \"VA Long Beach\", \"VA Long Beach\", \"VA Long Beach\", \"VA Long Beach\", \"VA Long Beach\"], \"xaxis\": \"x\", \"yaxis\": \"y\"}, {\"alignmentgroup\": \"True\", \"bingroup\": \"x\", \"hoverlabel\": {\"namelength\": 0}, \"hovertemplate\": \"Diagnosis of heart disease=2<br>Cities in the dataset=%{x}<br>count=%{y}\", \"legendgroup\": \"Diagnosis of heart disease=2\", \"marker\": {\"color\": \"#00cc96\"}, \"name\": \"Diagnosis of heart disease=2\", \"offsetgroup\": \"Diagnosis of heart disease=2\", \"orientation\": \"v\", \"showlegend\": true, \"type\": \"histogram\", \"x\": [\"Cleveland\", \"Cleveland\", \"Cleveland\", \"Cleveland\", \"Cleveland\", \"Cleveland\", \"Cleveland\", \"Cleveland\", \"Cleveland\", \"Cleveland\", \"Cleveland\", \"Cleveland\", \"Cleveland\", \"Cleveland\", \"Cleveland\", \"Cleveland\", \"Cleveland\", \"Cleveland\", \"Cleveland\", \"Cleveland\", \"Cleveland\", \"Cleveland\", \"Cleveland\", \"Cleveland\", \"Cleveland\", \"Cleveland\", \"Cleveland\", \"Cleveland\", \"Cleveland\", \"Cleveland\", \"Cleveland\", \"Cleveland\", \"Cleveland\", \"Cleveland\", \"Cleveland\", \"Cleveland\", \"Switzerland\", \"Switzerland\", \"Switzerland\", \"Switzerland\", \"Switzerland\", \"Switzerland\", \"Switzerland\", \"Switzerland\", \"Switzerland\", \"Switzerland\", \"Switzerland\", \"Switzerland\", \"Switzerland\", \"Switzerland\", \"Switzerland\", \"Switzerland\", \"Switzerland\", \"Switzerland\", \"Switzerland\", \"Switzerland\", \"Switzerland\", \"Switzerland\", \"Switzerland\", \"Switzerland\", \"Switzerland\", \"Switzerland\", \"Switzerland\", \"Switzerland\", \"Switzerland\", \"Switzerland\", \"Switzerland\", \"Switzerland\", \"VA Long Beach\", \"VA Long Beach\", \"VA Long Beach\", \"VA Long Beach\", \"VA Long Beach\", \"VA Long Beach\", \"VA Long Beach\", \"VA Long Beach\", \"VA Long Beach\", \"VA Long Beach\", \"VA Long Beach\", \"VA Long Beach\", \"VA Long Beach\", \"VA Long Beach\", \"VA Long Beach\", \"VA Long Beach\", \"VA Long Beach\", \"VA Long Beach\", \"VA Long Beach\", \"VA Long Beach\", \"VA Long Beach\", \"VA Long Beach\", \"VA Long Beach\", \"VA Long Beach\", \"VA Long Beach\", \"VA Long Beach\", \"VA Long Beach\", \"VA Long Beach\", \"VA Long Beach\", \"VA Long Beach\", \"VA Long Beach\", \"VA Long Beach\", \"VA Long Beach\", \"VA Long Beach\", \"VA Long Beach\", \"VA Long Beach\", \"VA Long Beach\", \"VA Long Beach\", \"VA Long Beach\", \"VA Long Beach\", \"VA Long Beach\"], \"xaxis\": \"x\", \"yaxis\": \"y\"}, {\"alignmentgroup\": \"True\", \"bingroup\": \"x\", \"hoverlabel\": {\"namelength\": 0}, \"hovertemplate\": \"Diagnosis of heart disease=3<br>Cities in the dataset=%{x}<br>count=%{y}\", \"legendgroup\": \"Diagnosis of heart disease=3\", \"marker\": {\"color\": \"#ab63fa\"}, \"name\": \"Diagnosis of heart disease=3\", \"offsetgroup\": \"Diagnosis of heart disease=3\", \"orientation\": \"v\", \"showlegend\": true, \"type\": \"histogram\", \"x\": [\"Cleveland\", \"Cleveland\", \"Cleveland\", \"Cleveland\", \"Cleveland\", \"Cleveland\", \"Cleveland\", \"Cleveland\", \"Cleveland\", \"Cleveland\", \"Cleveland\", \"Cleveland\", \"Cleveland\", \"Cleveland\", \"Cleveland\", \"Cleveland\", \"Cleveland\", \"Cleveland\", \"Cleveland\", \"Cleveland\", \"Cleveland\", \"Cleveland\", \"Cleveland\", \"Cleveland\", \"Cleveland\", \"Cleveland\", \"Cleveland\", \"Cleveland\", \"Cleveland\", \"Cleveland\", \"Cleveland\", \"Cleveland\", \"Cleveland\", \"Cleveland\", \"Cleveland\", \"Switzerland\", \"Switzerland\", \"Switzerland\", \"Switzerland\", \"Switzerland\", \"Switzerland\", \"Switzerland\", \"Switzerland\", \"Switzerland\", \"Switzerland\", \"Switzerland\", \"Switzerland\", \"Switzerland\", \"Switzerland\", \"Switzerland\", \"Switzerland\", \"Switzerland\", \"Switzerland\", \"Switzerland\", \"Switzerland\", \"Switzerland\", \"Switzerland\", \"Switzerland\", \"Switzerland\", \"Switzerland\", \"Switzerland\", \"Switzerland\", \"Switzerland\", \"Switzerland\", \"Switzerland\", \"VA Long Beach\", \"VA Long Beach\", \"VA Long Beach\", \"VA Long Beach\", \"VA Long Beach\", \"VA Long Beach\", \"VA Long Beach\", \"VA Long Beach\", \"VA Long Beach\", \"VA Long Beach\", \"VA Long Beach\", \"VA Long Beach\", \"VA Long Beach\", \"VA Long Beach\", \"VA Long Beach\", \"VA Long Beach\", \"VA Long Beach\", \"VA Long Beach\", \"VA Long Beach\", \"VA Long Beach\", \"VA Long Beach\", \"VA Long Beach\", \"VA Long Beach\", \"VA Long Beach\", \"VA Long Beach\", \"VA Long Beach\", \"VA Long Beach\", \"VA Long Beach\", \"VA Long Beach\", \"VA Long Beach\", \"VA Long Beach\", \"VA Long Beach\", \"VA Long Beach\", \"VA Long Beach\", \"VA Long Beach\", \"VA Long Beach\", \"VA Long Beach\", \"VA Long Beach\", \"VA Long Beach\", \"VA Long Beach\", \"VA Long Beach\", \"VA Long Beach\"], \"xaxis\": \"x\", \"yaxis\": \"y\"}, {\"alignmentgroup\": \"True\", \"bingroup\": \"x\", \"hoverlabel\": {\"namelength\": 0}, \"hovertemplate\": \"Diagnosis of heart disease=4<br>Cities in the dataset=%{x}<br>count=%{y}\", \"legendgroup\": \"Diagnosis of heart disease=4\", \"marker\": {\"color\": \"#FFA15A\"}, \"name\": \"Diagnosis of heart disease=4\", \"offsetgroup\": \"Diagnosis of heart disease=4\", \"orientation\": \"v\", \"showlegend\": true, \"type\": \"histogram\", \"x\": [\"Cleveland\", \"Cleveland\", \"Cleveland\", \"Cleveland\", \"Cleveland\", \"Cleveland\", \"Cleveland\", \"Cleveland\", \"Cleveland\", \"Cleveland\", \"Cleveland\", \"Cleveland\", \"Cleveland\", \"Switzerland\", \"Switzerland\", \"Switzerland\", \"Switzerland\", \"Switzerland\", \"VA Long Beach\", \"VA Long Beach\", \"VA Long Beach\", \"VA Long Beach\", \"VA Long Beach\", \"VA Long Beach\", \"VA Long Beach\", \"VA Long Beach\", \"VA Long Beach\", \"VA Long Beach\"], \"xaxis\": \"x\", \"yaxis\": \"y\"}],\n",
              "                        {\"barmode\": \"group\", \"legend\": {\"orientation\": \"h\", \"tracegroupgap\": 0, \"x\": 1, \"xanchor\": \"right\", \"y\": 1.02, \"yanchor\": \"bottom\"}, \"template\": {\"data\": {\"bar\": [{\"error_x\": {\"color\": \"#2a3f5f\"}, \"error_y\": {\"color\": \"#2a3f5f\"}, \"marker\": {\"line\": {\"color\": \"#E5ECF6\", \"width\": 0.5}}, \"type\": \"bar\"}], \"barpolar\": [{\"marker\": {\"line\": {\"color\": \"#E5ECF6\", \"width\": 0.5}}, \"type\": \"barpolar\"}], \"carpet\": [{\"aaxis\": {\"endlinecolor\": \"#2a3f5f\", \"gridcolor\": \"white\", \"linecolor\": \"white\", \"minorgridcolor\": \"white\", \"startlinecolor\": \"#2a3f5f\"}, \"baxis\": {\"endlinecolor\": \"#2a3f5f\", \"gridcolor\": \"white\", \"linecolor\": \"white\", \"minorgridcolor\": \"white\", \"startlinecolor\": \"#2a3f5f\"}, \"type\": \"carpet\"}], \"choropleth\": [{\"colorbar\": {\"outlinewidth\": 0, \"ticks\": \"\"}, \"type\": \"choropleth\"}], \"contour\": [{\"colorbar\": {\"outlinewidth\": 0, \"ticks\": \"\"}, \"colorscale\": [[0.0, \"#0d0887\"], [0.1111111111111111, \"#46039f\"], [0.2222222222222222, \"#7201a8\"], [0.3333333333333333, \"#9c179e\"], [0.4444444444444444, \"#bd3786\"], [0.5555555555555556, \"#d8576b\"], [0.6666666666666666, \"#ed7953\"], [0.7777777777777778, \"#fb9f3a\"], [0.8888888888888888, \"#fdca26\"], [1.0, \"#f0f921\"]], \"type\": \"contour\"}], \"contourcarpet\": [{\"colorbar\": {\"outlinewidth\": 0, \"ticks\": \"\"}, \"type\": \"contourcarpet\"}], \"heatmap\": [{\"colorbar\": {\"outlinewidth\": 0, \"ticks\": \"\"}, \"colorscale\": [[0.0, \"#0d0887\"], [0.1111111111111111, \"#46039f\"], [0.2222222222222222, \"#7201a8\"], [0.3333333333333333, \"#9c179e\"], [0.4444444444444444, \"#bd3786\"], [0.5555555555555556, \"#d8576b\"], [0.6666666666666666, \"#ed7953\"], [0.7777777777777778, \"#fb9f3a\"], [0.8888888888888888, \"#fdca26\"], [1.0, \"#f0f921\"]], \"type\": \"heatmap\"}], \"heatmapgl\": [{\"colorbar\": {\"outlinewidth\": 0, \"ticks\": \"\"}, \"colorscale\": [[0.0, \"#0d0887\"], [0.1111111111111111, \"#46039f\"], [0.2222222222222222, \"#7201a8\"], [0.3333333333333333, \"#9c179e\"], [0.4444444444444444, \"#bd3786\"], [0.5555555555555556, \"#d8576b\"], [0.6666666666666666, \"#ed7953\"], [0.7777777777777778, \"#fb9f3a\"], [0.8888888888888888, \"#fdca26\"], [1.0, \"#f0f921\"]], \"type\": \"heatmapgl\"}], \"histogram\": [{\"marker\": {\"colorbar\": {\"outlinewidth\": 0, \"ticks\": \"\"}}, \"type\": \"histogram\"}], \"histogram2d\": [{\"colorbar\": {\"outlinewidth\": 0, \"ticks\": \"\"}, \"colorscale\": [[0.0, \"#0d0887\"], [0.1111111111111111, \"#46039f\"], [0.2222222222222222, \"#7201a8\"], [0.3333333333333333, \"#9c179e\"], [0.4444444444444444, \"#bd3786\"], [0.5555555555555556, \"#d8576b\"], [0.6666666666666666, \"#ed7953\"], [0.7777777777777778, \"#fb9f3a\"], [0.8888888888888888, \"#fdca26\"], [1.0, \"#f0f921\"]], \"type\": \"histogram2d\"}], \"histogram2dcontour\": [{\"colorbar\": {\"outlinewidth\": 0, \"ticks\": \"\"}, \"colorscale\": [[0.0, \"#0d0887\"], [0.1111111111111111, \"#46039f\"], [0.2222222222222222, \"#7201a8\"], [0.3333333333333333, \"#9c179e\"], [0.4444444444444444, \"#bd3786\"], [0.5555555555555556, \"#d8576b\"], [0.6666666666666666, \"#ed7953\"], [0.7777777777777778, \"#fb9f3a\"], [0.8888888888888888, \"#fdca26\"], [1.0, \"#f0f921\"]], \"type\": \"histogram2dcontour\"}], \"mesh3d\": [{\"colorbar\": {\"outlinewidth\": 0, \"ticks\": \"\"}, \"type\": \"mesh3d\"}], \"parcoords\": [{\"line\": {\"colorbar\": {\"outlinewidth\": 0, \"ticks\": \"\"}}, \"type\": \"parcoords\"}], \"pie\": [{\"automargin\": true, \"type\": \"pie\"}], \"scatter\": [{\"marker\": {\"colorbar\": {\"outlinewidth\": 0, \"ticks\": \"\"}}, \"type\": \"scatter\"}], \"scatter3d\": [{\"line\": {\"colorbar\": {\"outlinewidth\": 0, \"ticks\": \"\"}}, \"marker\": {\"colorbar\": {\"outlinewidth\": 0, \"ticks\": \"\"}}, \"type\": \"scatter3d\"}], \"scattercarpet\": [{\"marker\": {\"colorbar\": {\"outlinewidth\": 0, \"ticks\": \"\"}}, \"type\": \"scattercarpet\"}], \"scattergeo\": [{\"marker\": {\"colorbar\": {\"outlinewidth\": 0, \"ticks\": \"\"}}, \"type\": \"scattergeo\"}], \"scattergl\": [{\"marker\": {\"colorbar\": {\"outlinewidth\": 0, \"ticks\": \"\"}}, \"type\": \"scattergl\"}], \"scattermapbox\": [{\"marker\": {\"colorbar\": {\"outlinewidth\": 0, \"ticks\": \"\"}}, \"type\": \"scattermapbox\"}], \"scatterpolar\": [{\"marker\": {\"colorbar\": {\"outlinewidth\": 0, \"ticks\": \"\"}}, \"type\": \"scatterpolar\"}], \"scatterpolargl\": [{\"marker\": {\"colorbar\": {\"outlinewidth\": 0, \"ticks\": \"\"}}, \"type\": \"scatterpolargl\"}], \"scatterternary\": [{\"marker\": {\"colorbar\": {\"outlinewidth\": 0, \"ticks\": \"\"}}, \"type\": \"scatterternary\"}], \"surface\": [{\"colorbar\": {\"outlinewidth\": 0, \"ticks\": \"\"}, \"colorscale\": [[0.0, \"#0d0887\"], [0.1111111111111111, \"#46039f\"], [0.2222222222222222, \"#7201a8\"], [0.3333333333333333, \"#9c179e\"], [0.4444444444444444, \"#bd3786\"], [0.5555555555555556, \"#d8576b\"], [0.6666666666666666, \"#ed7953\"], [0.7777777777777778, \"#fb9f3a\"], [0.8888888888888888, \"#fdca26\"], [1.0, \"#f0f921\"]], \"type\": \"surface\"}], \"table\": [{\"cells\": {\"fill\": {\"color\": \"#EBF0F8\"}, \"line\": {\"color\": \"white\"}}, \"header\": {\"fill\": {\"color\": \"#C8D4E3\"}, \"line\": {\"color\": \"white\"}}, \"type\": \"table\"}]}, \"layout\": {\"annotationdefaults\": {\"arrowcolor\": \"#2a3f5f\", \"arrowhead\": 0, \"arrowwidth\": 1}, \"coloraxis\": {\"colorbar\": {\"outlinewidth\": 0, \"ticks\": \"\"}}, \"colorscale\": {\"diverging\": [[0, \"#8e0152\"], [0.1, \"#c51b7d\"], [0.2, \"#de77ae\"], [0.3, \"#f1b6da\"], [0.4, \"#fde0ef\"], [0.5, \"#f7f7f7\"], [0.6, \"#e6f5d0\"], [0.7, \"#b8e186\"], [0.8, \"#7fbc41\"], [0.9, \"#4d9221\"], [1, \"#276419\"]], \"sequential\": [[0.0, \"#0d0887\"], [0.1111111111111111, \"#46039f\"], [0.2222222222222222, \"#7201a8\"], [0.3333333333333333, \"#9c179e\"], [0.4444444444444444, \"#bd3786\"], [0.5555555555555556, \"#d8576b\"], [0.6666666666666666, \"#ed7953\"], [0.7777777777777778, \"#fb9f3a\"], [0.8888888888888888, \"#fdca26\"], [1.0, \"#f0f921\"]], \"sequentialminus\": [[0.0, \"#0d0887\"], [0.1111111111111111, \"#46039f\"], [0.2222222222222222, \"#7201a8\"], [0.3333333333333333, \"#9c179e\"], [0.4444444444444444, \"#bd3786\"], [0.5555555555555556, \"#d8576b\"], [0.6666666666666666, \"#ed7953\"], [0.7777777777777778, \"#fb9f3a\"], [0.8888888888888888, \"#fdca26\"], [1.0, \"#f0f921\"]]}, \"colorway\": [\"#636efa\", \"#EF553B\", \"#00cc96\", \"#ab63fa\", \"#FFA15A\", \"#19d3f3\", \"#FF6692\", \"#B6E880\", \"#FF97FF\", \"#FECB52\"], \"font\": {\"color\": \"#2a3f5f\"}, \"geo\": {\"bgcolor\": \"white\", \"lakecolor\": \"white\", \"landcolor\": \"#E5ECF6\", \"showlakes\": true, \"showland\": true, \"subunitcolor\": \"white\"}, \"hoverlabel\": {\"align\": \"left\"}, \"hovermode\": \"closest\", \"mapbox\": {\"style\": \"light\"}, \"paper_bgcolor\": \"white\", \"plot_bgcolor\": \"#E5ECF6\", \"polar\": {\"angularaxis\": {\"gridcolor\": \"white\", \"linecolor\": \"white\", \"ticks\": \"\"}, \"bgcolor\": \"#E5ECF6\", \"radialaxis\": {\"gridcolor\": \"white\", \"linecolor\": \"white\", \"ticks\": \"\"}}, \"scene\": {\"xaxis\": {\"backgroundcolor\": \"#E5ECF6\", \"gridcolor\": \"white\", \"gridwidth\": 2, \"linecolor\": \"white\", \"showbackground\": true, \"ticks\": \"\", \"zerolinecolor\": \"white\"}, \"yaxis\": {\"backgroundcolor\": \"#E5ECF6\", \"gridcolor\": \"white\", \"gridwidth\": 2, \"linecolor\": \"white\", \"showbackground\": true, \"ticks\": \"\", \"zerolinecolor\": \"white\"}, \"zaxis\": {\"backgroundcolor\": \"#E5ECF6\", \"gridcolor\": \"white\", \"gridwidth\": 2, \"linecolor\": \"white\", \"showbackground\": true, \"ticks\": \"\", \"zerolinecolor\": \"white\"}}, \"shapedefaults\": {\"line\": {\"color\": \"#2a3f5f\"}}, \"ternary\": {\"aaxis\": {\"gridcolor\": \"white\", \"linecolor\": \"white\", \"ticks\": \"\"}, \"baxis\": {\"gridcolor\": \"white\", \"linecolor\": \"white\", \"ticks\": \"\"}, \"bgcolor\": \"#E5ECF6\", \"caxis\": {\"gridcolor\": \"white\", \"linecolor\": \"white\", \"ticks\": \"\"}}, \"title\": {\"x\": 0.05}, \"xaxis\": {\"automargin\": true, \"gridcolor\": \"white\", \"linecolor\": \"white\", \"ticks\": \"\", \"title\": {\"standoff\": 15}, \"zerolinecolor\": \"white\", \"zerolinewidth\": 2}, \"yaxis\": {\"automargin\": true, \"gridcolor\": \"white\", \"linecolor\": \"white\", \"ticks\": \"\", \"title\": {\"standoff\": 15}, \"zerolinecolor\": \"white\", \"zerolinewidth\": 2}}}, \"title\": {\"text\": \"Number of Heart Disease by dataset\"}, \"xaxis\": {\"anchor\": \"y\", \"domain\": [0.0, 1.0], \"title\": {\"text\": \"Cities in the dataset\"}}, \"yaxis\": {\"anchor\": \"x\", \"domain\": [0.0, 1.0], \"title\": {\"text\": \"count\"}}},\n",
              "                        {\"responsive\": true}\n",
              "                    ).then(function(){\n",
              "                            \n",
              "var gd = document.getElementById('b13653e4-f17c-429d-b77c-65a1e9c504af');\n",
              "var x = new MutationObserver(function (mutations, observer) {{\n",
              "        var display = window.getComputedStyle(gd).display;\n",
              "        if (!display || display === 'none') {{\n",
              "            console.log([gd, 'removed!']);\n",
              "            Plotly.purge(gd);\n",
              "            observer.disconnect();\n",
              "        }}\n",
              "}});\n",
              "\n",
              "// Listen for the removal of the full notebook cells\n",
              "var notebookContainer = gd.closest('#notebook-container');\n",
              "if (notebookContainer) {{\n",
              "    x.observe(notebookContainer, {childList: true});\n",
              "}}\n",
              "\n",
              "// Listen for the clearing of the current output cell\n",
              "var outputEl = gd.closest('.output');\n",
              "if (outputEl) {{\n",
              "    x.observe(outputEl, {childList: true});\n",
              "}}\n",
              "\n",
              "                        })\n",
              "                };\n",
              "                \n",
              "            </script>\n",
              "        </div>\n",
              "</body>\n",
              "</html>"
            ]
          },
          "metadata": {}
        }
      ]
    },
    {
      "cell_type": "code",
      "metadata": {
        "colab": {
          "base_uri": "https://localhost:8080/"
        },
        "id": "OvVV7QpWIjK5",
        "outputId": "47c08c3a-dd15-47ec-fa06-39e23225a4bd"
      },
      "source": [
        "df.info()"
      ],
      "execution_count": null,
      "outputs": [
        {
          "output_type": "stream",
          "name": "stdout",
          "text": [
            "<class 'pandas.core.frame.DataFrame'>\n",
            "RangeIndex: 920 entries, 0 to 919\n",
            "Data columns (total 16 columns):\n",
            " #   Column    Non-Null Count  Dtype  \n",
            "---  ------    --------------  -----  \n",
            " 0   id        920 non-null    int64  \n",
            " 1   age       920 non-null    int64  \n",
            " 2   sex       920 non-null    object \n",
            " 3   dataset   920 non-null    object \n",
            " 4   cp        920 non-null    object \n",
            " 5   trestbps  861 non-null    float64\n",
            " 6   chol      890 non-null    float64\n",
            " 7   fbs       830 non-null    object \n",
            " 8   restecg   918 non-null    object \n",
            " 9   thalch    865 non-null    float64\n",
            " 10  exang     865 non-null    object \n",
            " 11  oldpeak   858 non-null    float64\n",
            " 12  slope     611 non-null    object \n",
            " 13  ca        309 non-null    float64\n",
            " 14  thal      434 non-null    object \n",
            " 15  num       920 non-null    int64  \n",
            "dtypes: float64(5), int64(3), object(8)\n",
            "memory usage: 115.1+ KB\n"
          ]
        }
      ]
    },
    {
      "cell_type": "code",
      "metadata": {
        "id": "vO47BadaRino"
      },
      "source": [
        "df.drop('dataset', axis=1, inplace=True)"
      ],
      "execution_count": null,
      "outputs": []
    },
    {
      "cell_type": "code",
      "metadata": {
        "colab": {
          "base_uri": "https://localhost:8080/"
        },
        "id": "0FV3mfhHR9Qn",
        "outputId": "d77a9d91-84d8-4f2b-dd08-c0a6ef4ee46a"
      },
      "source": [
        "df.cp.value_counts()"
      ],
      "execution_count": null,
      "outputs": [
        {
          "output_type": "execute_result",
          "data": {
            "text/plain": [
              "asymptomatic       496\n",
              "non-anginal        204\n",
              "atypical angina    174\n",
              "typical angina      46\n",
              "Name: cp, dtype: int64"
            ]
          },
          "metadata": {},
          "execution_count": 10
        }
      ]
    },
    {
      "cell_type": "code",
      "metadata": {
        "colab": {
          "base_uri": "https://localhost:8080/"
        },
        "id": "aAqPhY-GJ8xH",
        "outputId": "a6f05cf6-ecee-4806-e7de-d735b548bfde"
      },
      "source": [
        "df_fixed[df_fixed.num == 1].num.value_counts()"
      ],
      "execution_count": null,
      "outputs": [
        {
          "output_type": "execute_result",
          "data": {
            "text/plain": [
              "1    509\n",
              "Name: num, dtype: int64"
            ]
          },
          "metadata": {},
          "execution_count": 37
        }
      ]
    },
    {
      "cell_type": "code",
      "metadata": {
        "colab": {
          "base_uri": "https://localhost:8080/",
          "height": 542
        },
        "id": "Buoulj3F7BC7",
        "outputId": "d46ae9bc-4c47-44b9-aece-e7f54540b119"
      },
      "source": [
        "df_fixed = df\n",
        "df_fixed.dropna(inplace=True)\n",
        "df_fixed.num.replace([2,3,4], 1, inplace = True)\n",
        "df_fixed_sex = df_fixed[df_fixed.num == 1]\n",
        "\n",
        "px.histogram(df_fixed, x = 'sex', color='num', barmode='stack', title='Number of male and female in the dataset',\n",
        "                    labels={'num':'Diagnosis of heart disease'})"
      ],
      "execution_count": null,
      "outputs": [
        {
          "output_type": "display_data",
          "data": {
            "text/html": [
              "<html>\n",
              "<head><meta charset=\"utf-8\" /></head>\n",
              "<body>\n",
              "    <div>\n",
              "            <script src=\"https://cdnjs.cloudflare.com/ajax/libs/mathjax/2.7.5/MathJax.js?config=TeX-AMS-MML_SVG\"></script><script type=\"text/javascript\">if (window.MathJax) {MathJax.Hub.Config({SVG: {font: \"STIX-Web\"}});}</script>\n",
              "                <script type=\"text/javascript\">window.PlotlyConfig = {MathJaxConfig: 'local'};</script>\n",
              "        <script src=\"https://cdn.plot.ly/plotly-latest.min.js\"></script>    \n",
              "            <div id=\"e529563b-7062-4a05-a76e-bc1748e502d3\" class=\"plotly-graph-div\" style=\"height:525px; width:100%;\"></div>\n",
              "            <script type=\"text/javascript\">\n",
              "                \n",
              "                    window.PLOTLYENV=window.PLOTLYENV || {};\n",
              "                    \n",
              "                if (document.getElementById(\"e529563b-7062-4a05-a76e-bc1748e502d3\")) {\n",
              "                    Plotly.newPlot(\n",
              "                        'e529563b-7062-4a05-a76e-bc1748e502d3',\n",
              "                        [{\"alignmentgroup\": \"True\", \"bingroup\": \"x\", \"hoverlabel\": {\"namelength\": 0}, \"hovertemplate\": \"Diagnosis of heart disease=0<br>sex=%{x}<br>count=%{y}\", \"legendgroup\": \"Diagnosis of heart disease=0\", \"marker\": {\"color\": \"#636efa\"}, \"name\": \"Diagnosis of heart disease=0\", \"offsetgroup\": \"Diagnosis of heart disease=0\", \"orientation\": \"v\", \"showlegend\": true, \"type\": \"histogram\", \"x\": [\"Male\", \"Male\", \"Female\", \"Male\", \"Female\", \"Male\", \"Female\", \"Male\", \"Male\", \"Male\", \"Male\", \"Female\", \"Male\", \"Male\", \"Female\", \"Female\", \"Female\", \"Female\", \"Male\", \"Female\", \"Male\", \"Male\", \"Male\", \"Male\", \"Male\", \"Female\", \"Male\", \"Male\", \"Female\", \"Male\", \"Female\", \"Male\", \"Male\", \"Male\", \"Male\", \"Female\", \"Female\", \"Male\", \"Female\", \"Female\", \"Female\", \"Male\", \"Male\", \"Female\", \"Male\", \"Male\", \"Male\", \"Male\", \"Female\", \"Female\", \"Male\", \"Male\", \"Female\", \"Female\", \"Male\", \"Male\", \"Male\", \"Male\", \"Female\", \"Female\", \"Male\", \"Male\", \"Male\", \"Male\", \"Female\", \"Male\", \"Female\", \"Male\", \"Female\", \"Male\", \"Male\", \"Male\", \"Male\", \"Female\", \"Female\", \"Male\", \"Male\", \"Male\", \"Male\", \"Male\", \"Male\", \"Female\", \"Male\", \"Female\", \"Female\", \"Male\", \"Male\", \"Female\", \"Female\", \"Male\", \"Male\", \"Female\", \"Female\", \"Male\", \"Female\", \"Male\", \"Male\", \"Male\", \"Male\", \"Male\", \"Female\", \"Male\", \"Male\", \"Female\", \"Male\", \"Female\", \"Female\", \"Female\", \"Female\", \"Male\", \"Female\", \"Male\", \"Male\", \"Female\", \"Male\", \"Male\", \"Female\", \"Female\", \"Female\", \"Male\", \"Female\", \"Female\", \"Female\", \"Female\", \"Male\", \"Female\", \"Female\", \"Female\", \"Female\", \"Female\", \"Male\", \"Male\", \"Female\", \"Female\", \"Female\", \"Male\", \"Male\", \"Male\", \"Female\", \"Male\", \"Female\", \"Female\", \"Female\", \"Male\", \"Female\", \"Female\", \"Male\", \"Male\", \"Male\", \"Female\", \"Male\", \"Female\", \"Female\", \"Female\", \"Male\", \"Male\", \"Male\", \"Male\", \"Female\", \"Male\"], \"xaxis\": \"x\", \"yaxis\": \"y\"}, {\"alignmentgroup\": \"True\", \"bingroup\": \"x\", \"hoverlabel\": {\"namelength\": 0}, \"hovertemplate\": \"Diagnosis of heart disease=1<br>sex=%{x}<br>count=%{y}\", \"legendgroup\": \"Diagnosis of heart disease=1\", \"marker\": {\"color\": \"#EF553B\"}, \"name\": \"Diagnosis of heart disease=1\", \"offsetgroup\": \"Diagnosis of heart disease=1\", \"orientation\": \"v\", \"showlegend\": true, \"type\": \"histogram\", \"x\": [\"Male\", \"Male\", \"Female\", \"Male\", \"Male\", \"Male\", \"Male\", \"Male\", \"Male\", \"Male\", \"Male\", \"Male\", \"Male\", \"Male\", \"Male\", \"Male\", \"Female\", \"Female\", \"Male\", \"Male\", \"Male\", \"Male\", \"Male\", \"Male\", \"Male\", \"Female\", \"Male\", \"Male\", \"Male\", \"Male\", \"Male\", \"Male\", \"Male\", \"Male\", \"Male\", \"Male\", \"Male\", \"Male\", \"Male\", \"Female\", \"Male\", \"Male\", \"Female\", \"Male\", \"Male\", \"Male\", \"Male\", \"Male\", \"Female\", \"Male\", \"Female\", \"Female\", \"Male\", \"Male\", \"Male\", \"Female\", \"Male\", \"Male\", \"Female\", \"Male\", \"Male\", \"Male\", \"Male\", \"Male\", \"Male\", \"Male\", \"Male\", \"Male\", \"Male\", \"Male\", \"Male\", \"Male\", \"Male\", \"Male\", \"Male\", \"Male\", \"Female\", \"Male\", \"Male\", \"Male\", \"Male\", \"Female\", \"Female\", \"Male\", \"Male\", \"Male\", \"Male\", \"Female\", \"Male\", \"Male\", \"Male\", \"Male\", \"Male\", \"Female\", \"Male\", \"Female\", \"Male\", \"Male\", \"Female\", \"Male\", \"Male\", \"Female\", \"Male\", \"Male\", \"Male\", \"Male\", \"Male\", \"Male\", \"Male\", \"Male\", \"Male\", \"Male\", \"Male\", \"Female\", \"Male\", \"Male\", \"Male\", \"Male\", \"Male\", \"Male\", \"Male\", \"Male\", \"Male\", \"Female\", \"Male\", \"Male\", \"Female\", \"Male\", \"Male\", \"Male\", \"Female\", \"Male\", \"Female\", \"Male\", \"Male\", \"Male\", \"Female\", \"Male\", \"Male\"], \"xaxis\": \"x\", \"yaxis\": \"y\"}],\n",
              "                        {\"barmode\": \"stack\", \"legend\": {\"tracegroupgap\": 0}, \"template\": {\"data\": {\"bar\": [{\"error_x\": {\"color\": \"#2a3f5f\"}, \"error_y\": {\"color\": \"#2a3f5f\"}, \"marker\": {\"line\": {\"color\": \"#E5ECF6\", \"width\": 0.5}}, \"type\": \"bar\"}], \"barpolar\": [{\"marker\": {\"line\": {\"color\": \"#E5ECF6\", \"width\": 0.5}}, \"type\": \"barpolar\"}], \"carpet\": [{\"aaxis\": {\"endlinecolor\": \"#2a3f5f\", \"gridcolor\": \"white\", \"linecolor\": \"white\", \"minorgridcolor\": \"white\", \"startlinecolor\": \"#2a3f5f\"}, \"baxis\": {\"endlinecolor\": \"#2a3f5f\", \"gridcolor\": \"white\", \"linecolor\": \"white\", \"minorgridcolor\": \"white\", \"startlinecolor\": \"#2a3f5f\"}, \"type\": \"carpet\"}], \"choropleth\": [{\"colorbar\": {\"outlinewidth\": 0, \"ticks\": \"\"}, \"type\": \"choropleth\"}], \"contour\": [{\"colorbar\": {\"outlinewidth\": 0, \"ticks\": \"\"}, \"colorscale\": [[0.0, \"#0d0887\"], [0.1111111111111111, \"#46039f\"], [0.2222222222222222, \"#7201a8\"], [0.3333333333333333, \"#9c179e\"], [0.4444444444444444, \"#bd3786\"], [0.5555555555555556, \"#d8576b\"], [0.6666666666666666, \"#ed7953\"], [0.7777777777777778, \"#fb9f3a\"], [0.8888888888888888, \"#fdca26\"], [1.0, \"#f0f921\"]], \"type\": \"contour\"}], \"contourcarpet\": [{\"colorbar\": {\"outlinewidth\": 0, \"ticks\": \"\"}, \"type\": \"contourcarpet\"}], \"heatmap\": [{\"colorbar\": {\"outlinewidth\": 0, \"ticks\": \"\"}, \"colorscale\": [[0.0, \"#0d0887\"], [0.1111111111111111, \"#46039f\"], [0.2222222222222222, \"#7201a8\"], [0.3333333333333333, \"#9c179e\"], [0.4444444444444444, \"#bd3786\"], [0.5555555555555556, \"#d8576b\"], [0.6666666666666666, \"#ed7953\"], [0.7777777777777778, \"#fb9f3a\"], [0.8888888888888888, \"#fdca26\"], [1.0, \"#f0f921\"]], \"type\": \"heatmap\"}], \"heatmapgl\": [{\"colorbar\": {\"outlinewidth\": 0, \"ticks\": \"\"}, \"colorscale\": [[0.0, \"#0d0887\"], [0.1111111111111111, \"#46039f\"], [0.2222222222222222, \"#7201a8\"], [0.3333333333333333, \"#9c179e\"], [0.4444444444444444, \"#bd3786\"], [0.5555555555555556, \"#d8576b\"], [0.6666666666666666, \"#ed7953\"], [0.7777777777777778, \"#fb9f3a\"], [0.8888888888888888, \"#fdca26\"], [1.0, \"#f0f921\"]], \"type\": \"heatmapgl\"}], \"histogram\": [{\"marker\": {\"colorbar\": {\"outlinewidth\": 0, \"ticks\": \"\"}}, \"type\": \"histogram\"}], \"histogram2d\": [{\"colorbar\": {\"outlinewidth\": 0, \"ticks\": \"\"}, \"colorscale\": [[0.0, \"#0d0887\"], [0.1111111111111111, \"#46039f\"], [0.2222222222222222, \"#7201a8\"], [0.3333333333333333, \"#9c179e\"], [0.4444444444444444, \"#bd3786\"], [0.5555555555555556, \"#d8576b\"], [0.6666666666666666, \"#ed7953\"], [0.7777777777777778, \"#fb9f3a\"], [0.8888888888888888, \"#fdca26\"], [1.0, \"#f0f921\"]], \"type\": \"histogram2d\"}], \"histogram2dcontour\": [{\"colorbar\": {\"outlinewidth\": 0, \"ticks\": \"\"}, \"colorscale\": [[0.0, \"#0d0887\"], [0.1111111111111111, \"#46039f\"], [0.2222222222222222, \"#7201a8\"], [0.3333333333333333, \"#9c179e\"], [0.4444444444444444, \"#bd3786\"], [0.5555555555555556, \"#d8576b\"], [0.6666666666666666, \"#ed7953\"], [0.7777777777777778, \"#fb9f3a\"], [0.8888888888888888, \"#fdca26\"], [1.0, \"#f0f921\"]], \"type\": \"histogram2dcontour\"}], \"mesh3d\": [{\"colorbar\": {\"outlinewidth\": 0, \"ticks\": \"\"}, \"type\": \"mesh3d\"}], \"parcoords\": [{\"line\": {\"colorbar\": {\"outlinewidth\": 0, \"ticks\": \"\"}}, \"type\": \"parcoords\"}], \"pie\": [{\"automargin\": true, \"type\": \"pie\"}], \"scatter\": [{\"marker\": {\"colorbar\": {\"outlinewidth\": 0, \"ticks\": \"\"}}, \"type\": \"scatter\"}], \"scatter3d\": [{\"line\": {\"colorbar\": {\"outlinewidth\": 0, \"ticks\": \"\"}}, \"marker\": {\"colorbar\": {\"outlinewidth\": 0, \"ticks\": \"\"}}, \"type\": \"scatter3d\"}], \"scattercarpet\": [{\"marker\": {\"colorbar\": {\"outlinewidth\": 0, \"ticks\": \"\"}}, \"type\": \"scattercarpet\"}], \"scattergeo\": [{\"marker\": {\"colorbar\": {\"outlinewidth\": 0, \"ticks\": \"\"}}, \"type\": \"scattergeo\"}], \"scattergl\": [{\"marker\": {\"colorbar\": {\"outlinewidth\": 0, \"ticks\": \"\"}}, \"type\": \"scattergl\"}], \"scattermapbox\": [{\"marker\": {\"colorbar\": {\"outlinewidth\": 0, \"ticks\": \"\"}}, \"type\": \"scattermapbox\"}], \"scatterpolar\": [{\"marker\": {\"colorbar\": {\"outlinewidth\": 0, \"ticks\": \"\"}}, \"type\": \"scatterpolar\"}], \"scatterpolargl\": [{\"marker\": {\"colorbar\": {\"outlinewidth\": 0, \"ticks\": \"\"}}, \"type\": \"scatterpolargl\"}], \"scatterternary\": [{\"marker\": {\"colorbar\": {\"outlinewidth\": 0, \"ticks\": \"\"}}, \"type\": \"scatterternary\"}], \"surface\": [{\"colorbar\": {\"outlinewidth\": 0, \"ticks\": \"\"}, \"colorscale\": [[0.0, \"#0d0887\"], [0.1111111111111111, \"#46039f\"], [0.2222222222222222, \"#7201a8\"], [0.3333333333333333, \"#9c179e\"], [0.4444444444444444, \"#bd3786\"], [0.5555555555555556, \"#d8576b\"], [0.6666666666666666, \"#ed7953\"], [0.7777777777777778, \"#fb9f3a\"], [0.8888888888888888, \"#fdca26\"], [1.0, \"#f0f921\"]], \"type\": \"surface\"}], \"table\": [{\"cells\": {\"fill\": {\"color\": \"#EBF0F8\"}, \"line\": {\"color\": \"white\"}}, \"header\": {\"fill\": {\"color\": \"#C8D4E3\"}, \"line\": {\"color\": \"white\"}}, \"type\": \"table\"}]}, \"layout\": {\"annotationdefaults\": {\"arrowcolor\": \"#2a3f5f\", \"arrowhead\": 0, \"arrowwidth\": 1}, \"coloraxis\": {\"colorbar\": {\"outlinewidth\": 0, \"ticks\": \"\"}}, \"colorscale\": {\"diverging\": [[0, \"#8e0152\"], [0.1, \"#c51b7d\"], [0.2, \"#de77ae\"], [0.3, \"#f1b6da\"], [0.4, \"#fde0ef\"], [0.5, \"#f7f7f7\"], [0.6, \"#e6f5d0\"], [0.7, \"#b8e186\"], [0.8, \"#7fbc41\"], [0.9, \"#4d9221\"], [1, \"#276419\"]], \"sequential\": [[0.0, \"#0d0887\"], [0.1111111111111111, \"#46039f\"], [0.2222222222222222, \"#7201a8\"], [0.3333333333333333, \"#9c179e\"], [0.4444444444444444, \"#bd3786\"], [0.5555555555555556, \"#d8576b\"], [0.6666666666666666, \"#ed7953\"], [0.7777777777777778, \"#fb9f3a\"], [0.8888888888888888, \"#fdca26\"], [1.0, \"#f0f921\"]], \"sequentialminus\": [[0.0, \"#0d0887\"], [0.1111111111111111, \"#46039f\"], [0.2222222222222222, \"#7201a8\"], [0.3333333333333333, \"#9c179e\"], [0.4444444444444444, \"#bd3786\"], [0.5555555555555556, \"#d8576b\"], [0.6666666666666666, \"#ed7953\"], [0.7777777777777778, \"#fb9f3a\"], [0.8888888888888888, \"#fdca26\"], [1.0, \"#f0f921\"]]}, \"colorway\": [\"#636efa\", \"#EF553B\", \"#00cc96\", \"#ab63fa\", \"#FFA15A\", \"#19d3f3\", \"#FF6692\", \"#B6E880\", \"#FF97FF\", \"#FECB52\"], \"font\": {\"color\": \"#2a3f5f\"}, \"geo\": {\"bgcolor\": \"white\", \"lakecolor\": \"white\", \"landcolor\": \"#E5ECF6\", \"showlakes\": true, \"showland\": true, \"subunitcolor\": \"white\"}, \"hoverlabel\": {\"align\": \"left\"}, \"hovermode\": \"closest\", \"mapbox\": {\"style\": \"light\"}, \"paper_bgcolor\": \"white\", \"plot_bgcolor\": \"#E5ECF6\", \"polar\": {\"angularaxis\": {\"gridcolor\": \"white\", \"linecolor\": \"white\", \"ticks\": \"\"}, \"bgcolor\": \"#E5ECF6\", \"radialaxis\": {\"gridcolor\": \"white\", \"linecolor\": \"white\", \"ticks\": \"\"}}, \"scene\": {\"xaxis\": {\"backgroundcolor\": \"#E5ECF6\", \"gridcolor\": \"white\", \"gridwidth\": 2, \"linecolor\": \"white\", \"showbackground\": true, \"ticks\": \"\", \"zerolinecolor\": \"white\"}, \"yaxis\": {\"backgroundcolor\": \"#E5ECF6\", \"gridcolor\": \"white\", \"gridwidth\": 2, \"linecolor\": \"white\", \"showbackground\": true, \"ticks\": \"\", \"zerolinecolor\": \"white\"}, \"zaxis\": {\"backgroundcolor\": \"#E5ECF6\", \"gridcolor\": \"white\", \"gridwidth\": 2, \"linecolor\": \"white\", \"showbackground\": true, \"ticks\": \"\", \"zerolinecolor\": \"white\"}}, \"shapedefaults\": {\"line\": {\"color\": \"#2a3f5f\"}}, \"ternary\": {\"aaxis\": {\"gridcolor\": \"white\", \"linecolor\": \"white\", \"ticks\": \"\"}, \"baxis\": {\"gridcolor\": \"white\", \"linecolor\": \"white\", \"ticks\": \"\"}, \"bgcolor\": \"#E5ECF6\", \"caxis\": {\"gridcolor\": \"white\", \"linecolor\": \"white\", \"ticks\": \"\"}}, \"title\": {\"x\": 0.05}, \"xaxis\": {\"automargin\": true, \"gridcolor\": \"white\", \"linecolor\": \"white\", \"ticks\": \"\", \"title\": {\"standoff\": 15}, \"zerolinecolor\": \"white\", \"zerolinewidth\": 2}, \"yaxis\": {\"automargin\": true, \"gridcolor\": \"white\", \"linecolor\": \"white\", \"ticks\": \"\", \"title\": {\"standoff\": 15}, \"zerolinecolor\": \"white\", \"zerolinewidth\": 2}}}, \"title\": {\"text\": \"Number of male and female in the dataset\"}, \"xaxis\": {\"anchor\": \"y\", \"domain\": [0.0, 1.0], \"title\": {\"text\": \"sex\"}}, \"yaxis\": {\"anchor\": \"x\", \"domain\": [0.0, 1.0], \"title\": {\"text\": \"count\"}}},\n",
              "                        {\"responsive\": true}\n",
              "                    ).then(function(){\n",
              "                            \n",
              "var gd = document.getElementById('e529563b-7062-4a05-a76e-bc1748e502d3');\n",
              "var x = new MutationObserver(function (mutations, observer) {{\n",
              "        var display = window.getComputedStyle(gd).display;\n",
              "        if (!display || display === 'none') {{\n",
              "            console.log([gd, 'removed!']);\n",
              "            Plotly.purge(gd);\n",
              "            observer.disconnect();\n",
              "        }}\n",
              "}});\n",
              "\n",
              "// Listen for the removal of the full notebook cells\n",
              "var notebookContainer = gd.closest('#notebook-container');\n",
              "if (notebookContainer) {{\n",
              "    x.observe(notebookContainer, {childList: true});\n",
              "}}\n",
              "\n",
              "// Listen for the clearing of the current output cell\n",
              "var outputEl = gd.closest('.output');\n",
              "if (outputEl) {{\n",
              "    x.observe(outputEl, {childList: true});\n",
              "}}\n",
              "\n",
              "                        })\n",
              "                };\n",
              "                \n",
              "            </script>\n",
              "        </div>\n",
              "</body>\n",
              "</html>"
            ]
          },
          "metadata": {}
        }
      ]
    },
    {
      "cell_type": "code",
      "metadata": {
        "colab": {
          "base_uri": "https://localhost:8080/",
          "height": 542
        },
        "id": "1hExZHfbSB_C",
        "outputId": "75c0a8f6-52ff-4d84-d158-26df05ddd422"
      },
      "source": [
        "px.pie(df_fixed[df_fixed.sex == 'Female'], values='id', names='num', color_discrete_sequence=['royalblue','magenta'], title='Amount of Heart Disease in Female')\n"
      ],
      "execution_count": null,
      "outputs": [
        {
          "output_type": "display_data",
          "data": {
            "text/html": [
              "<html>\n",
              "<head><meta charset=\"utf-8\" /></head>\n",
              "<body>\n",
              "    <div>\n",
              "            <script src=\"https://cdnjs.cloudflare.com/ajax/libs/mathjax/2.7.5/MathJax.js?config=TeX-AMS-MML_SVG\"></script><script type=\"text/javascript\">if (window.MathJax) {MathJax.Hub.Config({SVG: {font: \"STIX-Web\"}});}</script>\n",
              "                <script type=\"text/javascript\">window.PlotlyConfig = {MathJaxConfig: 'local'};</script>\n",
              "        <script src=\"https://cdn.plot.ly/plotly-latest.min.js\"></script>    \n",
              "            <div id=\"1d498dee-a9ea-4deb-bb68-0f5ee7c9e2c2\" class=\"plotly-graph-div\" style=\"height:525px; width:100%;\"></div>\n",
              "            <script type=\"text/javascript\">\n",
              "                \n",
              "                    window.PLOTLYENV=window.PLOTLYENV || {};\n",
              "                    \n",
              "                if (document.getElementById(\"1d498dee-a9ea-4deb-bb68-0f5ee7c9e2c2\")) {\n",
              "                    Plotly.newPlot(\n",
              "                        '1d498dee-a9ea-4deb-bb68-0f5ee7c9e2c2',\n",
              "                        [{\"domain\": {\"x\": [0.0, 1.0], \"y\": [0.0, 1.0]}, \"hoverlabel\": {\"namelength\": 0}, \"hovertemplate\": \"num=%{label}<br>id=%{value}\", \"labels\": [0, 1, 0, 0, 0, 0, 0, 0, 0, 0, 1, 0, 1, 0, 0, 1, 0, 0, 0, 0, 0, 0, 0, 0, 1, 0, 0, 1, 0, 0, 1, 1, 1, 0, 1, 0, 1, 0, 0, 0, 0, 0, 0, 0, 0, 0, 0, 1, 0, 1, 1, 0, 1, 0, 0, 0, 0, 0, 0, 1, 0, 1, 0, 0, 0, 0, 0, 0, 1, 0, 0, 0, 1, 0, 0, 0, 0, 0, 0, 0, 0, 0, 0, 0, 1, 0, 0, 0, 0, 0, 1, 1, 0, 1, 1, 1], \"legendgroup\": \"\", \"name\": \"\", \"showlegend\": true, \"type\": \"pie\", \"values\": [5, 7, 8, 12, 19, 22, 26, 27, 28, 31, 41, 43, 45, 49, 51, 61, 62, 64, 71, 76, 78, 82, 89, 90, 92, 94, 95, 98, 103, 104, 111, 114, 115, 118, 122, 126, 127, 130, 135, 136, 150, 152, 153, 163, 164, 168, 170, 173, 174, 182, 185, 186, 194, 195, 198, 199, 201, 202, 204, 210, 211, 214, 217, 218, 219, 221, 222, 223, 225, 226, 228, 231, 232, 234, 235, 239, 242, 243, 245, 254, 256, 257, 258, 261, 262, 263, 274, 277, 278, 280, 283, 287, 292, 295, 298, 302]}],\n",
              "                        {\"legend\": {\"tracegroupgap\": 0}, \"piecolorway\": [\"royalblue\", \"magenta\"], \"template\": {\"data\": {\"bar\": [{\"error_x\": {\"color\": \"#2a3f5f\"}, \"error_y\": {\"color\": \"#2a3f5f\"}, \"marker\": {\"line\": {\"color\": \"#E5ECF6\", \"width\": 0.5}}, \"type\": \"bar\"}], \"barpolar\": [{\"marker\": {\"line\": {\"color\": \"#E5ECF6\", \"width\": 0.5}}, \"type\": \"barpolar\"}], \"carpet\": [{\"aaxis\": {\"endlinecolor\": \"#2a3f5f\", \"gridcolor\": \"white\", \"linecolor\": \"white\", \"minorgridcolor\": \"white\", \"startlinecolor\": \"#2a3f5f\"}, \"baxis\": {\"endlinecolor\": \"#2a3f5f\", \"gridcolor\": \"white\", \"linecolor\": \"white\", \"minorgridcolor\": \"white\", \"startlinecolor\": \"#2a3f5f\"}, \"type\": \"carpet\"}], \"choropleth\": [{\"colorbar\": {\"outlinewidth\": 0, \"ticks\": \"\"}, \"type\": \"choropleth\"}], \"contour\": [{\"colorbar\": {\"outlinewidth\": 0, \"ticks\": \"\"}, \"colorscale\": [[0.0, \"#0d0887\"], [0.1111111111111111, \"#46039f\"], [0.2222222222222222, \"#7201a8\"], [0.3333333333333333, \"#9c179e\"], [0.4444444444444444, \"#bd3786\"], [0.5555555555555556, \"#d8576b\"], [0.6666666666666666, \"#ed7953\"], [0.7777777777777778, \"#fb9f3a\"], [0.8888888888888888, \"#fdca26\"], [1.0, \"#f0f921\"]], \"type\": \"contour\"}], \"contourcarpet\": [{\"colorbar\": {\"outlinewidth\": 0, \"ticks\": \"\"}, \"type\": \"contourcarpet\"}], \"heatmap\": [{\"colorbar\": {\"outlinewidth\": 0, \"ticks\": \"\"}, \"colorscale\": [[0.0, \"#0d0887\"], [0.1111111111111111, \"#46039f\"], [0.2222222222222222, \"#7201a8\"], [0.3333333333333333, \"#9c179e\"], [0.4444444444444444, \"#bd3786\"], [0.5555555555555556, \"#d8576b\"], [0.6666666666666666, \"#ed7953\"], [0.7777777777777778, \"#fb9f3a\"], [0.8888888888888888, \"#fdca26\"], [1.0, \"#f0f921\"]], \"type\": \"heatmap\"}], \"heatmapgl\": [{\"colorbar\": {\"outlinewidth\": 0, \"ticks\": \"\"}, \"colorscale\": [[0.0, \"#0d0887\"], [0.1111111111111111, \"#46039f\"], [0.2222222222222222, \"#7201a8\"], [0.3333333333333333, \"#9c179e\"], [0.4444444444444444, \"#bd3786\"], [0.5555555555555556, \"#d8576b\"], [0.6666666666666666, \"#ed7953\"], [0.7777777777777778, \"#fb9f3a\"], [0.8888888888888888, \"#fdca26\"], [1.0, \"#f0f921\"]], \"type\": \"heatmapgl\"}], \"histogram\": [{\"marker\": {\"colorbar\": {\"outlinewidth\": 0, \"ticks\": \"\"}}, \"type\": \"histogram\"}], \"histogram2d\": [{\"colorbar\": {\"outlinewidth\": 0, \"ticks\": \"\"}, \"colorscale\": [[0.0, \"#0d0887\"], [0.1111111111111111, \"#46039f\"], [0.2222222222222222, \"#7201a8\"], [0.3333333333333333, \"#9c179e\"], [0.4444444444444444, \"#bd3786\"], [0.5555555555555556, \"#d8576b\"], [0.6666666666666666, \"#ed7953\"], [0.7777777777777778, \"#fb9f3a\"], [0.8888888888888888, \"#fdca26\"], [1.0, \"#f0f921\"]], \"type\": \"histogram2d\"}], \"histogram2dcontour\": [{\"colorbar\": {\"outlinewidth\": 0, \"ticks\": \"\"}, \"colorscale\": [[0.0, \"#0d0887\"], [0.1111111111111111, \"#46039f\"], [0.2222222222222222, \"#7201a8\"], [0.3333333333333333, \"#9c179e\"], [0.4444444444444444, \"#bd3786\"], [0.5555555555555556, \"#d8576b\"], [0.6666666666666666, \"#ed7953\"], [0.7777777777777778, \"#fb9f3a\"], [0.8888888888888888, \"#fdca26\"], [1.0, \"#f0f921\"]], \"type\": \"histogram2dcontour\"}], \"mesh3d\": [{\"colorbar\": {\"outlinewidth\": 0, \"ticks\": \"\"}, \"type\": \"mesh3d\"}], \"parcoords\": [{\"line\": {\"colorbar\": {\"outlinewidth\": 0, \"ticks\": \"\"}}, \"type\": \"parcoords\"}], \"pie\": [{\"automargin\": true, \"type\": \"pie\"}], \"scatter\": [{\"marker\": {\"colorbar\": {\"outlinewidth\": 0, \"ticks\": \"\"}}, \"type\": \"scatter\"}], \"scatter3d\": [{\"line\": {\"colorbar\": {\"outlinewidth\": 0, \"ticks\": \"\"}}, \"marker\": {\"colorbar\": {\"outlinewidth\": 0, \"ticks\": \"\"}}, \"type\": \"scatter3d\"}], \"scattercarpet\": [{\"marker\": {\"colorbar\": {\"outlinewidth\": 0, \"ticks\": \"\"}}, \"type\": \"scattercarpet\"}], \"scattergeo\": [{\"marker\": {\"colorbar\": {\"outlinewidth\": 0, \"ticks\": \"\"}}, \"type\": \"scattergeo\"}], \"scattergl\": [{\"marker\": {\"colorbar\": {\"outlinewidth\": 0, \"ticks\": \"\"}}, \"type\": \"scattergl\"}], \"scattermapbox\": [{\"marker\": {\"colorbar\": {\"outlinewidth\": 0, \"ticks\": \"\"}}, \"type\": \"scattermapbox\"}], \"scatterpolar\": [{\"marker\": {\"colorbar\": {\"outlinewidth\": 0, \"ticks\": \"\"}}, \"type\": \"scatterpolar\"}], \"scatterpolargl\": [{\"marker\": {\"colorbar\": {\"outlinewidth\": 0, \"ticks\": \"\"}}, \"type\": \"scatterpolargl\"}], \"scatterternary\": [{\"marker\": {\"colorbar\": {\"outlinewidth\": 0, \"ticks\": \"\"}}, \"type\": \"scatterternary\"}], \"surface\": [{\"colorbar\": {\"outlinewidth\": 0, \"ticks\": \"\"}, \"colorscale\": [[0.0, \"#0d0887\"], [0.1111111111111111, \"#46039f\"], [0.2222222222222222, \"#7201a8\"], [0.3333333333333333, \"#9c179e\"], [0.4444444444444444, \"#bd3786\"], [0.5555555555555556, \"#d8576b\"], [0.6666666666666666, \"#ed7953\"], [0.7777777777777778, \"#fb9f3a\"], [0.8888888888888888, \"#fdca26\"], [1.0, \"#f0f921\"]], \"type\": \"surface\"}], \"table\": [{\"cells\": {\"fill\": {\"color\": \"#EBF0F8\"}, \"line\": {\"color\": \"white\"}}, \"header\": {\"fill\": {\"color\": \"#C8D4E3\"}, \"line\": {\"color\": \"white\"}}, \"type\": \"table\"}]}, \"layout\": {\"annotationdefaults\": {\"arrowcolor\": \"#2a3f5f\", \"arrowhead\": 0, \"arrowwidth\": 1}, \"coloraxis\": {\"colorbar\": {\"outlinewidth\": 0, \"ticks\": \"\"}}, \"colorscale\": {\"diverging\": [[0, \"#8e0152\"], [0.1, \"#c51b7d\"], [0.2, \"#de77ae\"], [0.3, \"#f1b6da\"], [0.4, \"#fde0ef\"], [0.5, \"#f7f7f7\"], [0.6, \"#e6f5d0\"], [0.7, \"#b8e186\"], [0.8, \"#7fbc41\"], [0.9, \"#4d9221\"], [1, \"#276419\"]], \"sequential\": [[0.0, \"#0d0887\"], [0.1111111111111111, \"#46039f\"], [0.2222222222222222, \"#7201a8\"], [0.3333333333333333, \"#9c179e\"], [0.4444444444444444, \"#bd3786\"], [0.5555555555555556, \"#d8576b\"], [0.6666666666666666, \"#ed7953\"], [0.7777777777777778, \"#fb9f3a\"], [0.8888888888888888, \"#fdca26\"], [1.0, \"#f0f921\"]], \"sequentialminus\": [[0.0, \"#0d0887\"], [0.1111111111111111, \"#46039f\"], [0.2222222222222222, \"#7201a8\"], [0.3333333333333333, \"#9c179e\"], [0.4444444444444444, \"#bd3786\"], [0.5555555555555556, \"#d8576b\"], [0.6666666666666666, \"#ed7953\"], [0.7777777777777778, \"#fb9f3a\"], [0.8888888888888888, \"#fdca26\"], [1.0, \"#f0f921\"]]}, \"colorway\": [\"#636efa\", \"#EF553B\", \"#00cc96\", \"#ab63fa\", \"#FFA15A\", \"#19d3f3\", \"#FF6692\", \"#B6E880\", \"#FF97FF\", \"#FECB52\"], \"font\": {\"color\": \"#2a3f5f\"}, \"geo\": {\"bgcolor\": \"white\", \"lakecolor\": \"white\", \"landcolor\": \"#E5ECF6\", \"showlakes\": true, \"showland\": true, \"subunitcolor\": \"white\"}, \"hoverlabel\": {\"align\": \"left\"}, \"hovermode\": \"closest\", \"mapbox\": {\"style\": \"light\"}, \"paper_bgcolor\": \"white\", \"plot_bgcolor\": \"#E5ECF6\", \"polar\": {\"angularaxis\": {\"gridcolor\": \"white\", \"linecolor\": \"white\", \"ticks\": \"\"}, \"bgcolor\": \"#E5ECF6\", \"radialaxis\": {\"gridcolor\": \"white\", \"linecolor\": \"white\", \"ticks\": \"\"}}, \"scene\": {\"xaxis\": {\"backgroundcolor\": \"#E5ECF6\", \"gridcolor\": \"white\", \"gridwidth\": 2, \"linecolor\": \"white\", \"showbackground\": true, \"ticks\": \"\", \"zerolinecolor\": \"white\"}, \"yaxis\": {\"backgroundcolor\": \"#E5ECF6\", \"gridcolor\": \"white\", \"gridwidth\": 2, \"linecolor\": \"white\", \"showbackground\": true, \"ticks\": \"\", \"zerolinecolor\": \"white\"}, \"zaxis\": {\"backgroundcolor\": \"#E5ECF6\", \"gridcolor\": \"white\", \"gridwidth\": 2, \"linecolor\": \"white\", \"showbackground\": true, \"ticks\": \"\", \"zerolinecolor\": \"white\"}}, \"shapedefaults\": {\"line\": {\"color\": \"#2a3f5f\"}}, \"ternary\": {\"aaxis\": {\"gridcolor\": \"white\", \"linecolor\": \"white\", \"ticks\": \"\"}, \"baxis\": {\"gridcolor\": \"white\", \"linecolor\": \"white\", \"ticks\": \"\"}, \"bgcolor\": \"#E5ECF6\", \"caxis\": {\"gridcolor\": \"white\", \"linecolor\": \"white\", \"ticks\": \"\"}}, \"title\": {\"x\": 0.05}, \"xaxis\": {\"automargin\": true, \"gridcolor\": \"white\", \"linecolor\": \"white\", \"ticks\": \"\", \"title\": {\"standoff\": 15}, \"zerolinecolor\": \"white\", \"zerolinewidth\": 2}, \"yaxis\": {\"automargin\": true, \"gridcolor\": \"white\", \"linecolor\": \"white\", \"ticks\": \"\", \"title\": {\"standoff\": 15}, \"zerolinecolor\": \"white\", \"zerolinewidth\": 2}}}, \"title\": {\"text\": \"Amount of Heart Disease in Female\"}},\n",
              "                        {\"responsive\": true}\n",
              "                    ).then(function(){\n",
              "                            \n",
              "var gd = document.getElementById('1d498dee-a9ea-4deb-bb68-0f5ee7c9e2c2');\n",
              "var x = new MutationObserver(function (mutations, observer) {{\n",
              "        var display = window.getComputedStyle(gd).display;\n",
              "        if (!display || display === 'none') {{\n",
              "            console.log([gd, 'removed!']);\n",
              "            Plotly.purge(gd);\n",
              "            observer.disconnect();\n",
              "        }}\n",
              "}});\n",
              "\n",
              "// Listen for the removal of the full notebook cells\n",
              "var notebookContainer = gd.closest('#notebook-container');\n",
              "if (notebookContainer) {{\n",
              "    x.observe(notebookContainer, {childList: true});\n",
              "}}\n",
              "\n",
              "// Listen for the clearing of the current output cell\n",
              "var outputEl = gd.closest('.output');\n",
              "if (outputEl) {{\n",
              "    x.observe(outputEl, {childList: true});\n",
              "}}\n",
              "\n",
              "                        })\n",
              "                };\n",
              "                \n",
              "            </script>\n",
              "        </div>\n",
              "</body>\n",
              "</html>"
            ]
          },
          "metadata": {}
        }
      ]
    },
    {
      "cell_type": "code",
      "metadata": {
        "colab": {
          "base_uri": "https://localhost:8080/",
          "height": 611
        },
        "id": "k5vU1IJlJPNa",
        "outputId": "d7e00c26-b599-4a95-c87c-bac4e9929c5c"
      },
      "source": [
        "px.pie(df_fixed[df_fixed.sex == 'Male'], values='id', names='num', color_discrete_sequence=['royalblue','magenta'], title='Amount of Heart Disease in male')\n",
        "sex.update_traces(textposition='inside', textinfo='percent+label')"
      ],
      "execution_count": null,
      "outputs": [
        {
          "output_type": "stream",
          "name": "stdout",
          "text": [
            "(299, 16)\n",
            "Male      114\n",
            "Female     25\n",
            "Name: sex, dtype: int64\n"
          ]
        },
        {
          "output_type": "display_data",
          "data": {
            "text/html": [
              "<html>\n",
              "<head><meta charset=\"utf-8\" /></head>\n",
              "<body>\n",
              "    <div>\n",
              "            <script src=\"https://cdnjs.cloudflare.com/ajax/libs/mathjax/2.7.5/MathJax.js?config=TeX-AMS-MML_SVG\"></script><script type=\"text/javascript\">if (window.MathJax) {MathJax.Hub.Config({SVG: {font: \"STIX-Web\"}});}</script>\n",
              "                <script type=\"text/javascript\">window.PlotlyConfig = {MathJaxConfig: 'local'};</script>\n",
              "        <script src=\"https://cdn.plot.ly/plotly-latest.min.js\"></script>    \n",
              "            <div id=\"4d1c9049-e3a1-471b-a1b6-1e2d72b8fe49\" class=\"plotly-graph-div\" style=\"height:525px; width:100%;\"></div>\n",
              "            <script type=\"text/javascript\">\n",
              "                \n",
              "                    window.PLOTLYENV=window.PLOTLYENV || {};\n",
              "                    \n",
              "                if (document.getElementById(\"4d1c9049-e3a1-471b-a1b6-1e2d72b8fe49\")) {\n",
              "                    Plotly.newPlot(\n",
              "                        '4d1c9049-e3a1-471b-a1b6-1e2d72b8fe49',\n",
              "                        [{\"domain\": {\"x\": [0.0, 1.0], \"y\": [0.0, 1.0]}, \"hoverlabel\": {\"namelength\": 0}, \"hovertemplate\": \"num=%{label}<br>id=%{value}\", \"labels\": [0, 1, 1, 0, 0, 1, 1, 0, 1, 0, 0, 0, 1, 0, 0, 0, 1, 1, 1, 0, 1, 1, 1, 0, 0, 0, 1, 1, 1, 0, 0, 0, 1, 0, 1, 0, 0, 1, 0, 1, 1, 1, 1, 0, 0, 1, 1, 1, 1, 0, 1, 1, 1, 1, 1, 1, 1, 0, 1, 0, 0, 1, 0, 0, 0, 0, 0, 1, 1, 0, 0, 0, 0, 1, 0, 1, 1, 1, 1, 1, 0, 0, 0, 1, 1, 1, 0, 1, 1, 1, 0, 0, 0, 0, 0, 1, 1, 1, 0, 0, 1, 0, 1, 0, 1, 1, 0, 0, 0, 1, 1, 1, 1, 1, 1, 0, 0, 1, 0, 0, 1, 1, 0, 1, 1, 0, 1, 0, 0, 1, 0, 0, 0, 1, 1, 1, 0, 1, 1, 0, 1, 0, 0, 1, 1, 1, 0, 1, 0, 1, 0, 0, 1, 0, 1, 1, 1, 1, 1, 1, 0, 0, 1, 1, 1, 1, 1, 0, 0, 1, 0, 0, 0, 1, 0, 1, 1, 1, 1, 0, 1, 0, 1, 1, 0, 1, 1, 0, 0, 1, 1, 0, 0, 1, 1, 1, 0, 1, 1, 1, 1, 1, 1], \"legendgroup\": \"\", \"name\": \"\", \"showlegend\": true, \"type\": \"pie\", \"values\": [1, 2, 3, 4, 6, 9, 10, 11, 13, 14, 15, 16, 17, 18, 20, 21, 23, 24, 25, 29, 30, 32, 33, 34, 35, 36, 37, 38, 39, 40, 42, 44, 46, 47, 48, 50, 52, 53, 54, 55, 56, 57, 58, 59, 60, 63, 65, 66, 67, 68, 69, 70, 72, 73, 74, 75, 77, 79, 80, 81, 83, 84, 85, 86, 87, 91, 93, 96, 97, 99, 100, 101, 102, 105, 106, 107, 108, 109, 110, 112, 113, 116, 117, 119, 120, 121, 123, 124, 125, 128, 129, 131, 132, 133, 134, 137, 138, 139, 140, 141, 142, 143, 144, 145, 146, 147, 148, 149, 151, 154, 155, 156, 157, 158, 159, 160, 161, 162, 165, 166, 169, 171, 172, 175, 176, 177, 178, 179, 180, 181, 183, 184, 187, 188, 189, 190, 191, 192, 196, 197, 200, 203, 205, 206, 207, 208, 209, 212, 213, 215, 216, 220, 224, 227, 229, 230, 233, 236, 237, 238, 240, 241, 244, 246, 247, 248, 249, 250, 251, 252, 253, 255, 259, 260, 264, 265, 266, 268, 269, 270, 271, 272, 273, 275, 276, 279, 281, 282, 284, 285, 286, 289, 290, 291, 293, 294, 296, 297, 299, 300, 301, 509, 749]}],\n",
              "                        {\"legend\": {\"tracegroupgap\": 0}, \"piecolorway\": [\"royalblue\", \"magenta\"], \"template\": {\"data\": {\"bar\": [{\"error_x\": {\"color\": \"#2a3f5f\"}, \"error_y\": {\"color\": \"#2a3f5f\"}, \"marker\": {\"line\": {\"color\": \"#E5ECF6\", \"width\": 0.5}}, \"type\": \"bar\"}], \"barpolar\": [{\"marker\": {\"line\": {\"color\": \"#E5ECF6\", \"width\": 0.5}}, \"type\": \"barpolar\"}], \"carpet\": [{\"aaxis\": {\"endlinecolor\": \"#2a3f5f\", \"gridcolor\": \"white\", \"linecolor\": \"white\", \"minorgridcolor\": \"white\", \"startlinecolor\": \"#2a3f5f\"}, \"baxis\": {\"endlinecolor\": \"#2a3f5f\", \"gridcolor\": \"white\", \"linecolor\": \"white\", \"minorgridcolor\": \"white\", \"startlinecolor\": \"#2a3f5f\"}, \"type\": \"carpet\"}], \"choropleth\": [{\"colorbar\": {\"outlinewidth\": 0, \"ticks\": \"\"}, \"type\": \"choropleth\"}], \"contour\": [{\"colorbar\": {\"outlinewidth\": 0, \"ticks\": \"\"}, \"colorscale\": [[0.0, \"#0d0887\"], [0.1111111111111111, \"#46039f\"], [0.2222222222222222, \"#7201a8\"], [0.3333333333333333, \"#9c179e\"], [0.4444444444444444, \"#bd3786\"], [0.5555555555555556, \"#d8576b\"], [0.6666666666666666, \"#ed7953\"], [0.7777777777777778, \"#fb9f3a\"], [0.8888888888888888, \"#fdca26\"], [1.0, \"#f0f921\"]], \"type\": \"contour\"}], \"contourcarpet\": [{\"colorbar\": {\"outlinewidth\": 0, \"ticks\": \"\"}, \"type\": \"contourcarpet\"}], \"heatmap\": [{\"colorbar\": {\"outlinewidth\": 0, \"ticks\": \"\"}, \"colorscale\": [[0.0, \"#0d0887\"], [0.1111111111111111, \"#46039f\"], [0.2222222222222222, \"#7201a8\"], [0.3333333333333333, \"#9c179e\"], [0.4444444444444444, \"#bd3786\"], [0.5555555555555556, \"#d8576b\"], [0.6666666666666666, \"#ed7953\"], [0.7777777777777778, \"#fb9f3a\"], [0.8888888888888888, \"#fdca26\"], [1.0, \"#f0f921\"]], \"type\": \"heatmap\"}], \"heatmapgl\": [{\"colorbar\": {\"outlinewidth\": 0, \"ticks\": \"\"}, \"colorscale\": [[0.0, \"#0d0887\"], [0.1111111111111111, \"#46039f\"], [0.2222222222222222, \"#7201a8\"], [0.3333333333333333, \"#9c179e\"], [0.4444444444444444, \"#bd3786\"], [0.5555555555555556, \"#d8576b\"], [0.6666666666666666, \"#ed7953\"], [0.7777777777777778, \"#fb9f3a\"], [0.8888888888888888, \"#fdca26\"], [1.0, \"#f0f921\"]], \"type\": \"heatmapgl\"}], \"histogram\": [{\"marker\": {\"colorbar\": {\"outlinewidth\": 0, \"ticks\": \"\"}}, \"type\": \"histogram\"}], \"histogram2d\": [{\"colorbar\": {\"outlinewidth\": 0, \"ticks\": \"\"}, \"colorscale\": [[0.0, \"#0d0887\"], [0.1111111111111111, \"#46039f\"], [0.2222222222222222, \"#7201a8\"], [0.3333333333333333, \"#9c179e\"], [0.4444444444444444, \"#bd3786\"], [0.5555555555555556, \"#d8576b\"], [0.6666666666666666, \"#ed7953\"], [0.7777777777777778, \"#fb9f3a\"], [0.8888888888888888, \"#fdca26\"], [1.0, \"#f0f921\"]], \"type\": \"histogram2d\"}], \"histogram2dcontour\": [{\"colorbar\": {\"outlinewidth\": 0, \"ticks\": \"\"}, \"colorscale\": [[0.0, \"#0d0887\"], [0.1111111111111111, \"#46039f\"], [0.2222222222222222, \"#7201a8\"], [0.3333333333333333, \"#9c179e\"], [0.4444444444444444, \"#bd3786\"], [0.5555555555555556, \"#d8576b\"], [0.6666666666666666, \"#ed7953\"], [0.7777777777777778, \"#fb9f3a\"], [0.8888888888888888, \"#fdca26\"], [1.0, \"#f0f921\"]], \"type\": \"histogram2dcontour\"}], \"mesh3d\": [{\"colorbar\": {\"outlinewidth\": 0, \"ticks\": \"\"}, \"type\": \"mesh3d\"}], \"parcoords\": [{\"line\": {\"colorbar\": {\"outlinewidth\": 0, \"ticks\": \"\"}}, \"type\": \"parcoords\"}], \"pie\": [{\"automargin\": true, \"type\": \"pie\"}], \"scatter\": [{\"marker\": {\"colorbar\": {\"outlinewidth\": 0, \"ticks\": \"\"}}, \"type\": \"scatter\"}], \"scatter3d\": [{\"line\": {\"colorbar\": {\"outlinewidth\": 0, \"ticks\": \"\"}}, \"marker\": {\"colorbar\": {\"outlinewidth\": 0, \"ticks\": \"\"}}, \"type\": \"scatter3d\"}], \"scattercarpet\": [{\"marker\": {\"colorbar\": {\"outlinewidth\": 0, \"ticks\": \"\"}}, \"type\": \"scattercarpet\"}], \"scattergeo\": [{\"marker\": {\"colorbar\": {\"outlinewidth\": 0, \"ticks\": \"\"}}, \"type\": \"scattergeo\"}], \"scattergl\": [{\"marker\": {\"colorbar\": {\"outlinewidth\": 0, \"ticks\": \"\"}}, \"type\": \"scattergl\"}], \"scattermapbox\": [{\"marker\": {\"colorbar\": {\"outlinewidth\": 0, \"ticks\": \"\"}}, \"type\": \"scattermapbox\"}], \"scatterpolar\": [{\"marker\": {\"colorbar\": {\"outlinewidth\": 0, \"ticks\": \"\"}}, \"type\": \"scatterpolar\"}], \"scatterpolargl\": [{\"marker\": {\"colorbar\": {\"outlinewidth\": 0, \"ticks\": \"\"}}, \"type\": \"scatterpolargl\"}], \"scatterternary\": [{\"marker\": {\"colorbar\": {\"outlinewidth\": 0, \"ticks\": \"\"}}, \"type\": \"scatterternary\"}], \"surface\": [{\"colorbar\": {\"outlinewidth\": 0, \"ticks\": \"\"}, \"colorscale\": [[0.0, \"#0d0887\"], [0.1111111111111111, \"#46039f\"], [0.2222222222222222, \"#7201a8\"], [0.3333333333333333, \"#9c179e\"], [0.4444444444444444, \"#bd3786\"], [0.5555555555555556, \"#d8576b\"], [0.6666666666666666, \"#ed7953\"], [0.7777777777777778, \"#fb9f3a\"], [0.8888888888888888, \"#fdca26\"], [1.0, \"#f0f921\"]], \"type\": \"surface\"}], \"table\": [{\"cells\": {\"fill\": {\"color\": \"#EBF0F8\"}, \"line\": {\"color\": \"white\"}}, \"header\": {\"fill\": {\"color\": \"#C8D4E3\"}, \"line\": {\"color\": \"white\"}}, \"type\": \"table\"}]}, \"layout\": {\"annotationdefaults\": {\"arrowcolor\": \"#2a3f5f\", \"arrowhead\": 0, \"arrowwidth\": 1}, \"coloraxis\": {\"colorbar\": {\"outlinewidth\": 0, \"ticks\": \"\"}}, \"colorscale\": {\"diverging\": [[0, \"#8e0152\"], [0.1, \"#c51b7d\"], [0.2, \"#de77ae\"], [0.3, \"#f1b6da\"], [0.4, \"#fde0ef\"], [0.5, \"#f7f7f7\"], [0.6, \"#e6f5d0\"], [0.7, \"#b8e186\"], [0.8, \"#7fbc41\"], [0.9, \"#4d9221\"], [1, \"#276419\"]], \"sequential\": [[0.0, \"#0d0887\"], [0.1111111111111111, \"#46039f\"], [0.2222222222222222, \"#7201a8\"], [0.3333333333333333, \"#9c179e\"], [0.4444444444444444, \"#bd3786\"], [0.5555555555555556, \"#d8576b\"], [0.6666666666666666, \"#ed7953\"], [0.7777777777777778, \"#fb9f3a\"], [0.8888888888888888, \"#fdca26\"], [1.0, \"#f0f921\"]], \"sequentialminus\": [[0.0, \"#0d0887\"], [0.1111111111111111, \"#46039f\"], [0.2222222222222222, \"#7201a8\"], [0.3333333333333333, \"#9c179e\"], [0.4444444444444444, \"#bd3786\"], [0.5555555555555556, \"#d8576b\"], [0.6666666666666666, \"#ed7953\"], [0.7777777777777778, \"#fb9f3a\"], [0.8888888888888888, \"#fdca26\"], [1.0, \"#f0f921\"]]}, \"colorway\": [\"#636efa\", \"#EF553B\", \"#00cc96\", \"#ab63fa\", \"#FFA15A\", \"#19d3f3\", \"#FF6692\", \"#B6E880\", \"#FF97FF\", \"#FECB52\"], \"font\": {\"color\": \"#2a3f5f\"}, \"geo\": {\"bgcolor\": \"white\", \"lakecolor\": \"white\", \"landcolor\": \"#E5ECF6\", \"showlakes\": true, \"showland\": true, \"subunitcolor\": \"white\"}, \"hoverlabel\": {\"align\": \"left\"}, \"hovermode\": \"closest\", \"mapbox\": {\"style\": \"light\"}, \"paper_bgcolor\": \"white\", \"plot_bgcolor\": \"#E5ECF6\", \"polar\": {\"angularaxis\": {\"gridcolor\": \"white\", \"linecolor\": \"white\", \"ticks\": \"\"}, \"bgcolor\": \"#E5ECF6\", \"radialaxis\": {\"gridcolor\": \"white\", \"linecolor\": \"white\", \"ticks\": \"\"}}, \"scene\": {\"xaxis\": {\"backgroundcolor\": \"#E5ECF6\", \"gridcolor\": \"white\", \"gridwidth\": 2, \"linecolor\": \"white\", \"showbackground\": true, \"ticks\": \"\", \"zerolinecolor\": \"white\"}, \"yaxis\": {\"backgroundcolor\": \"#E5ECF6\", \"gridcolor\": \"white\", \"gridwidth\": 2, \"linecolor\": \"white\", \"showbackground\": true, \"ticks\": \"\", \"zerolinecolor\": \"white\"}, \"zaxis\": {\"backgroundcolor\": \"#E5ECF6\", \"gridcolor\": \"white\", \"gridwidth\": 2, \"linecolor\": \"white\", \"showbackground\": true, \"ticks\": \"\", \"zerolinecolor\": \"white\"}}, \"shapedefaults\": {\"line\": {\"color\": \"#2a3f5f\"}}, \"ternary\": {\"aaxis\": {\"gridcolor\": \"white\", \"linecolor\": \"white\", \"ticks\": \"\"}, \"baxis\": {\"gridcolor\": \"white\", \"linecolor\": \"white\", \"ticks\": \"\"}, \"bgcolor\": \"#E5ECF6\", \"caxis\": {\"gridcolor\": \"white\", \"linecolor\": \"white\", \"ticks\": \"\"}}, \"title\": {\"x\": 0.05}, \"xaxis\": {\"automargin\": true, \"gridcolor\": \"white\", \"linecolor\": \"white\", \"ticks\": \"\", \"title\": {\"standoff\": 15}, \"zerolinecolor\": \"white\", \"zerolinewidth\": 2}, \"yaxis\": {\"automargin\": true, \"gridcolor\": \"white\", \"linecolor\": \"white\", \"ticks\": \"\", \"title\": {\"standoff\": 15}, \"zerolinecolor\": \"white\", \"zerolinewidth\": 2}}}, \"title\": {\"text\": \"Amount of Heart Disease in male\"}},\n",
              "                        {\"responsive\": true}\n",
              "                    ).then(function(){\n",
              "                            \n",
              "var gd = document.getElementById('4d1c9049-e3a1-471b-a1b6-1e2d72b8fe49');\n",
              "var x = new MutationObserver(function (mutations, observer) {{\n",
              "        var display = window.getComputedStyle(gd).display;\n",
              "        if (!display || display === 'none') {{\n",
              "            console.log([gd, 'removed!']);\n",
              "            Plotly.purge(gd);\n",
              "            observer.disconnect();\n",
              "        }}\n",
              "}});\n",
              "\n",
              "// Listen for the removal of the full notebook cells\n",
              "var notebookContainer = gd.closest('#notebook-container');\n",
              "if (notebookContainer) {{\n",
              "    x.observe(notebookContainer, {childList: true});\n",
              "}}\n",
              "\n",
              "// Listen for the clearing of the current output cell\n",
              "var outputEl = gd.closest('.output');\n",
              "if (outputEl) {{\n",
              "    x.observe(outputEl, {childList: true});\n",
              "}}\n",
              "\n",
              "                        })\n",
              "                };\n",
              "                \n",
              "            </script>\n",
              "        </div>\n",
              "</body>\n",
              "</html>"
            ]
          },
          "metadata": {}
        }
      ]
    },
    {
      "cell_type": "code",
      "metadata": {
        "colab": {
          "base_uri": "https://localhost:8080/",
          "height": 542
        },
        "id": "pF24QqR6SMhy",
        "outputId": "29793f8b-f157-4c46-bf47-9c578467a439"
      },
      "source": [
        "cp = px.histogram(df ,x = 'cp', color='num', barmode='group', \n",
        "                    category_orders = {'num': [0,1,2,3,4]}, \n",
        "                    title='Number of Heart Disease by chest pain type',\n",
        "                    labels={'cp':'Chest Pain Type', 'num':'Diagnosis of heart disease'})\n",
        "cp.update_layout(legend=dict(\n",
        "                        orientation=\"h\",\n",
        "                        yanchor=\"bottom\", y=1.02,\n",
        "                        xanchor=\"right\", x=1))"
      ],
      "execution_count": null,
      "outputs": [
        {
          "output_type": "display_data",
          "data": {
            "text/html": [
              "<html>\n",
              "<head><meta charset=\"utf-8\" /></head>\n",
              "<body>\n",
              "    <div>\n",
              "            <script src=\"https://cdnjs.cloudflare.com/ajax/libs/mathjax/2.7.5/MathJax.js?config=TeX-AMS-MML_SVG\"></script><script type=\"text/javascript\">if (window.MathJax) {MathJax.Hub.Config({SVG: {font: \"STIX-Web\"}});}</script>\n",
              "                <script type=\"text/javascript\">window.PlotlyConfig = {MathJaxConfig: 'local'};</script>\n",
              "        <script src=\"https://cdn.plot.ly/plotly-latest.min.js\"></script>    \n",
              "            <div id=\"90223ea7-4279-4176-8b16-ddeb739a3d96\" class=\"plotly-graph-div\" style=\"height:525px; width:100%;\"></div>\n",
              "            <script type=\"text/javascript\">\n",
              "                \n",
              "                    window.PLOTLYENV=window.PLOTLYENV || {};\n",
              "                    \n",
              "                if (document.getElementById(\"90223ea7-4279-4176-8b16-ddeb739a3d96\")) {\n",
              "                    Plotly.newPlot(\n",
              "                        '90223ea7-4279-4176-8b16-ddeb739a3d96',\n",
              "                        [{\"alignmentgroup\": \"True\", \"bingroup\": \"x\", \"hoverlabel\": {\"namelength\": 0}, \"hovertemplate\": \"Diagnosis of heart disease=0<br>Chest Pain Type=%{x}<br>count=%{y}\", \"legendgroup\": \"Diagnosis of heart disease=0\", \"marker\": {\"color\": \"#636efa\"}, \"name\": \"Diagnosis of heart disease=0\", \"offsetgroup\": \"Diagnosis of heart disease=0\", \"orientation\": \"v\", \"showlegend\": true, \"type\": \"histogram\", \"x\": [\"typical angina\", \"non-anginal\", \"atypical angina\", \"atypical angina\", \"asymptomatic\", \"asymptomatic\", \"atypical angina\", \"atypical angina\", \"non-anginal\", \"non-anginal\", \"asymptomatic\", \"non-anginal\", \"atypical angina\", \"typical angina\", \"typical angina\", \"non-anginal\", \"non-anginal\", \"typical angina\", \"asymptomatic\", \"typical angina\", \"asymptomatic\", \"non-anginal\", \"asymptomatic\", \"non-anginal\", \"typical angina\", \"atypical angina\", \"non-anginal\", \"non-anginal\", \"non-anginal\", \"non-anginal\", \"atypical angina\", \"asymptomatic\", \"atypical angina\", \"non-anginal\", \"typical angina\", \"non-anginal\", \"non-anginal\", \"non-anginal\", \"non-anginal\", \"non-anginal\", \"non-anginal\", \"atypical angina\", \"asymptomatic\", \"asymptomatic\", \"non-anginal\", \"atypical angina\", \"non-anginal\", \"non-anginal\", \"non-anginal\", \"asymptomatic\", \"non-anginal\", \"asymptomatic\", \"non-anginal\", \"non-anginal\", \"non-anginal\", \"atypical angina\", \"asymptomatic\", \"asymptomatic\", \"typical angina\", \"asymptomatic\", \"non-anginal\", \"atypical angina\", \"typical angina\", \"atypical angina\", \"non-anginal\", \"asymptomatic\", \"non-anginal\", \"atypical angina\", \"atypical angina\", \"asymptomatic\", \"non-anginal\", \"non-anginal\", \"atypical angina\", \"asymptomatic\", \"non-anginal\", \"atypical angina\", \"non-anginal\", \"atypical angina\", \"atypical angina\", \"non-anginal\", \"non-anginal\", \"atypical angina\", \"non-anginal\", \"typical angina\", \"asymptomatic\", \"non-anginal\", \"non-anginal\", \"atypical angina\", \"non-anginal\", \"asymptomatic\", \"non-anginal\", \"asymptomatic\", \"non-anginal\", \"atypical angina\", \"atypical angina\", \"asymptomatic\", \"asymptomatic\", \"asymptomatic\", \"non-anginal\", \"non-anginal\", \"typical angina\", \"typical angina\", \"atypical angina\", \"non-anginal\", \"non-anginal\", \"non-anginal\", \"typical angina\", \"asymptomatic\", \"atypical angina\", \"asymptomatic\", \"asymptomatic\", \"non-anginal\", \"non-anginal\", \"asymptomatic\", \"atypical angina\", \"non-anginal\", \"non-anginal\", \"typical angina\", \"atypical angina\", \"asymptomatic\", \"asymptomatic\", \"asymptomatic\", \"non-anginal\", \"non-anginal\", \"non-anginal\", \"atypical angina\", \"asymptomatic\", \"non-anginal\", \"non-anginal\", \"atypical angina\", \"non-anginal\", \"atypical angina\", \"atypical angina\", \"atypical angina\", \"atypical angina\", \"asymptomatic\", \"non-anginal\", \"atypical angina\", \"asymptomatic\", \"asymptomatic\", \"non-anginal\", \"asymptomatic\", \"non-anginal\", \"asymptomatic\", \"non-anginal\", \"atypical angina\", \"non-anginal\", \"typical angina\", \"non-anginal\", \"non-anginal\", \"asymptomatic\", \"asymptomatic\", \"typical angina\", \"non-anginal\", \"non-anginal\", \"asymptomatic\", \"non-anginal\", \"atypical angina\", \"atypical angina\", \"atypical angina\", \"atypical angina\", \"atypical angina\", \"atypical angina\", \"non-anginal\", \"atypical angina\", \"atypical angina\", \"atypical angina\", \"typical angina\", \"atypical angina\", \"atypical angina\", \"atypical angina\", \"atypical angina\", \"non-anginal\", \"atypical angina\", \"atypical angina\", \"atypical angina\", \"typical angina\", \"asymptomatic\", \"atypical angina\", \"atypical angina\", \"atypical angina\", \"non-anginal\", \"non-anginal\", \"non-anginal\", \"atypical angina\", \"non-anginal\", \"asymptomatic\", \"atypical angina\", \"non-anginal\", \"asymptomatic\", \"asymptomatic\", \"atypical angina\", \"atypical angina\", \"non-anginal\", \"non-anginal\", \"atypical angina\", \"atypical angina\", \"atypical angina\", \"atypical angina\", \"atypical angina\", \"non-anginal\", \"non-anginal\", \"asymptomatic\", \"asymptomatic\", \"atypical angina\", \"atypical angina\", \"non-anginal\", \"non-anginal\", \"non-anginal\", \"atypical angina\", \"atypical angina\", \"atypical angina\", \"atypical angina\", \"atypical angina\", \"atypical angina\", \"asymptomatic\", \"non-anginal\", \"atypical angina\", \"atypical angina\", \"atypical angina\", \"non-anginal\", \"non-anginal\", \"asymptomatic\", \"typical angina\", \"atypical angina\", \"atypical angina\", \"atypical angina\", \"atypical angina\", \"atypical angina\", \"non-anginal\", \"atypical angina\", \"asymptomatic\", \"atypical angina\", \"atypical angina\", \"asymptomatic\", \"atypical angina\", \"atypical angina\", \"asymptomatic\", \"atypical angina\", \"non-anginal\", \"asymptomatic\", \"asymptomatic\", \"asymptomatic\", \"atypical angina\", \"non-anginal\", \"non-anginal\", \"asymptomatic\", \"asymptomatic\", \"asymptomatic\", \"atypical angina\", \"non-anginal\", \"typical angina\", \"atypical angina\", \"asymptomatic\", \"atypical angina\", \"atypical angina\", \"atypical angina\", \"non-anginal\", \"asymptomatic\", \"asymptomatic\", \"asymptomatic\", \"atypical angina\", \"atypical angina\", \"atypical angina\", \"non-anginal\", \"atypical angina\", \"atypical angina\", \"atypical angina\", \"non-anginal\", \"atypical angina\", \"non-anginal\", \"asymptomatic\", \"asymptomatic\", \"atypical angina\", \"asymptomatic\", \"atypical angina\", \"atypical angina\", \"atypical angina\", \"asymptomatic\", \"asymptomatic\", \"atypical angina\", \"non-anginal\", \"non-anginal\", \"non-anginal\", \"atypical angina\", \"atypical angina\", \"asymptomatic\", \"atypical angina\", \"atypical angina\", \"non-anginal\", \"asymptomatic\", \"atypical angina\", \"atypical angina\", \"atypical angina\", \"non-anginal\", \"atypical angina\", \"atypical angina\", \"non-anginal\", \"atypical angina\", \"atypical angina\", \"non-anginal\", \"asymptomatic\", \"asymptomatic\", \"asymptomatic\", \"atypical angina\", \"atypical angina\", \"atypical angina\", \"atypical angina\", \"atypical angina\", \"atypical angina\", \"atypical angina\", \"typical angina\", \"atypical angina\", \"atypical angina\", \"atypical angina\", \"atypical angina\", \"atypical angina\", \"non-anginal\", \"non-anginal\", \"asymptomatic\", \"atypical angina\", \"atypical angina\", \"atypical angina\", \"atypical angina\", \"atypical angina\", \"atypical angina\", \"non-anginal\", \"non-anginal\", \"asymptomatic\", \"asymptomatic\", \"non-anginal\", \"atypical angina\", \"non-anginal\", \"non-anginal\", \"asymptomatic\", \"typical angina\", \"asymptomatic\", \"atypical angina\", \"atypical angina\", \"atypical angina\", \"non-anginal\", \"asymptomatic\", \"atypical angina\", \"atypical angina\", \"non-anginal\", \"non-anginal\", \"asymptomatic\", \"non-anginal\", \"asymptomatic\", \"asymptomatic\", \"typical angina\", \"atypical angina\", \"non-anginal\", \"non-anginal\", \"atypical angina\", \"asymptomatic\", \"atypical angina\", \"non-anginal\", \"asymptomatic\", \"non-anginal\", \"asymptomatic\", \"non-anginal\", \"non-anginal\", \"non-anginal\", \"atypical angina\", \"asymptomatic\", \"asymptomatic\", \"asymptomatic\", \"non-anginal\", \"asymptomatic\", \"asymptomatic\", \"asymptomatic\", \"asymptomatic\", \"non-anginal\", \"atypical angina\", \"atypical angina\", \"atypical angina\", \"asymptomatic\", \"atypical angina\", \"typical angina\", \"asymptomatic\", \"asymptomatic\", \"non-anginal\", \"asymptomatic\", \"non-anginal\", \"non-anginal\", \"asymptomatic\", \"asymptomatic\", \"non-anginal\", \"atypical angina\", \"asymptomatic\", \"atypical angina\", \"asymptomatic\", \"typical angina\", \"non-anginal\", \"non-anginal\", \"asymptomatic\", \"non-anginal\", \"atypical angina\", \"asymptomatic\", \"asymptomatic\", \"non-anginal\", \"non-anginal\", \"atypical angina\", \"asymptomatic\", \"non-anginal\", \"asymptomatic\", \"non-anginal\", \"asymptomatic\", \"typical angina\", \"asymptomatic\"], \"xaxis\": \"x\", \"yaxis\": \"y\"}, {\"alignmentgroup\": \"True\", \"bingroup\": \"x\", \"hoverlabel\": {\"namelength\": 0}, \"hovertemplate\": \"Diagnosis of heart disease=1<br>Chest Pain Type=%{x}<br>count=%{y}\", \"legendgroup\": \"Diagnosis of heart disease=1\", \"marker\": {\"color\": \"#EF553B\"}, \"name\": \"Diagnosis of heart disease=1\", \"offsetgroup\": \"Diagnosis of heart disease=1\", \"orientation\": \"v\", \"showlegend\": true, \"type\": \"histogram\", \"x\": [\"asymptomatic\", \"asymptomatic\", \"asymptomatic\", \"asymptomatic\", \"asymptomatic\", \"non-anginal\", \"atypical angina\", \"atypical angina\", \"non-anginal\", \"asymptomatic\", \"asymptomatic\", \"asymptomatic\", \"non-anginal\", \"asymptomatic\", \"asymptomatic\", \"asymptomatic\", \"asymptomatic\", \"asymptomatic\", \"non-anginal\", \"asymptomatic\", \"asymptomatic\", \"asymptomatic\", \"asymptomatic\", \"non-anginal\", \"asymptomatic\", \"asymptomatic\", \"asymptomatic\", \"asymptomatic\", \"asymptomatic\", \"non-anginal\", \"asymptomatic\", \"non-anginal\", \"asymptomatic\", \"asymptomatic\", \"asymptomatic\", \"asymptomatic\", \"asymptomatic\", \"asymptomatic\", \"non-anginal\", \"asymptomatic\", \"asymptomatic\", \"asymptomatic\", \"asymptomatic\", \"non-anginal\", \"asymptomatic\", \"non-anginal\", \"asymptomatic\", \"asymptomatic\", \"asymptomatic\", \"asymptomatic\", \"asymptomatic\", \"non-anginal\", \"asymptomatic\", \"asymptomatic\", \"asymptomatic\", \"asymptomatic\", \"asymptomatic\", \"typical angina\", \"asymptomatic\", \"asymptomatic\", \"asymptomatic\", \"atypical angina\", \"asymptomatic\", \"typical angina\", \"non-anginal\", \"non-anginal\", \"asymptomatic\", \"asymptomatic\", \"asymptomatic\", \"asymptomatic\", \"asymptomatic\", \"asymptomatic\", \"asymptomatic\", \"asymptomatic\", \"asymptomatic\", \"non-anginal\", \"asymptomatic\", \"asymptomatic\", \"asymptomatic\", \"asymptomatic\", \"asymptomatic\", \"asymptomatic\", \"asymptomatic\", \"atypical angina\", \"atypical angina\", \"non-anginal\", \"asymptomatic\", \"asymptomatic\", \"asymptomatic\", \"asymptomatic\", \"typical angina\", \"asymptomatic\", \"asymptomatic\", \"asymptomatic\", \"asymptomatic\", \"typical angina\", \"asymptomatic\", \"asymptomatic\", \"asymptomatic\", \"asymptomatic\", \"asymptomatic\", \"asymptomatic\", \"asymptomatic\", \"non-anginal\", \"asymptomatic\", \"asymptomatic\", \"asymptomatic\", \"typical angina\", \"asymptomatic\", \"asymptomatic\", \"asymptomatic\", \"asymptomatic\", \"asymptomatic\", \"atypical angina\", \"atypical angina\", \"asymptomatic\", \"asymptomatic\", \"asymptomatic\", \"non-anginal\", \"asymptomatic\", \"asymptomatic\", \"asymptomatic\", \"typical angina\", \"atypical angina\", \"asymptomatic\", \"asymptomatic\", \"asymptomatic\", \"asymptomatic\", \"asymptomatic\", \"non-anginal\", \"asymptomatic\", \"asymptomatic\", \"asymptomatic\", \"asymptomatic\", \"asymptomatic\", \"typical angina\", \"asymptomatic\", \"asymptomatic\", \"atypical angina\", \"asymptomatic\", \"asymptomatic\", \"typical angina\", \"atypical angina\", \"atypical angina\", \"asymptomatic\", \"asymptomatic\", \"asymptomatic\", \"asymptomatic\", \"asymptomatic\", \"asymptomatic\", \"asymptomatic\", \"asymptomatic\", \"asymptomatic\", \"asymptomatic\", \"asymptomatic\", \"non-anginal\", \"asymptomatic\", \"asymptomatic\", \"asymptomatic\", \"asymptomatic\", \"non-anginal\", \"non-anginal\", \"asymptomatic\", \"non-anginal\", \"asymptomatic\", \"asymptomatic\", \"asymptomatic\", \"asymptomatic\", \"asymptomatic\", \"asymptomatic\", \"atypical angina\", \"non-anginal\", \"asymptomatic\", \"asymptomatic\", \"asymptomatic\", \"asymptomatic\", \"asymptomatic\", \"asymptomatic\", \"asymptomatic\", \"asymptomatic\", \"typical angina\", \"asymptomatic\", \"asymptomatic\", \"asymptomatic\", \"asymptomatic\", \"asymptomatic\", \"asymptomatic\", \"asymptomatic\", \"asymptomatic\", \"asymptomatic\", \"asymptomatic\", \"asymptomatic\", \"non-anginal\", \"asymptomatic\", \"asymptomatic\", \"asymptomatic\", \"asymptomatic\", \"asymptomatic\", \"asymptomatic\", \"asymptomatic\", \"non-anginal\", \"asymptomatic\", \"asymptomatic\", \"asymptomatic\", \"atypical angina\", \"asymptomatic\", \"typical angina\", \"non-anginal\", \"asymptomatic\", \"asymptomatic\", \"asymptomatic\", \"non-anginal\", \"asymptomatic\", \"asymptomatic\", \"asymptomatic\", \"asymptomatic\", \"non-anginal\", \"asymptomatic\", \"asymptomatic\", \"typical angina\", \"atypical angina\", \"asymptomatic\", \"atypical angina\", \"asymptomatic\", \"asymptomatic\", \"atypical angina\", \"asymptomatic\", \"asymptomatic\", \"asymptomatic\", \"asymptomatic\", \"asymptomatic\", \"asymptomatic\", \"asymptomatic\", \"asymptomatic\", \"asymptomatic\", \"asymptomatic\", \"asymptomatic\", \"asymptomatic\", \"asymptomatic\", \"asymptomatic\", \"asymptomatic\", \"non-anginal\", \"asymptomatic\", \"atypical angina\", \"asymptomatic\", \"typical angina\", \"asymptomatic\", \"asymptomatic\", \"asymptomatic\", \"asymptomatic\", \"asymptomatic\", \"non-anginal\", \"asymptomatic\", \"asymptomatic\", \"asymptomatic\", \"asymptomatic\", \"asymptomatic\", \"asymptomatic\", \"asymptomatic\", \"asymptomatic\", \"asymptomatic\", \"asymptomatic\", \"asymptomatic\", \"non-anginal\", \"non-anginal\", \"asymptomatic\", \"asymptomatic\", \"asymptomatic\", \"asymptomatic\", \"asymptomatic\", \"asymptomatic\", \"asymptomatic\", \"asymptomatic\", \"asymptomatic\", \"asymptomatic\", \"asymptomatic\", \"asymptomatic\", \"asymptomatic\", \"asymptomatic\", \"asymptomatic\", \"asymptomatic\", \"asymptomatic\", \"asymptomatic\", \"atypical angina\", \"non-anginal\", \"non-anginal\", \"asymptomatic\", \"asymptomatic\", \"asymptomatic\", \"asymptomatic\", \"asymptomatic\", \"asymptomatic\", \"asymptomatic\", \"asymptomatic\", \"asymptomatic\", \"non-anginal\", \"non-anginal\", \"asymptomatic\", \"asymptomatic\", \"asymptomatic\", \"asymptomatic\", \"asymptomatic\", \"non-anginal\", \"asymptomatic\", \"asymptomatic\", \"asymptomatic\", \"asymptomatic\", \"asymptomatic\", \"asymptomatic\", \"asymptomatic\", \"asymptomatic\", \"non-anginal\", \"asymptomatic\", \"asymptomatic\", \"asymptomatic\", \"asymptomatic\", \"non-anginal\", \"asymptomatic\", \"asymptomatic\", \"asymptomatic\", \"asymptomatic\", \"asymptomatic\", \"non-anginal\", \"asymptomatic\", \"asymptomatic\", \"asymptomatic\", \"asymptomatic\", \"asymptomatic\", \"asymptomatic\", \"asymptomatic\", \"asymptomatic\", \"typical angina\", \"asymptomatic\", \"typical angina\", \"non-anginal\", \"asymptomatic\", \"asymptomatic\", \"asymptomatic\", \"asymptomatic\", \"asymptomatic\", \"asymptomatic\", \"asymptomatic\", \"asymptomatic\", \"asymptomatic\", \"asymptomatic\", \"asymptomatic\", \"asymptomatic\", \"asymptomatic\", \"asymptomatic\", \"asymptomatic\", \"asymptomatic\", \"typical angina\", \"asymptomatic\", \"asymptomatic\", \"asymptomatic\", \"asymptomatic\", \"asymptomatic\", \"asymptomatic\", \"non-anginal\", \"atypical angina\", \"asymptomatic\", \"asymptomatic\", \"asymptomatic\", \"asymptomatic\", \"non-anginal\", \"atypical angina\", \"asymptomatic\", \"asymptomatic\", \"non-anginal\", \"asymptomatic\", \"asymptomatic\", \"asymptomatic\", \"asymptomatic\", \"asymptomatic\", \"non-anginal\", \"non-anginal\", \"asymptomatic\", \"asymptomatic\", \"asymptomatic\", \"asymptomatic\", \"non-anginal\", \"asymptomatic\", \"asymptomatic\", \"asymptomatic\", \"non-anginal\", \"non-anginal\", \"asymptomatic\", \"asymptomatic\", \"asymptomatic\", \"non-anginal\", \"asymptomatic\", \"asymptomatic\", \"asymptomatic\", \"asymptomatic\", \"asymptomatic\", \"non-anginal\", \"non-anginal\", \"asymptomatic\", \"asymptomatic\", \"asymptomatic\", \"asymptomatic\", \"non-anginal\", \"asymptomatic\", \"asymptomatic\", \"asymptomatic\", \"non-anginal\", \"atypical angina\", \"non-anginal\", \"typical angina\", \"asymptomatic\", \"asymptomatic\", \"atypical angina\", \"asymptomatic\", \"asymptomatic\", \"non-anginal\", \"asymptomatic\", \"typical angina\", \"non-anginal\", \"asymptomatic\", \"asymptomatic\", \"asymptomatic\", \"asymptomatic\", \"asymptomatic\", \"asymptomatic\", \"asymptomatic\", \"asymptomatic\", \"asymptomatic\", \"non-anginal\", \"asymptomatic\", \"asymptomatic\", \"asymptomatic\", \"asymptomatic\", \"typical angina\", \"asymptomatic\", \"non-anginal\", \"asymptomatic\", \"non-anginal\", \"asymptomatic\", \"asymptomatic\", \"asymptomatic\", \"asymptomatic\", \"asymptomatic\", \"non-anginal\", \"asymptomatic\", \"asymptomatic\", \"asymptomatic\", \"asymptomatic\", \"asymptomatic\", \"asymptomatic\", \"asymptomatic\", \"non-anginal\", \"asymptomatic\", \"asymptomatic\", \"non-anginal\", \"non-anginal\", \"asymptomatic\", \"asymptomatic\", \"non-anginal\", \"typical angina\", \"asymptomatic\", \"asymptomatic\", \"non-anginal\", \"typical angina\", \"non-anginal\", \"non-anginal\", \"non-anginal\", \"asymptomatic\", \"asymptomatic\", \"asymptomatic\", \"asymptomatic\", \"asymptomatic\", \"asymptomatic\", \"asymptomatic\", \"asymptomatic\", \"asymptomatic\", \"asymptomatic\", \"asymptomatic\", \"asymptomatic\", \"asymptomatic\", \"asymptomatic\", \"asymptomatic\", \"asymptomatic\", \"asymptomatic\", \"asymptomatic\", \"asymptomatic\", \"asymptomatic\", \"asymptomatic\", \"atypical angina\", \"asymptomatic\", \"asymptomatic\", \"non-anginal\", \"asymptomatic\", \"asymptomatic\", \"asymptomatic\", \"asymptomatic\", \"asymptomatic\", \"asymptomatic\", \"asymptomatic\", \"non-anginal\", \"non-anginal\", \"non-anginal\", \"asymptomatic\", \"asymptomatic\", \"asymptomatic\", \"asymptomatic\", \"asymptomatic\", \"asymptomatic\", \"asymptomatic\", \"atypical angina\"], \"xaxis\": \"x\", \"yaxis\": \"y\"}],\n",
              "                        {\"barmode\": \"group\", \"legend\": {\"orientation\": \"h\", \"tracegroupgap\": 0, \"x\": 1, \"xanchor\": \"right\", \"y\": 1.02, \"yanchor\": \"bottom\"}, \"template\": {\"data\": {\"bar\": [{\"error_x\": {\"color\": \"#2a3f5f\"}, \"error_y\": {\"color\": \"#2a3f5f\"}, \"marker\": {\"line\": {\"color\": \"#E5ECF6\", \"width\": 0.5}}, \"type\": \"bar\"}], \"barpolar\": [{\"marker\": {\"line\": {\"color\": \"#E5ECF6\", \"width\": 0.5}}, \"type\": \"barpolar\"}], \"carpet\": [{\"aaxis\": {\"endlinecolor\": \"#2a3f5f\", \"gridcolor\": \"white\", \"linecolor\": \"white\", \"minorgridcolor\": \"white\", \"startlinecolor\": \"#2a3f5f\"}, \"baxis\": {\"endlinecolor\": \"#2a3f5f\", \"gridcolor\": \"white\", \"linecolor\": \"white\", \"minorgridcolor\": \"white\", \"startlinecolor\": \"#2a3f5f\"}, \"type\": \"carpet\"}], \"choropleth\": [{\"colorbar\": {\"outlinewidth\": 0, \"ticks\": \"\"}, \"type\": \"choropleth\"}], \"contour\": [{\"colorbar\": {\"outlinewidth\": 0, \"ticks\": \"\"}, \"colorscale\": [[0.0, \"#0d0887\"], [0.1111111111111111, \"#46039f\"], [0.2222222222222222, \"#7201a8\"], [0.3333333333333333, \"#9c179e\"], [0.4444444444444444, \"#bd3786\"], [0.5555555555555556, \"#d8576b\"], [0.6666666666666666, \"#ed7953\"], [0.7777777777777778, \"#fb9f3a\"], [0.8888888888888888, \"#fdca26\"], [1.0, \"#f0f921\"]], \"type\": \"contour\"}], \"contourcarpet\": [{\"colorbar\": {\"outlinewidth\": 0, \"ticks\": \"\"}, \"type\": \"contourcarpet\"}], \"heatmap\": [{\"colorbar\": {\"outlinewidth\": 0, \"ticks\": \"\"}, \"colorscale\": [[0.0, \"#0d0887\"], [0.1111111111111111, \"#46039f\"], [0.2222222222222222, \"#7201a8\"], [0.3333333333333333, \"#9c179e\"], [0.4444444444444444, \"#bd3786\"], [0.5555555555555556, \"#d8576b\"], [0.6666666666666666, \"#ed7953\"], [0.7777777777777778, \"#fb9f3a\"], [0.8888888888888888, \"#fdca26\"], [1.0, \"#f0f921\"]], \"type\": \"heatmap\"}], \"heatmapgl\": [{\"colorbar\": {\"outlinewidth\": 0, \"ticks\": \"\"}, \"colorscale\": [[0.0, \"#0d0887\"], [0.1111111111111111, \"#46039f\"], [0.2222222222222222, \"#7201a8\"], [0.3333333333333333, \"#9c179e\"], [0.4444444444444444, \"#bd3786\"], [0.5555555555555556, \"#d8576b\"], [0.6666666666666666, \"#ed7953\"], [0.7777777777777778, \"#fb9f3a\"], [0.8888888888888888, \"#fdca26\"], [1.0, \"#f0f921\"]], \"type\": \"heatmapgl\"}], \"histogram\": [{\"marker\": {\"colorbar\": {\"outlinewidth\": 0, \"ticks\": \"\"}}, \"type\": \"histogram\"}], \"histogram2d\": [{\"colorbar\": {\"outlinewidth\": 0, \"ticks\": \"\"}, \"colorscale\": [[0.0, \"#0d0887\"], [0.1111111111111111, \"#46039f\"], [0.2222222222222222, \"#7201a8\"], [0.3333333333333333, \"#9c179e\"], [0.4444444444444444, \"#bd3786\"], [0.5555555555555556, \"#d8576b\"], [0.6666666666666666, \"#ed7953\"], [0.7777777777777778, \"#fb9f3a\"], [0.8888888888888888, \"#fdca26\"], [1.0, \"#f0f921\"]], \"type\": \"histogram2d\"}], \"histogram2dcontour\": [{\"colorbar\": {\"outlinewidth\": 0, \"ticks\": \"\"}, \"colorscale\": [[0.0, \"#0d0887\"], [0.1111111111111111, \"#46039f\"], [0.2222222222222222, \"#7201a8\"], [0.3333333333333333, \"#9c179e\"], [0.4444444444444444, \"#bd3786\"], [0.5555555555555556, \"#d8576b\"], [0.6666666666666666, \"#ed7953\"], [0.7777777777777778, \"#fb9f3a\"], [0.8888888888888888, \"#fdca26\"], [1.0, \"#f0f921\"]], \"type\": \"histogram2dcontour\"}], \"mesh3d\": [{\"colorbar\": {\"outlinewidth\": 0, \"ticks\": \"\"}, \"type\": \"mesh3d\"}], \"parcoords\": [{\"line\": {\"colorbar\": {\"outlinewidth\": 0, \"ticks\": \"\"}}, \"type\": \"parcoords\"}], \"pie\": [{\"automargin\": true, \"type\": \"pie\"}], \"scatter\": [{\"marker\": {\"colorbar\": {\"outlinewidth\": 0, \"ticks\": \"\"}}, \"type\": \"scatter\"}], \"scatter3d\": [{\"line\": {\"colorbar\": {\"outlinewidth\": 0, \"ticks\": \"\"}}, \"marker\": {\"colorbar\": {\"outlinewidth\": 0, \"ticks\": \"\"}}, \"type\": \"scatter3d\"}], \"scattercarpet\": [{\"marker\": {\"colorbar\": {\"outlinewidth\": 0, \"ticks\": \"\"}}, \"type\": \"scattercarpet\"}], \"scattergeo\": [{\"marker\": {\"colorbar\": {\"outlinewidth\": 0, \"ticks\": \"\"}}, \"type\": \"scattergeo\"}], \"scattergl\": [{\"marker\": {\"colorbar\": {\"outlinewidth\": 0, \"ticks\": \"\"}}, \"type\": \"scattergl\"}], \"scattermapbox\": [{\"marker\": {\"colorbar\": {\"outlinewidth\": 0, \"ticks\": \"\"}}, \"type\": \"scattermapbox\"}], \"scatterpolar\": [{\"marker\": {\"colorbar\": {\"outlinewidth\": 0, \"ticks\": \"\"}}, \"type\": \"scatterpolar\"}], \"scatterpolargl\": [{\"marker\": {\"colorbar\": {\"outlinewidth\": 0, \"ticks\": \"\"}}, \"type\": \"scatterpolargl\"}], \"scatterternary\": [{\"marker\": {\"colorbar\": {\"outlinewidth\": 0, \"ticks\": \"\"}}, \"type\": \"scatterternary\"}], \"surface\": [{\"colorbar\": {\"outlinewidth\": 0, \"ticks\": \"\"}, \"colorscale\": [[0.0, \"#0d0887\"], [0.1111111111111111, \"#46039f\"], [0.2222222222222222, \"#7201a8\"], [0.3333333333333333, \"#9c179e\"], [0.4444444444444444, \"#bd3786\"], [0.5555555555555556, \"#d8576b\"], [0.6666666666666666, \"#ed7953\"], [0.7777777777777778, \"#fb9f3a\"], [0.8888888888888888, \"#fdca26\"], [1.0, \"#f0f921\"]], \"type\": \"surface\"}], \"table\": [{\"cells\": {\"fill\": {\"color\": \"#EBF0F8\"}, \"line\": {\"color\": \"white\"}}, \"header\": {\"fill\": {\"color\": \"#C8D4E3\"}, \"line\": {\"color\": \"white\"}}, \"type\": \"table\"}]}, \"layout\": {\"annotationdefaults\": {\"arrowcolor\": \"#2a3f5f\", \"arrowhead\": 0, \"arrowwidth\": 1}, \"coloraxis\": {\"colorbar\": {\"outlinewidth\": 0, \"ticks\": \"\"}}, \"colorscale\": {\"diverging\": [[0, \"#8e0152\"], [0.1, \"#c51b7d\"], [0.2, \"#de77ae\"], [0.3, \"#f1b6da\"], [0.4, \"#fde0ef\"], [0.5, \"#f7f7f7\"], [0.6, \"#e6f5d0\"], [0.7, \"#b8e186\"], [0.8, \"#7fbc41\"], [0.9, \"#4d9221\"], [1, \"#276419\"]], \"sequential\": [[0.0, \"#0d0887\"], [0.1111111111111111, \"#46039f\"], [0.2222222222222222, \"#7201a8\"], [0.3333333333333333, \"#9c179e\"], [0.4444444444444444, \"#bd3786\"], [0.5555555555555556, \"#d8576b\"], [0.6666666666666666, \"#ed7953\"], [0.7777777777777778, \"#fb9f3a\"], [0.8888888888888888, \"#fdca26\"], [1.0, \"#f0f921\"]], \"sequentialminus\": [[0.0, \"#0d0887\"], [0.1111111111111111, \"#46039f\"], [0.2222222222222222, \"#7201a8\"], [0.3333333333333333, \"#9c179e\"], [0.4444444444444444, \"#bd3786\"], [0.5555555555555556, \"#d8576b\"], [0.6666666666666666, \"#ed7953\"], [0.7777777777777778, \"#fb9f3a\"], [0.8888888888888888, \"#fdca26\"], [1.0, \"#f0f921\"]]}, \"colorway\": [\"#636efa\", \"#EF553B\", \"#00cc96\", \"#ab63fa\", \"#FFA15A\", \"#19d3f3\", \"#FF6692\", \"#B6E880\", \"#FF97FF\", \"#FECB52\"], \"font\": {\"color\": \"#2a3f5f\"}, \"geo\": {\"bgcolor\": \"white\", \"lakecolor\": \"white\", \"landcolor\": \"#E5ECF6\", \"showlakes\": true, \"showland\": true, \"subunitcolor\": \"white\"}, \"hoverlabel\": {\"align\": \"left\"}, \"hovermode\": \"closest\", \"mapbox\": {\"style\": \"light\"}, \"paper_bgcolor\": \"white\", \"plot_bgcolor\": \"#E5ECF6\", \"polar\": {\"angularaxis\": {\"gridcolor\": \"white\", \"linecolor\": \"white\", \"ticks\": \"\"}, \"bgcolor\": \"#E5ECF6\", \"radialaxis\": {\"gridcolor\": \"white\", \"linecolor\": \"white\", \"ticks\": \"\"}}, \"scene\": {\"xaxis\": {\"backgroundcolor\": \"#E5ECF6\", \"gridcolor\": \"white\", \"gridwidth\": 2, \"linecolor\": \"white\", \"showbackground\": true, \"ticks\": \"\", \"zerolinecolor\": \"white\"}, \"yaxis\": {\"backgroundcolor\": \"#E5ECF6\", \"gridcolor\": \"white\", \"gridwidth\": 2, \"linecolor\": \"white\", \"showbackground\": true, \"ticks\": \"\", \"zerolinecolor\": \"white\"}, \"zaxis\": {\"backgroundcolor\": \"#E5ECF6\", \"gridcolor\": \"white\", \"gridwidth\": 2, \"linecolor\": \"white\", \"showbackground\": true, \"ticks\": \"\", \"zerolinecolor\": \"white\"}}, \"shapedefaults\": {\"line\": {\"color\": \"#2a3f5f\"}}, \"ternary\": {\"aaxis\": {\"gridcolor\": \"white\", \"linecolor\": \"white\", \"ticks\": \"\"}, \"baxis\": {\"gridcolor\": \"white\", \"linecolor\": \"white\", \"ticks\": \"\"}, \"bgcolor\": \"#E5ECF6\", \"caxis\": {\"gridcolor\": \"white\", \"linecolor\": \"white\", \"ticks\": \"\"}}, \"title\": {\"x\": 0.05}, \"xaxis\": {\"automargin\": true, \"gridcolor\": \"white\", \"linecolor\": \"white\", \"ticks\": \"\", \"title\": {\"standoff\": 15}, \"zerolinecolor\": \"white\", \"zerolinewidth\": 2}, \"yaxis\": {\"automargin\": true, \"gridcolor\": \"white\", \"linecolor\": \"white\", \"ticks\": \"\", \"title\": {\"standoff\": 15}, \"zerolinecolor\": \"white\", \"zerolinewidth\": 2}}}, \"title\": {\"text\": \"Number of Heart Disease by chest pain type\"}, \"xaxis\": {\"anchor\": \"y\", \"domain\": [0.0, 1.0], \"title\": {\"text\": \"Chest Pain Type\"}}, \"yaxis\": {\"anchor\": \"x\", \"domain\": [0.0, 1.0], \"title\": {\"text\": \"count\"}}},\n",
              "                        {\"responsive\": true}\n",
              "                    ).then(function(){\n",
              "                            \n",
              "var gd = document.getElementById('90223ea7-4279-4176-8b16-ddeb739a3d96');\n",
              "var x = new MutationObserver(function (mutations, observer) {{\n",
              "        var display = window.getComputedStyle(gd).display;\n",
              "        if (!display || display === 'none') {{\n",
              "            console.log([gd, 'removed!']);\n",
              "            Plotly.purge(gd);\n",
              "            observer.disconnect();\n",
              "        }}\n",
              "}});\n",
              "\n",
              "// Listen for the removal of the full notebook cells\n",
              "var notebookContainer = gd.closest('#notebook-container');\n",
              "if (notebookContainer) {{\n",
              "    x.observe(notebookContainer, {childList: true});\n",
              "}}\n",
              "\n",
              "// Listen for the clearing of the current output cell\n",
              "var outputEl = gd.closest('.output');\n",
              "if (outputEl) {{\n",
              "    x.observe(outputEl, {childList: true});\n",
              "}}\n",
              "\n",
              "                        })\n",
              "                };\n",
              "                \n",
              "            </script>\n",
              "        </div>\n",
              "</body>\n",
              "</html>"
            ]
          },
          "metadata": {}
        }
      ]
    },
    {
      "cell_type": "code",
      "metadata": {
        "colab": {
          "base_uri": "https://localhost:8080/",
          "height": 542
        },
        "id": "Xv26VUrJzlpo",
        "outputId": "a331856a-9441-4910-9244-1c7843eb73ac"
      },
      "source": [
        "thal = px.histogram(df, x = 'thal', color='num', barmode='group',\n",
        "                category_orders = {'num': [0,1,2,3,4]}, \n",
        "                title='Number of Heart Disease due to Thalassemia',\n",
        "                labels={'thal':'Thalassemia','num':'Diagnosis of heart disease'})\n",
        "                \n",
        "thal.update_layout(legend=dict(\n",
        "                    orientation=\"h\",\n",
        "                    yanchor=\"bottom\", y=1.02,\n",
        "                    xanchor=\"right\", x=1))"
      ],
      "execution_count": null,
      "outputs": [
        {
          "output_type": "display_data",
          "data": {
            "text/html": [
              "<html>\n",
              "<head><meta charset=\"utf-8\" /></head>\n",
              "<body>\n",
              "    <div>\n",
              "            <script src=\"https://cdnjs.cloudflare.com/ajax/libs/mathjax/2.7.5/MathJax.js?config=TeX-AMS-MML_SVG\"></script><script type=\"text/javascript\">if (window.MathJax) {MathJax.Hub.Config({SVG: {font: \"STIX-Web\"}});}</script>\n",
              "                <script type=\"text/javascript\">window.PlotlyConfig = {MathJaxConfig: 'local'};</script>\n",
              "        <script src=\"https://cdn.plot.ly/plotly-latest.min.js\"></script>    \n",
              "            <div id=\"db4668c8-3838-4f2b-bf8e-00ce9f59d3ca\" class=\"plotly-graph-div\" style=\"height:525px; width:100%;\"></div>\n",
              "            <script type=\"text/javascript\">\n",
              "                \n",
              "                    window.PLOTLYENV=window.PLOTLYENV || {};\n",
              "                    \n",
              "                if (document.getElementById(\"db4668c8-3838-4f2b-bf8e-00ce9f59d3ca\")) {\n",
              "                    Plotly.newPlot(\n",
              "                        'db4668c8-3838-4f2b-bf8e-00ce9f59d3ca',\n",
              "                        [{\"alignmentgroup\": \"True\", \"bingroup\": \"x\", \"hoverlabel\": {\"namelength\": 0}, \"hovertemplate\": \"Diagnosis of heart disease=0<br>Thalassemia=%{x}<br>count=%{y}\", \"legendgroup\": \"Diagnosis of heart disease=0\", \"marker\": {\"color\": \"#636efa\"}, \"name\": \"Diagnosis of heart disease=0\", \"offsetgroup\": \"Diagnosis of heart disease=0\", \"orientation\": \"v\", \"showlegend\": true, \"type\": \"histogram\", \"x\": [\"fixed defect\", \"normal\", \"normal\", \"normal\", \"normal\", \"fixed defect\", \"normal\", \"reversable defect\", \"reversable defect\", \"normal\", \"normal\", \"normal\", \"normal\", \"normal\", \"normal\", \"normal\", \"normal\", \"normal\", \"normal\", \"normal\", \"reversable defect\", \"normal\", \"normal\", \"normal\", \"reversable defect\", \"normal\", \"normal\", \"normal\", \"normal\", \"normal\", \"normal\", \"reversable defect\", \"normal\", \"normal\", \"normal\", \"normal\", \"normal\", \"reversable defect\", \"normal\", \"normal\", \"normal\", \"normal\", \"normal\", \"normal\", \"normal\", \"normal\", \"normal\", \"normal\", \"normal\", \"normal\", \"normal\", \"reversable defect\", \"normal\", \"normal\", \"normal\", \"normal\", \"normal\", \"normal\", \"normal\", \"normal\", \"reversable defect\", \"fixed defect\", \"fixed defect\", \"normal\", \"normal\", \"normal\", \"normal\", \"normal\", \"normal\", \"reversable defect\", \"reversable defect\", \"normal\", \"normal\", \"normal\", \"normal\", \"normal\", \"normal\", \"normal\", \"reversable defect\", \"normal\", \"normal\", \"normal\", \"reversable defect\", \"normal\", \"reversable defect\", \"reversable defect\", \"reversable defect\", \"normal\", \"normal\", \"normal\", \"reversable defect\", \"normal\", \"normal\", \"reversable defect\", \"normal\", \"reversable defect\", \"normal\", \"normal\", \"normal\", \"reversable defect\", \"normal\", \"reversable defect\", \"normal\", \"normal\", \"normal\", \"normal\", \"normal\", \"normal\", \"normal\", \"reversable defect\", \"reversable defect\", \"reversable defect\", \"normal\", \"normal\", \"normal\", \"reversable defect\", \"normal\", \"normal\", \"normal\", \"normal\", \"normal\", \"normal\", \"normal\", \"normal\", \"normal\", \"normal\", \"normal\", \"normal\", \"normal\", \"normal\", \"normal\", \"normal\", \"normal\", \"normal\", \"normal\", \"normal\", \"fixed defect\", \"reversable defect\", \"normal\", \"normal\", \"normal\", \"normal\", \"normal\", \"normal\", \"normal\", \"normal\", \"normal\", \"normal\", \"fixed defect\", \"normal\", \"reversable defect\", \"normal\", \"normal\", \"normal\", \"normal\", \"normal\", \"reversable defect\", \"normal\", \"normal\", \"normal\"], \"xaxis\": \"x\", \"yaxis\": \"y\"}, {\"alignmentgroup\": \"True\", \"bingroup\": \"x\", \"hoverlabel\": {\"namelength\": 0}, \"hovertemplate\": \"Diagnosis of heart disease=1<br>Thalassemia=%{x}<br>count=%{y}\", \"legendgroup\": \"Diagnosis of heart disease=1\", \"marker\": {\"color\": \"#EF553B\"}, \"name\": \"Diagnosis of heart disease=1\", \"offsetgroup\": \"Diagnosis of heart disease=1\", \"orientation\": \"v\", \"showlegend\": true, \"type\": \"histogram\", \"x\": [\"normal\", \"reversable defect\", \"normal\", \"reversable defect\", \"reversable defect\", \"fixed defect\", \"reversable defect\", \"normal\", \"reversable defect\", \"reversable defect\", \"reversable defect\", \"reversable defect\", \"normal\", \"reversable defect\", \"fixed defect\", \"reversable defect\", \"reversable defect\", \"normal\", \"reversable defect\", \"reversable defect\", \"normal\", \"reversable defect\", \"reversable defect\", \"reversable defect\", \"reversable defect\", \"reversable defect\", \"reversable defect\", \"reversable defect\", \"reversable defect\", \"normal\", \"reversable defect\", \"normal\", \"reversable defect\", \"reversable defect\", \"fixed defect\", \"normal\", \"reversable defect\", \"reversable defect\", \"reversable defect\", \"reversable defect\", \"reversable defect\", \"reversable defect\", \"reversable defect\", \"reversable defect\", \"reversable defect\", \"reversable defect\", \"reversable defect\", \"reversable defect\", \"reversable defect\", \"normal\", \"reversable defect\", \"reversable defect\", \"reversable defect\", \"reversable defect\", \"reversable defect\", \"reversable defect\", \"reversable defect\", \"normal\", \"reversable defect\", \"reversable defect\", \"reversable defect\", \"reversable defect\", \"reversable defect\", \"reversable defect\", \"reversable defect\", \"normal\", \"reversable defect\", \"reversable defect\", \"normal\", \"normal\", \"reversable defect\", \"reversable defect\", \"reversable defect\", \"normal\", \"reversable defect\", \"reversable defect\", \"normal\", \"fixed defect\", \"reversable defect\", \"fixed defect\", \"reversable defect\", \"reversable defect\", \"normal\", \"fixed defect\", \"reversable defect\", \"reversable defect\", \"reversable defect\", \"normal\", \"normal\", \"normal\", \"reversable defect\", \"reversable defect\", \"reversable defect\", \"normal\", \"reversable defect\", \"reversable defect\", \"normal\", \"reversable defect\", \"normal\", \"normal\", \"normal\", \"normal\", \"normal\", \"normal\", \"reversable defect\", \"reversable defect\", \"normal\", \"normal\", \"reversable defect\", \"normal\", \"reversable defect\", \"reversable defect\", \"reversable defect\", \"normal\", \"normal\", \"fixed defect\", \"fixed defect\", \"reversable defect\", \"reversable defect\", \"reversable defect\", \"normal\", \"normal\", \"reversable defect\", \"reversable defect\", \"reversable defect\", \"fixed defect\", \"fixed defect\", \"reversable defect\", \"fixed defect\", \"reversable defect\", \"normal\", \"fixed defect\", \"reversable defect\", \"reversable defect\", \"reversable defect\", \"reversable defect\", \"normal\", \"reversable defect\", \"reversable defect\"], \"xaxis\": \"x\", \"yaxis\": \"y\"}],\n",
              "                        {\"barmode\": \"group\", \"legend\": {\"orientation\": \"h\", \"tracegroupgap\": 0, \"x\": 1, \"xanchor\": \"right\", \"y\": 1.02, \"yanchor\": \"bottom\"}, \"template\": {\"data\": {\"bar\": [{\"error_x\": {\"color\": \"#2a3f5f\"}, \"error_y\": {\"color\": \"#2a3f5f\"}, \"marker\": {\"line\": {\"color\": \"#E5ECF6\", \"width\": 0.5}}, \"type\": \"bar\"}], \"barpolar\": [{\"marker\": {\"line\": {\"color\": \"#E5ECF6\", \"width\": 0.5}}, \"type\": \"barpolar\"}], \"carpet\": [{\"aaxis\": {\"endlinecolor\": \"#2a3f5f\", \"gridcolor\": \"white\", \"linecolor\": \"white\", \"minorgridcolor\": \"white\", \"startlinecolor\": \"#2a3f5f\"}, \"baxis\": {\"endlinecolor\": \"#2a3f5f\", \"gridcolor\": \"white\", \"linecolor\": \"white\", \"minorgridcolor\": \"white\", \"startlinecolor\": \"#2a3f5f\"}, \"type\": \"carpet\"}], \"choropleth\": [{\"colorbar\": {\"outlinewidth\": 0, \"ticks\": \"\"}, \"type\": \"choropleth\"}], \"contour\": [{\"colorbar\": {\"outlinewidth\": 0, \"ticks\": \"\"}, \"colorscale\": [[0.0, \"#0d0887\"], [0.1111111111111111, \"#46039f\"], [0.2222222222222222, \"#7201a8\"], [0.3333333333333333, \"#9c179e\"], [0.4444444444444444, \"#bd3786\"], [0.5555555555555556, \"#d8576b\"], [0.6666666666666666, \"#ed7953\"], [0.7777777777777778, \"#fb9f3a\"], [0.8888888888888888, \"#fdca26\"], [1.0, \"#f0f921\"]], \"type\": \"contour\"}], \"contourcarpet\": [{\"colorbar\": {\"outlinewidth\": 0, \"ticks\": \"\"}, \"type\": \"contourcarpet\"}], \"heatmap\": [{\"colorbar\": {\"outlinewidth\": 0, \"ticks\": \"\"}, \"colorscale\": [[0.0, \"#0d0887\"], [0.1111111111111111, \"#46039f\"], [0.2222222222222222, \"#7201a8\"], [0.3333333333333333, \"#9c179e\"], [0.4444444444444444, \"#bd3786\"], [0.5555555555555556, \"#d8576b\"], [0.6666666666666666, \"#ed7953\"], [0.7777777777777778, \"#fb9f3a\"], [0.8888888888888888, \"#fdca26\"], [1.0, \"#f0f921\"]], \"type\": \"heatmap\"}], \"heatmapgl\": [{\"colorbar\": {\"outlinewidth\": 0, \"ticks\": \"\"}, \"colorscale\": [[0.0, \"#0d0887\"], [0.1111111111111111, \"#46039f\"], [0.2222222222222222, \"#7201a8\"], [0.3333333333333333, \"#9c179e\"], [0.4444444444444444, \"#bd3786\"], [0.5555555555555556, \"#d8576b\"], [0.6666666666666666, \"#ed7953\"], [0.7777777777777778, \"#fb9f3a\"], [0.8888888888888888, \"#fdca26\"], [1.0, \"#f0f921\"]], \"type\": \"heatmapgl\"}], \"histogram\": [{\"marker\": {\"colorbar\": {\"outlinewidth\": 0, \"ticks\": \"\"}}, \"type\": \"histogram\"}], \"histogram2d\": [{\"colorbar\": {\"outlinewidth\": 0, \"ticks\": \"\"}, \"colorscale\": [[0.0, \"#0d0887\"], [0.1111111111111111, \"#46039f\"], [0.2222222222222222, \"#7201a8\"], [0.3333333333333333, \"#9c179e\"], [0.4444444444444444, \"#bd3786\"], [0.5555555555555556, \"#d8576b\"], [0.6666666666666666, \"#ed7953\"], [0.7777777777777778, \"#fb9f3a\"], [0.8888888888888888, \"#fdca26\"], [1.0, \"#f0f921\"]], \"type\": \"histogram2d\"}], \"histogram2dcontour\": [{\"colorbar\": {\"outlinewidth\": 0, \"ticks\": \"\"}, \"colorscale\": [[0.0, \"#0d0887\"], [0.1111111111111111, \"#46039f\"], [0.2222222222222222, \"#7201a8\"], [0.3333333333333333, \"#9c179e\"], [0.4444444444444444, \"#bd3786\"], [0.5555555555555556, \"#d8576b\"], [0.6666666666666666, \"#ed7953\"], [0.7777777777777778, \"#fb9f3a\"], [0.8888888888888888, \"#fdca26\"], [1.0, \"#f0f921\"]], \"type\": \"histogram2dcontour\"}], \"mesh3d\": [{\"colorbar\": {\"outlinewidth\": 0, \"ticks\": \"\"}, \"type\": \"mesh3d\"}], \"parcoords\": [{\"line\": {\"colorbar\": {\"outlinewidth\": 0, \"ticks\": \"\"}}, \"type\": \"parcoords\"}], \"pie\": [{\"automargin\": true, \"type\": \"pie\"}], \"scatter\": [{\"marker\": {\"colorbar\": {\"outlinewidth\": 0, \"ticks\": \"\"}}, \"type\": \"scatter\"}], \"scatter3d\": [{\"line\": {\"colorbar\": {\"outlinewidth\": 0, \"ticks\": \"\"}}, \"marker\": {\"colorbar\": {\"outlinewidth\": 0, \"ticks\": \"\"}}, \"type\": \"scatter3d\"}], \"scattercarpet\": [{\"marker\": {\"colorbar\": {\"outlinewidth\": 0, \"ticks\": \"\"}}, \"type\": \"scattercarpet\"}], \"scattergeo\": [{\"marker\": {\"colorbar\": {\"outlinewidth\": 0, \"ticks\": \"\"}}, \"type\": \"scattergeo\"}], \"scattergl\": [{\"marker\": {\"colorbar\": {\"outlinewidth\": 0, \"ticks\": \"\"}}, \"type\": \"scattergl\"}], \"scattermapbox\": [{\"marker\": {\"colorbar\": {\"outlinewidth\": 0, \"ticks\": \"\"}}, \"type\": \"scattermapbox\"}], \"scatterpolar\": [{\"marker\": {\"colorbar\": {\"outlinewidth\": 0, \"ticks\": \"\"}}, \"type\": \"scatterpolar\"}], \"scatterpolargl\": [{\"marker\": {\"colorbar\": {\"outlinewidth\": 0, \"ticks\": \"\"}}, \"type\": \"scatterpolargl\"}], \"scatterternary\": [{\"marker\": {\"colorbar\": {\"outlinewidth\": 0, \"ticks\": \"\"}}, \"type\": \"scatterternary\"}], \"surface\": [{\"colorbar\": {\"outlinewidth\": 0, \"ticks\": \"\"}, \"colorscale\": [[0.0, \"#0d0887\"], [0.1111111111111111, \"#46039f\"], [0.2222222222222222, \"#7201a8\"], [0.3333333333333333, \"#9c179e\"], [0.4444444444444444, \"#bd3786\"], [0.5555555555555556, \"#d8576b\"], [0.6666666666666666, \"#ed7953\"], [0.7777777777777778, \"#fb9f3a\"], [0.8888888888888888, \"#fdca26\"], [1.0, \"#f0f921\"]], \"type\": \"surface\"}], \"table\": [{\"cells\": {\"fill\": {\"color\": \"#EBF0F8\"}, \"line\": {\"color\": \"white\"}}, \"header\": {\"fill\": {\"color\": \"#C8D4E3\"}, \"line\": {\"color\": \"white\"}}, \"type\": \"table\"}]}, \"layout\": {\"annotationdefaults\": {\"arrowcolor\": \"#2a3f5f\", \"arrowhead\": 0, \"arrowwidth\": 1}, \"coloraxis\": {\"colorbar\": {\"outlinewidth\": 0, \"ticks\": \"\"}}, \"colorscale\": {\"diverging\": [[0, \"#8e0152\"], [0.1, \"#c51b7d\"], [0.2, \"#de77ae\"], [0.3, \"#f1b6da\"], [0.4, \"#fde0ef\"], [0.5, \"#f7f7f7\"], [0.6, \"#e6f5d0\"], [0.7, \"#b8e186\"], [0.8, \"#7fbc41\"], [0.9, \"#4d9221\"], [1, \"#276419\"]], \"sequential\": [[0.0, \"#0d0887\"], [0.1111111111111111, \"#46039f\"], [0.2222222222222222, \"#7201a8\"], [0.3333333333333333, \"#9c179e\"], [0.4444444444444444, \"#bd3786\"], [0.5555555555555556, \"#d8576b\"], [0.6666666666666666, \"#ed7953\"], [0.7777777777777778, \"#fb9f3a\"], [0.8888888888888888, \"#fdca26\"], [1.0, \"#f0f921\"]], \"sequentialminus\": [[0.0, \"#0d0887\"], [0.1111111111111111, \"#46039f\"], [0.2222222222222222, \"#7201a8\"], [0.3333333333333333, \"#9c179e\"], [0.4444444444444444, \"#bd3786\"], [0.5555555555555556, \"#d8576b\"], [0.6666666666666666, \"#ed7953\"], [0.7777777777777778, \"#fb9f3a\"], [0.8888888888888888, \"#fdca26\"], [1.0, \"#f0f921\"]]}, \"colorway\": [\"#636efa\", \"#EF553B\", \"#00cc96\", \"#ab63fa\", \"#FFA15A\", \"#19d3f3\", \"#FF6692\", \"#B6E880\", \"#FF97FF\", \"#FECB52\"], \"font\": {\"color\": \"#2a3f5f\"}, \"geo\": {\"bgcolor\": \"white\", \"lakecolor\": \"white\", \"landcolor\": \"#E5ECF6\", \"showlakes\": true, \"showland\": true, \"subunitcolor\": \"white\"}, \"hoverlabel\": {\"align\": \"left\"}, \"hovermode\": \"closest\", \"mapbox\": {\"style\": \"light\"}, \"paper_bgcolor\": \"white\", \"plot_bgcolor\": \"#E5ECF6\", \"polar\": {\"angularaxis\": {\"gridcolor\": \"white\", \"linecolor\": \"white\", \"ticks\": \"\"}, \"bgcolor\": \"#E5ECF6\", \"radialaxis\": {\"gridcolor\": \"white\", \"linecolor\": \"white\", \"ticks\": \"\"}}, \"scene\": {\"xaxis\": {\"backgroundcolor\": \"#E5ECF6\", \"gridcolor\": \"white\", \"gridwidth\": 2, \"linecolor\": \"white\", \"showbackground\": true, \"ticks\": \"\", \"zerolinecolor\": \"white\"}, \"yaxis\": {\"backgroundcolor\": \"#E5ECF6\", \"gridcolor\": \"white\", \"gridwidth\": 2, \"linecolor\": \"white\", \"showbackground\": true, \"ticks\": \"\", \"zerolinecolor\": \"white\"}, \"zaxis\": {\"backgroundcolor\": \"#E5ECF6\", \"gridcolor\": \"white\", \"gridwidth\": 2, \"linecolor\": \"white\", \"showbackground\": true, \"ticks\": \"\", \"zerolinecolor\": \"white\"}}, \"shapedefaults\": {\"line\": {\"color\": \"#2a3f5f\"}}, \"ternary\": {\"aaxis\": {\"gridcolor\": \"white\", \"linecolor\": \"white\", \"ticks\": \"\"}, \"baxis\": {\"gridcolor\": \"white\", \"linecolor\": \"white\", \"ticks\": \"\"}, \"bgcolor\": \"#E5ECF6\", \"caxis\": {\"gridcolor\": \"white\", \"linecolor\": \"white\", \"ticks\": \"\"}}, \"title\": {\"x\": 0.05}, \"xaxis\": {\"automargin\": true, \"gridcolor\": \"white\", \"linecolor\": \"white\", \"ticks\": \"\", \"title\": {\"standoff\": 15}, \"zerolinecolor\": \"white\", \"zerolinewidth\": 2}, \"yaxis\": {\"automargin\": true, \"gridcolor\": \"white\", \"linecolor\": \"white\", \"ticks\": \"\", \"title\": {\"standoff\": 15}, \"zerolinecolor\": \"white\", \"zerolinewidth\": 2}}}, \"title\": {\"text\": \"Number of Heart Disease due to Thalassemia\"}, \"xaxis\": {\"anchor\": \"y\", \"domain\": [0.0, 1.0], \"title\": {\"text\": \"Thalassemia\"}}, \"yaxis\": {\"anchor\": \"x\", \"domain\": [0.0, 1.0], \"title\": {\"text\": \"count\"}}},\n",
              "                        {\"responsive\": true}\n",
              "                    ).then(function(){\n",
              "                            \n",
              "var gd = document.getElementById('db4668c8-3838-4f2b-bf8e-00ce9f59d3ca');\n",
              "var x = new MutationObserver(function (mutations, observer) {{\n",
              "        var display = window.getComputedStyle(gd).display;\n",
              "        if (!display || display === 'none') {{\n",
              "            console.log([gd, 'removed!']);\n",
              "            Plotly.purge(gd);\n",
              "            observer.disconnect();\n",
              "        }}\n",
              "}});\n",
              "\n",
              "// Listen for the removal of the full notebook cells\n",
              "var notebookContainer = gd.closest('#notebook-container');\n",
              "if (notebookContainer) {{\n",
              "    x.observe(notebookContainer, {childList: true});\n",
              "}}\n",
              "\n",
              "// Listen for the clearing of the current output cell\n",
              "var outputEl = gd.closest('.output');\n",
              "if (outputEl) {{\n",
              "    x.observe(outputEl, {childList: true});\n",
              "}}\n",
              "\n",
              "                        })\n",
              "                };\n",
              "                \n",
              "            </script>\n",
              "        </div>\n",
              "</body>\n",
              "</html>"
            ]
          },
          "metadata": {}
        }
      ]
    },
    {
      "cell_type": "code",
      "metadata": {
        "colab": {
          "base_uri": "https://localhost:8080/",
          "height": 542
        },
        "id": "fixORsL3Sz8m",
        "outputId": "0de116fc-e0af-49ef-efbd-248f7634a7df"
      },
      "source": [
        "\n",
        "rest = px.histogram(df ,x = 'restecg', color='num', barmode='group', \n",
        "                    category_orders = {'num': [0,1,2,3,4]}, \n",
        "                    title='Number of Heart Disease related to resting electrocardiographic results',\n",
        "                    labels={'restecg':'resting electrocardiographic results', 'num':'Diagnosis of heart disease'})\n",
        "rest.update_layout(legend=dict(\n",
        "                        orientation=\"h\",\n",
        "                        yanchor=\"bottom\", y=1.02,\n",
        "                        xanchor=\"right\", x=1))"
      ],
      "execution_count": null,
      "outputs": [
        {
          "output_type": "display_data",
          "data": {
            "text/html": [
              "<html>\n",
              "<head><meta charset=\"utf-8\" /></head>\n",
              "<body>\n",
              "    <div>\n",
              "            <script src=\"https://cdnjs.cloudflare.com/ajax/libs/mathjax/2.7.5/MathJax.js?config=TeX-AMS-MML_SVG\"></script><script type=\"text/javascript\">if (window.MathJax) {MathJax.Hub.Config({SVG: {font: \"STIX-Web\"}});}</script>\n",
              "                <script type=\"text/javascript\">window.PlotlyConfig = {MathJaxConfig: 'local'};</script>\n",
              "        <script src=\"https://cdn.plot.ly/plotly-latest.min.js\"></script>    \n",
              "            <div id=\"2e223429-315b-474b-bbda-06264d97594c\" class=\"plotly-graph-div\" style=\"height:525px; width:100%;\"></div>\n",
              "            <script type=\"text/javascript\">\n",
              "                \n",
              "                    window.PLOTLYENV=window.PLOTLYENV || {};\n",
              "                    \n",
              "                if (document.getElementById(\"2e223429-315b-474b-bbda-06264d97594c\")) {\n",
              "                    Plotly.newPlot(\n",
              "                        '2e223429-315b-474b-bbda-06264d97594c',\n",
              "                        [{\"alignmentgroup\": \"True\", \"bingroup\": \"x\", \"hoverlabel\": {\"namelength\": 0}, \"hovertemplate\": \"Diagnosis of heart disease=0<br>resting electrocardiographic results=%{x}<br>count=%{y}\", \"legendgroup\": \"Diagnosis of heart disease=0\", \"marker\": {\"color\": \"#636efa\"}, \"name\": \"Diagnosis of heart disease=0\", \"offsetgroup\": \"Diagnosis of heart disease=0\", \"orientation\": \"v\", \"showlegend\": true, \"type\": \"histogram\", \"x\": [\"lv hypertrophy\", \"normal\", \"lv hypertrophy\", \"normal\", \"normal\", \"normal\", \"lv hypertrophy\", \"normal\", \"normal\", \"normal\", \"normal\", \"normal\", \"normal\", \"lv hypertrophy\", \"lv hypertrophy\", \"normal\", \"normal\", \"normal\", \"normal\", \"normal\", \"normal\", \"normal\", \"normal\", \"normal\", \"normal\", \"normal\", \"normal\", \"normal\", \"lv hypertrophy\", \"lv hypertrophy\", \"normal\", \"normal\", \"lv hypertrophy\", \"lv hypertrophy\", \"lv hypertrophy\", \"lv hypertrophy\", \"normal\", \"lv hypertrophy\", \"normal\", \"lv hypertrophy\", \"lv hypertrophy\", \"lv hypertrophy\", \"lv hypertrophy\", \"lv hypertrophy\", \"lv hypertrophy\", \"normal\", \"lv hypertrophy\", \"lv hypertrophy\", \"lv hypertrophy\", \"lv hypertrophy\", \"lv hypertrophy\", \"lv hypertrophy\", \"normal\", \"normal\", \"lv hypertrophy\", \"normal\", \"lv hypertrophy\", \"lv hypertrophy\", \"lv hypertrophy\", \"lv hypertrophy\", \"lv hypertrophy\", \"normal\", \"lv hypertrophy\", \"normal\", \"lv hypertrophy\", \"normal\", \"normal\", \"lv hypertrophy\", \"normal\", \"normal\", \"lv hypertrophy\", \"normal\", \"lv hypertrophy\", \"lv hypertrophy\", \"normal\", \"lv hypertrophy\", \"lv hypertrophy\", \"normal\", \"normal\", \"lv hypertrophy\", \"normal\", \"lv hypertrophy\", \"normal\", \"normal\", \"lv hypertrophy\", \"lv hypertrophy\", \"normal\", \"normal\", \"normal\", \"lv hypertrophy\", \"normal\", \"normal\", \"normal\", \"lv hypertrophy\", \"normal\", \"lv hypertrophy\", \"lv hypertrophy\", \"normal\", \"normal\", \"lv hypertrophy\", \"lv hypertrophy\", \"lv hypertrophy\", \"normal\", \"normal\", \"normal\", \"lv hypertrophy\", \"lv hypertrophy\", \"lv hypertrophy\", \"normal\", \"lv hypertrophy\", \"normal\", \"normal\", \"normal\", \"normal\", \"normal\", \"normal\", \"lv hypertrophy\", \"lv hypertrophy\", \"normal\", \"lv hypertrophy\", \"normal\", \"lv hypertrophy\", \"lv hypertrophy\", \"lv hypertrophy\", \"normal\", \"normal\", \"normal\", \"normal\", \"lv hypertrophy\", \"lv hypertrophy\", \"normal\", \"normal\", \"normal\", \"normal\", \"normal\", \"normal\", \"normal\", \"lv hypertrophy\", \"normal\", \"normal\", \"lv hypertrophy\", \"normal\", \"normal\", \"normal\", \"st-t abnormality\", \"lv hypertrophy\", \"normal\", \"normal\", \"normal\", \"normal\", \"lv hypertrophy\", \"normal\", \"lv hypertrophy\", \"lv hypertrophy\", \"normal\", \"normal\", \"normal\", \"normal\", \"normal\", \"lv hypertrophy\", \"normal\", \"normal\", \"normal\", \"normal\", \"lv hypertrophy\", \"normal\", \"normal\", \"st-t abnormality\", \"st-t abnormality\", \"normal\", \"normal\", \"normal\", \"normal\", \"normal\", \"st-t abnormality\", \"normal\", \"st-t abnormality\", \"normal\", \"lv hypertrophy\", \"normal\", \"normal\", \"normal\", \"normal\", \"normal\", \"normal\", \"normal\", \"st-t abnormality\", \"st-t abnormality\", \"normal\", \"normal\", \"normal\", \"normal\", \"normal\", \"normal\", \"st-t abnormality\", \"st-t abnormality\", \"normal\", \"normal\", \"normal\", \"normal\", \"normal\", \"normal\", \"normal\", \"normal\", \"normal\", \"normal\", \"normal\", \"normal\", \"normal\", \"st-t abnormality\", \"normal\", \"normal\", \"st-t abnormality\", \"normal\", \"normal\", \"normal\", \"st-t abnormality\", \"normal\", \"normal\", \"normal\", \"normal\", \"normal\", \"normal\", \"normal\", \"normal\", \"st-t abnormality\", \"st-t abnormality\", \"normal\", \"normal\", \"normal\", \"normal\", \"st-t abnormality\", \"normal\", \"normal\", \"normal\", \"normal\", \"normal\", \"normal\", \"normal\", \"normal\", \"normal\", \"normal\", \"normal\", \"normal\", \"normal\", \"normal\", \"st-t abnormality\", \"st-t abnormality\", \"st-t abnormality\", \"normal\", \"normal\", \"normal\", \"normal\", \"normal\", \"st-t abnormality\", \"st-t abnormality\", \"normal\", \"normal\", \"normal\", \"st-t abnormality\", \"normal\", \"normal\", \"normal\", \"normal\", \"normal\", \"normal\", \"normal\", \"normal\", \"st-t abnormality\", \"normal\", \"normal\", \"normal\", \"normal\", \"normal\", \"normal\", \"normal\", \"normal\", \"st-t abnormality\", \"normal\", \"normal\", \"normal\", \"normal\", \"normal\", \"normal\", \"normal\", \"normal\", \"normal\", \"normal\", \"normal\", \"normal\", \"normal\", \"normal\", \"normal\", \"normal\", \"st-t abnormality\", \"normal\", \"normal\", \"normal\", \"normal\", \"normal\", \"normal\", \"st-t abnormality\", \"normal\", \"normal\", \"normal\", \"normal\", \"normal\", \"st-t abnormality\", \"st-t abnormality\", \"normal\", \"normal\", \"normal\", \"normal\", \"normal\", \"normal\", \"st-t abnormality\", \"normal\", \"normal\", \"normal\", \"st-t abnormality\", \"st-t abnormality\", \"normal\", \"lv hypertrophy\", \"normal\", \"normal\", \"normal\", \"normal\", \"lv hypertrophy\", \"normal\", \"normal\", \"st-t abnormality\", \"normal\", \"normal\", \"normal\", \"normal\", \"normal\", \"st-t abnormality\", \"normal\", \"normal\", \"normal\", \"normal\", \"normal\", \"normal\", \"normal\", \"normal\", \"normal\", \"normal\", \"lv hypertrophy\", \"st-t abnormality\", \"st-t abnormality\", \"normal\", \"normal\", \"normal\", \"normal\", \"st-t abnormality\", \"normal\", \"st-t abnormality\", \"normal\", \"normal\", \"lv hypertrophy\", \"st-t abnormality\", \"lv hypertrophy\", \"st-t abnormality\", \"st-t abnormality\", \"st-t abnormality\", \"st-t abnormality\", \"st-t abnormality\", \"st-t abnormality\", \"normal\", \"normal\", \"st-t abnormality\", \"st-t abnormality\", \"normal\", \"normal\", \"normal\", \"normal\", \"normal\", \"lv hypertrophy\", \"st-t abnormality\", \"normal\", \"normal\", \"st-t abnormality\", \"normal\", \"normal\", \"st-t abnormality\", \"st-t abnormality\", \"st-t abnormality\", \"st-t abnormality\", \"normal\", \"normal\", \"lv hypertrophy\", \"normal\", \"st-t abnormality\", \"st-t abnormality\", \"lv hypertrophy\", \"st-t abnormality\", \"normal\", \"st-t abnormality\", \"st-t abnormality\", \"normal\", \"normal\", \"lv hypertrophy\", \"lv hypertrophy\", \"st-t abnormality\", \"st-t abnormality\", \"st-t abnormality\", \"st-t abnormality\", \"normal\", \"lv hypertrophy\", \"st-t abnormality\", \"lv hypertrophy\"], \"xaxis\": \"x\", \"yaxis\": \"y\"}, {\"alignmentgroup\": \"True\", \"bingroup\": \"x\", \"hoverlabel\": {\"namelength\": 0}, \"hovertemplate\": \"Diagnosis of heart disease=1<br>resting electrocardiographic results=%{x}<br>count=%{y}\", \"legendgroup\": \"Diagnosis of heart disease=1\", \"marker\": {\"color\": \"#EF553B\"}, \"name\": \"Diagnosis of heart disease=1\", \"offsetgroup\": \"Diagnosis of heart disease=1\", \"orientation\": \"v\", \"showlegend\": true, \"type\": \"histogram\", \"x\": [\"lv hypertrophy\", \"lv hypertrophy\", \"lv hypertrophy\", \"lv hypertrophy\", \"lv hypertrophy\", \"lv hypertrophy\", \"normal\", \"lv hypertrophy\", \"lv hypertrophy\", \"lv hypertrophy\", \"lv hypertrophy\", \"normal\", \"normal\", \"lv hypertrophy\", \"lv hypertrophy\", \"normal\", \"lv hypertrophy\", \"lv hypertrophy\", \"lv hypertrophy\", \"lv hypertrophy\", \"lv hypertrophy\", \"normal\", \"lv hypertrophy\", \"normal\", \"lv hypertrophy\", \"normal\", \"lv hypertrophy\", \"normal\", \"lv hypertrophy\", \"lv hypertrophy\", \"lv hypertrophy\", \"normal\", \"normal\", \"normal\", \"lv hypertrophy\", \"lv hypertrophy\", \"lv hypertrophy\", \"lv hypertrophy\", \"lv hypertrophy\", \"lv hypertrophy\", \"normal\", \"lv hypertrophy\", \"lv hypertrophy\", \"normal\", \"normal\", \"lv hypertrophy\", \"normal\", \"normal\", \"lv hypertrophy\", \"lv hypertrophy\", \"lv hypertrophy\", \"normal\", \"lv hypertrophy\", \"lv hypertrophy\", \"lv hypertrophy\", \"lv hypertrophy\", \"normal\", \"lv hypertrophy\", \"lv hypertrophy\", \"normal\", \"normal\", \"lv hypertrophy\", \"normal\", \"lv hypertrophy\", \"normal\", \"normal\", \"lv hypertrophy\", \"lv hypertrophy\", \"lv hypertrophy\", \"lv hypertrophy\", \"normal\", \"lv hypertrophy\", \"lv hypertrophy\", \"lv hypertrophy\", \"lv hypertrophy\", \"normal\", \"normal\", \"lv hypertrophy\", \"normal\", \"lv hypertrophy\", \"lv hypertrophy\", \"lv hypertrophy\", \"lv hypertrophy\", \"normal\", \"lv hypertrophy\", \"lv hypertrophy\", \"normal\", \"lv hypertrophy\", \"normal\", \"lv hypertrophy\", \"lv hypertrophy\", \"lv hypertrophy\", \"lv hypertrophy\", \"lv hypertrophy\", \"normal\", \"normal\", \"normal\", \"normal\", \"normal\", \"normal\", \"lv hypertrophy\", \"lv hypertrophy\", \"st-t abnormality\", \"lv hypertrophy\", \"lv hypertrophy\", \"lv hypertrophy\", \"lv hypertrophy\", \"normal\", \"normal\", \"normal\", \"lv hypertrophy\", \"normal\", \"normal\", \"normal\", \"lv hypertrophy\", \"lv hypertrophy\", \"normal\", \"normal\", \"normal\", \"normal\", \"lv hypertrophy\", \"normal\", \"normal\", \"lv hypertrophy\", \"normal\", \"st-t abnormality\", \"normal\", \"st-t abnormality\", \"lv hypertrophy\", \"lv hypertrophy\", \"normal\", \"lv hypertrophy\", \"normal\", \"lv hypertrophy\", \"normal\", \"normal\", \"normal\", \"normal\", \"lv hypertrophy\", \"normal\", \"normal\", \"normal\", \"normal\", \"normal\", \"normal\", \"normal\", \"normal\", \"normal\", \"normal\", \"normal\", \"normal\", \"normal\", \"normal\", \"normal\", \"normal\", \"normal\", \"normal\", \"normal\", \"normal\", \"normal\", \"normal\", \"normal\", \"normal\", \"normal\", \"normal\", \"normal\", \"normal\", \"normal\", \"normal\", \"normal\", \"st-t abnormality\", \"st-t abnormality\", \"st-t abnormality\", \"normal\", \"normal\", \"normal\", \"normal\", \"normal\", \"normal\", \"normal\", \"st-t abnormality\", \"st-t abnormality\", \"normal\", \"normal\", \"st-t abnormality\", \"normal\", \"normal\", \"normal\", \"normal\", \"normal\", \"normal\", \"normal\", \"normal\", \"normal\", \"normal\", \"normal\", \"normal\", \"normal\", \"normal\", \"normal\", \"st-t abnormality\", \"normal\", \"st-t abnormality\", \"normal\", \"normal\", \"normal\", \"normal\", \"normal\", \"normal\", \"normal\", \"normal\", \"normal\", \"st-t abnormality\", \"normal\", \"normal\", \"st-t abnormality\", \"normal\", \"st-t abnormality\", \"normal\", null, \"normal\", \"normal\", \"normal\", \"st-t abnormality\", \"st-t abnormality\", \"st-t abnormality\", \"normal\", \"lv hypertrophy\", \"normal\", \"normal\", \"normal\", \"normal\", \"normal\", \"normal\", \"st-t abnormality\", \"normal\", \"normal\", \"st-t abnormality\", \"st-t abnormality\", \"normal\", \"normal\", \"st-t abnormality\", \"normal\", \"normal\", \"st-t abnormality\", \"normal\", null, \"normal\", \"normal\", \"normal\", \"normal\", \"normal\", \"normal\", \"normal\", \"st-t abnormality\", \"normal\", \"normal\", \"normal\", \"normal\", \"normal\", \"st-t abnormality\", \"st-t abnormality\", \"normal\", \"normal\", \"normal\", \"st-t abnormality\", \"normal\", \"normal\", \"normal\", \"normal\", \"st-t abnormality\", \"normal\", \"normal\", \"normal\", \"normal\", \"normal\", \"st-t abnormality\", \"normal\", \"normal\", \"normal\", \"normal\", \"normal\", \"normal\", \"normal\", \"normal\", \"lv hypertrophy\", \"normal\", \"normal\", \"lv hypertrophy\", \"normal\", \"normal\", \"normal\", \"normal\", \"st-t abnormality\", \"normal\", \"normal\", \"st-t abnormality\", \"st-t abnormality\", \"st-t abnormality\", \"st-t abnormality\", \"normal\", \"normal\", \"normal\", \"st-t abnormality\", \"normal\", \"normal\", \"normal\", \"normal\", \"normal\", \"st-t abnormality\", \"st-t abnormality\", \"normal\", \"normal\", \"normal\", \"normal\", \"normal\", \"normal\", \"normal\", \"st-t abnormality\", \"normal\", \"st-t abnormality\", \"normal\", \"st-t abnormality\", \"normal\", \"normal\", \"normal\", \"lv hypertrophy\", \"normal\", \"normal\", \"normal\", \"st-t abnormality\", \"normal\", \"st-t abnormality\", \"lv hypertrophy\", \"normal\", \"normal\", \"normal\", \"st-t abnormality\", \"normal\", \"lv hypertrophy\", \"normal\", \"st-t abnormality\", \"normal\", \"normal\", \"normal\", \"normal\", \"normal\", \"st-t abnormality\", \"st-t abnormality\", \"normal\", \"normal\", \"lv hypertrophy\", \"st-t abnormality\", \"normal\", \"normal\", \"st-t abnormality\", \"st-t abnormality\", \"normal\", \"st-t abnormality\", \"st-t abnormality\", \"st-t abnormality\", \"st-t abnormality\", \"st-t abnormality\", \"st-t abnormality\", \"normal\", \"st-t abnormality\", \"st-t abnormality\", \"normal\", \"lv hypertrophy\", \"st-t abnormality\", \"normal\", \"normal\", \"normal\", \"st-t abnormality\", \"st-t abnormality\", \"st-t abnormality\", \"st-t abnormality\", \"st-t abnormality\", \"st-t abnormality\", \"normal\", \"st-t abnormality\", \"st-t abnormality\", \"st-t abnormality\", \"normal\", \"normal\", \"normal\", \"st-t abnormality\", \"st-t abnormality\", \"normal\", \"normal\", \"normal\", \"st-t abnormality\", \"st-t abnormality\", \"normal\", \"normal\", \"normal\", \"st-t abnormality\", \"st-t abnormality\", \"normal\", \"normal\", \"st-t abnormality\", \"st-t abnormality\", \"lv hypertrophy\", \"normal\", \"st-t abnormality\", \"lv hypertrophy\", \"normal\", \"st-t abnormality\", \"normal\", \"lv hypertrophy\", \"normal\", \"st-t abnormality\", \"st-t abnormality\", \"normal\", \"normal\", \"st-t abnormality\", \"st-t abnormality\", \"normal\", \"normal\", \"normal\", \"normal\", \"st-t abnormality\", \"normal\", \"normal\", \"normal\", \"st-t abnormality\", \"normal\", \"st-t abnormality\", \"normal\", \"normal\", \"normal\", \"st-t abnormality\", \"st-t abnormality\", \"normal\", \"normal\", \"normal\", \"st-t abnormality\", \"st-t abnormality\", \"st-t abnormality\", \"lv hypertrophy\", \"normal\", \"lv hypertrophy\", \"normal\", \"normal\", \"normal\", \"st-t abnormality\", \"st-t abnormality\", \"st-t abnormality\", \"normal\", \"lv hypertrophy\", \"st-t abnormality\", \"st-t abnormality\", \"normal\", \"st-t abnormality\", \"lv hypertrophy\", \"normal\", \"st-t abnormality\", \"st-t abnormality\", \"st-t abnormality\", \"normal\", \"normal\", \"normal\", \"normal\", \"st-t abnormality\", \"st-t abnormality\", \"st-t abnormality\", \"normal\", \"st-t abnormality\", \"st-t abnormality\", \"st-t abnormality\", \"st-t abnormality\", \"normal\", \"normal\", \"st-t abnormality\", \"normal\", \"st-t abnormality\", \"lv hypertrophy\", \"st-t abnormality\", \"normal\", \"st-t abnormality\", \"normal\", \"lv hypertrophy\", \"st-t abnormality\", \"lv hypertrophy\", \"normal\", \"lv hypertrophy\", \"st-t abnormality\", \"st-t abnormality\", \"normal\", \"st-t abnormality\", \"normal\", \"lv hypertrophy\", \"lv hypertrophy\", \"lv hypertrophy\", \"lv hypertrophy\", \"lv hypertrophy\", \"lv hypertrophy\", \"normal\", \"normal\", \"normal\", \"st-t abnormality\", \"normal\", \"st-t abnormality\", \"st-t abnormality\", \"st-t abnormality\", \"normal\", \"st-t abnormality\", \"st-t abnormality\", \"lv hypertrophy\"], \"xaxis\": \"x\", \"yaxis\": \"y\"}],\n",
              "                        {\"barmode\": \"group\", \"legend\": {\"orientation\": \"h\", \"tracegroupgap\": 0, \"x\": 1, \"xanchor\": \"right\", \"y\": 1.02, \"yanchor\": \"bottom\"}, \"template\": {\"data\": {\"bar\": [{\"error_x\": {\"color\": \"#2a3f5f\"}, \"error_y\": {\"color\": \"#2a3f5f\"}, \"marker\": {\"line\": {\"color\": \"#E5ECF6\", \"width\": 0.5}}, \"type\": \"bar\"}], \"barpolar\": [{\"marker\": {\"line\": {\"color\": \"#E5ECF6\", \"width\": 0.5}}, \"type\": \"barpolar\"}], \"carpet\": [{\"aaxis\": {\"endlinecolor\": \"#2a3f5f\", \"gridcolor\": \"white\", \"linecolor\": \"white\", \"minorgridcolor\": \"white\", \"startlinecolor\": \"#2a3f5f\"}, \"baxis\": {\"endlinecolor\": \"#2a3f5f\", \"gridcolor\": \"white\", \"linecolor\": \"white\", \"minorgridcolor\": \"white\", \"startlinecolor\": \"#2a3f5f\"}, \"type\": \"carpet\"}], \"choropleth\": [{\"colorbar\": {\"outlinewidth\": 0, \"ticks\": \"\"}, \"type\": \"choropleth\"}], \"contour\": [{\"colorbar\": {\"outlinewidth\": 0, \"ticks\": \"\"}, \"colorscale\": [[0.0, \"#0d0887\"], [0.1111111111111111, \"#46039f\"], [0.2222222222222222, \"#7201a8\"], [0.3333333333333333, \"#9c179e\"], [0.4444444444444444, \"#bd3786\"], [0.5555555555555556, \"#d8576b\"], [0.6666666666666666, \"#ed7953\"], [0.7777777777777778, \"#fb9f3a\"], [0.8888888888888888, \"#fdca26\"], [1.0, \"#f0f921\"]], \"type\": \"contour\"}], \"contourcarpet\": [{\"colorbar\": {\"outlinewidth\": 0, \"ticks\": \"\"}, \"type\": \"contourcarpet\"}], \"heatmap\": [{\"colorbar\": {\"outlinewidth\": 0, \"ticks\": \"\"}, \"colorscale\": [[0.0, \"#0d0887\"], [0.1111111111111111, \"#46039f\"], [0.2222222222222222, \"#7201a8\"], [0.3333333333333333, \"#9c179e\"], [0.4444444444444444, \"#bd3786\"], [0.5555555555555556, \"#d8576b\"], [0.6666666666666666, \"#ed7953\"], [0.7777777777777778, \"#fb9f3a\"], [0.8888888888888888, \"#fdca26\"], [1.0, \"#f0f921\"]], \"type\": \"heatmap\"}], \"heatmapgl\": [{\"colorbar\": {\"outlinewidth\": 0, \"ticks\": \"\"}, \"colorscale\": [[0.0, \"#0d0887\"], [0.1111111111111111, \"#46039f\"], [0.2222222222222222, \"#7201a8\"], [0.3333333333333333, \"#9c179e\"], [0.4444444444444444, \"#bd3786\"], [0.5555555555555556, \"#d8576b\"], [0.6666666666666666, \"#ed7953\"], [0.7777777777777778, \"#fb9f3a\"], [0.8888888888888888, \"#fdca26\"], [1.0, \"#f0f921\"]], \"type\": \"heatmapgl\"}], \"histogram\": [{\"marker\": {\"colorbar\": {\"outlinewidth\": 0, \"ticks\": \"\"}}, \"type\": \"histogram\"}], \"histogram2d\": [{\"colorbar\": {\"outlinewidth\": 0, \"ticks\": \"\"}, \"colorscale\": [[0.0, \"#0d0887\"], [0.1111111111111111, \"#46039f\"], [0.2222222222222222, \"#7201a8\"], [0.3333333333333333, \"#9c179e\"], [0.4444444444444444, \"#bd3786\"], [0.5555555555555556, \"#d8576b\"], [0.6666666666666666, \"#ed7953\"], [0.7777777777777778, \"#fb9f3a\"], [0.8888888888888888, \"#fdca26\"], [1.0, \"#f0f921\"]], \"type\": \"histogram2d\"}], \"histogram2dcontour\": [{\"colorbar\": {\"outlinewidth\": 0, \"ticks\": \"\"}, \"colorscale\": [[0.0, \"#0d0887\"], [0.1111111111111111, \"#46039f\"], [0.2222222222222222, \"#7201a8\"], [0.3333333333333333, \"#9c179e\"], [0.4444444444444444, \"#bd3786\"], [0.5555555555555556, \"#d8576b\"], [0.6666666666666666, \"#ed7953\"], [0.7777777777777778, \"#fb9f3a\"], [0.8888888888888888, \"#fdca26\"], [1.0, \"#f0f921\"]], \"type\": \"histogram2dcontour\"}], \"mesh3d\": [{\"colorbar\": {\"outlinewidth\": 0, \"ticks\": \"\"}, \"type\": \"mesh3d\"}], \"parcoords\": [{\"line\": {\"colorbar\": {\"outlinewidth\": 0, \"ticks\": \"\"}}, \"type\": \"parcoords\"}], \"pie\": [{\"automargin\": true, \"type\": \"pie\"}], \"scatter\": [{\"marker\": {\"colorbar\": {\"outlinewidth\": 0, \"ticks\": \"\"}}, \"type\": \"scatter\"}], \"scatter3d\": [{\"line\": {\"colorbar\": {\"outlinewidth\": 0, \"ticks\": \"\"}}, \"marker\": {\"colorbar\": {\"outlinewidth\": 0, \"ticks\": \"\"}}, \"type\": \"scatter3d\"}], \"scattercarpet\": [{\"marker\": {\"colorbar\": {\"outlinewidth\": 0, \"ticks\": \"\"}}, \"type\": \"scattercarpet\"}], \"scattergeo\": [{\"marker\": {\"colorbar\": {\"outlinewidth\": 0, \"ticks\": \"\"}}, \"type\": \"scattergeo\"}], \"scattergl\": [{\"marker\": {\"colorbar\": {\"outlinewidth\": 0, \"ticks\": \"\"}}, \"type\": \"scattergl\"}], \"scattermapbox\": [{\"marker\": {\"colorbar\": {\"outlinewidth\": 0, \"ticks\": \"\"}}, \"type\": \"scattermapbox\"}], \"scatterpolar\": [{\"marker\": {\"colorbar\": {\"outlinewidth\": 0, \"ticks\": \"\"}}, \"type\": \"scatterpolar\"}], \"scatterpolargl\": [{\"marker\": {\"colorbar\": {\"outlinewidth\": 0, \"ticks\": \"\"}}, \"type\": \"scatterpolargl\"}], \"scatterternary\": [{\"marker\": {\"colorbar\": {\"outlinewidth\": 0, \"ticks\": \"\"}}, \"type\": \"scatterternary\"}], \"surface\": [{\"colorbar\": {\"outlinewidth\": 0, \"ticks\": \"\"}, \"colorscale\": [[0.0, \"#0d0887\"], [0.1111111111111111, \"#46039f\"], [0.2222222222222222, \"#7201a8\"], [0.3333333333333333, \"#9c179e\"], [0.4444444444444444, \"#bd3786\"], [0.5555555555555556, \"#d8576b\"], [0.6666666666666666, \"#ed7953\"], [0.7777777777777778, \"#fb9f3a\"], [0.8888888888888888, \"#fdca26\"], [1.0, \"#f0f921\"]], \"type\": \"surface\"}], \"table\": [{\"cells\": {\"fill\": {\"color\": \"#EBF0F8\"}, \"line\": {\"color\": \"white\"}}, \"header\": {\"fill\": {\"color\": \"#C8D4E3\"}, \"line\": {\"color\": \"white\"}}, \"type\": \"table\"}]}, \"layout\": {\"annotationdefaults\": {\"arrowcolor\": \"#2a3f5f\", \"arrowhead\": 0, \"arrowwidth\": 1}, \"coloraxis\": {\"colorbar\": {\"outlinewidth\": 0, \"ticks\": \"\"}}, \"colorscale\": {\"diverging\": [[0, \"#8e0152\"], [0.1, \"#c51b7d\"], [0.2, \"#de77ae\"], [0.3, \"#f1b6da\"], [0.4, \"#fde0ef\"], [0.5, \"#f7f7f7\"], [0.6, \"#e6f5d0\"], [0.7, \"#b8e186\"], [0.8, \"#7fbc41\"], [0.9, \"#4d9221\"], [1, \"#276419\"]], \"sequential\": [[0.0, \"#0d0887\"], [0.1111111111111111, \"#46039f\"], [0.2222222222222222, \"#7201a8\"], [0.3333333333333333, \"#9c179e\"], [0.4444444444444444, \"#bd3786\"], [0.5555555555555556, \"#d8576b\"], [0.6666666666666666, \"#ed7953\"], [0.7777777777777778, \"#fb9f3a\"], [0.8888888888888888, \"#fdca26\"], [1.0, \"#f0f921\"]], \"sequentialminus\": [[0.0, \"#0d0887\"], [0.1111111111111111, \"#46039f\"], [0.2222222222222222, \"#7201a8\"], [0.3333333333333333, \"#9c179e\"], [0.4444444444444444, \"#bd3786\"], [0.5555555555555556, \"#d8576b\"], [0.6666666666666666, \"#ed7953\"], [0.7777777777777778, \"#fb9f3a\"], [0.8888888888888888, \"#fdca26\"], [1.0, \"#f0f921\"]]}, \"colorway\": [\"#636efa\", \"#EF553B\", \"#00cc96\", \"#ab63fa\", \"#FFA15A\", \"#19d3f3\", \"#FF6692\", \"#B6E880\", \"#FF97FF\", \"#FECB52\"], \"font\": {\"color\": \"#2a3f5f\"}, \"geo\": {\"bgcolor\": \"white\", \"lakecolor\": \"white\", \"landcolor\": \"#E5ECF6\", \"showlakes\": true, \"showland\": true, \"subunitcolor\": \"white\"}, \"hoverlabel\": {\"align\": \"left\"}, \"hovermode\": \"closest\", \"mapbox\": {\"style\": \"light\"}, \"paper_bgcolor\": \"white\", \"plot_bgcolor\": \"#E5ECF6\", \"polar\": {\"angularaxis\": {\"gridcolor\": \"white\", \"linecolor\": \"white\", \"ticks\": \"\"}, \"bgcolor\": \"#E5ECF6\", \"radialaxis\": {\"gridcolor\": \"white\", \"linecolor\": \"white\", \"ticks\": \"\"}}, \"scene\": {\"xaxis\": {\"backgroundcolor\": \"#E5ECF6\", \"gridcolor\": \"white\", \"gridwidth\": 2, \"linecolor\": \"white\", \"showbackground\": true, \"ticks\": \"\", \"zerolinecolor\": \"white\"}, \"yaxis\": {\"backgroundcolor\": \"#E5ECF6\", \"gridcolor\": \"white\", \"gridwidth\": 2, \"linecolor\": \"white\", \"showbackground\": true, \"ticks\": \"\", \"zerolinecolor\": \"white\"}, \"zaxis\": {\"backgroundcolor\": \"#E5ECF6\", \"gridcolor\": \"white\", \"gridwidth\": 2, \"linecolor\": \"white\", \"showbackground\": true, \"ticks\": \"\", \"zerolinecolor\": \"white\"}}, \"shapedefaults\": {\"line\": {\"color\": \"#2a3f5f\"}}, \"ternary\": {\"aaxis\": {\"gridcolor\": \"white\", \"linecolor\": \"white\", \"ticks\": \"\"}, \"baxis\": {\"gridcolor\": \"white\", \"linecolor\": \"white\", \"ticks\": \"\"}, \"bgcolor\": \"#E5ECF6\", \"caxis\": {\"gridcolor\": \"white\", \"linecolor\": \"white\", \"ticks\": \"\"}}, \"title\": {\"x\": 0.05}, \"xaxis\": {\"automargin\": true, \"gridcolor\": \"white\", \"linecolor\": \"white\", \"ticks\": \"\", \"title\": {\"standoff\": 15}, \"zerolinecolor\": \"white\", \"zerolinewidth\": 2}, \"yaxis\": {\"automargin\": true, \"gridcolor\": \"white\", \"linecolor\": \"white\", \"ticks\": \"\", \"title\": {\"standoff\": 15}, \"zerolinecolor\": \"white\", \"zerolinewidth\": 2}}}, \"title\": {\"text\": \"Number of Heart Disease related to resting electrocardiographic results\"}, \"xaxis\": {\"anchor\": \"y\", \"domain\": [0.0, 1.0], \"title\": {\"text\": \"resting electrocardiographic results\"}}, \"yaxis\": {\"anchor\": \"x\", \"domain\": [0.0, 1.0], \"title\": {\"text\": \"count\"}}},\n",
              "                        {\"responsive\": true}\n",
              "                    ).then(function(){\n",
              "                            \n",
              "var gd = document.getElementById('2e223429-315b-474b-bbda-06264d97594c');\n",
              "var x = new MutationObserver(function (mutations, observer) {{\n",
              "        var display = window.getComputedStyle(gd).display;\n",
              "        if (!display || display === 'none') {{\n",
              "            console.log([gd, 'removed!']);\n",
              "            Plotly.purge(gd);\n",
              "            observer.disconnect();\n",
              "        }}\n",
              "}});\n",
              "\n",
              "// Listen for the removal of the full notebook cells\n",
              "var notebookContainer = gd.closest('#notebook-container');\n",
              "if (notebookContainer) {{\n",
              "    x.observe(notebookContainer, {childList: true});\n",
              "}}\n",
              "\n",
              "// Listen for the clearing of the current output cell\n",
              "var outputEl = gd.closest('.output');\n",
              "if (outputEl) {{\n",
              "    x.observe(outputEl, {childList: true});\n",
              "}}\n",
              "\n",
              "                        })\n",
              "                };\n",
              "                \n",
              "            </script>\n",
              "        </div>\n",
              "</body>\n",
              "</html>"
            ]
          },
          "metadata": {}
        }
      ]
    },
    {
      "cell_type": "code",
      "metadata": {
        "colab": {
          "base_uri": "https://localhost:8080/",
          "height": 542
        },
        "id": "a21IGyzRUQnR",
        "outputId": "80853253-7a58-48f1-e05b-7789046f4035"
      },
      "source": [
        "fbs = px.histogram(df, x = 'fbs', color='num', barmode='stack',\n",
        "                    category_orders = {'num': [0,1,2,3,4]}, \n",
        "                    title='Number of Heart Disease when fasting blood sugar is more 120 mg/dl',\n",
        "                    labels={'fbs':'Fasting Blood Sugar','num':'Diagnosis of heart disease'})\n",
        "fbs.update_layout(legend=dict(\n",
        "                        orientation=\"h\",\n",
        "                        yanchor=\"bottom\", y=1.02,\n",
        "                        xanchor=\"right\", x=1))"
      ],
      "execution_count": null,
      "outputs": [
        {
          "output_type": "display_data",
          "data": {
            "text/html": [
              "<html>\n",
              "<head><meta charset=\"utf-8\" /></head>\n",
              "<body>\n",
              "    <div>\n",
              "            <script src=\"https://cdnjs.cloudflare.com/ajax/libs/mathjax/2.7.5/MathJax.js?config=TeX-AMS-MML_SVG\"></script><script type=\"text/javascript\">if (window.MathJax) {MathJax.Hub.Config({SVG: {font: \"STIX-Web\"}});}</script>\n",
              "                <script type=\"text/javascript\">window.PlotlyConfig = {MathJaxConfig: 'local'};</script>\n",
              "        <script src=\"https://cdn.plot.ly/plotly-latest.min.js\"></script>    \n",
              "            <div id=\"39e20eec-0a6d-44f1-873a-88ffb22e4547\" class=\"plotly-graph-div\" style=\"height:525px; width:100%;\"></div>\n",
              "            <script type=\"text/javascript\">\n",
              "                \n",
              "                    window.PLOTLYENV=window.PLOTLYENV || {};\n",
              "                    \n",
              "                if (document.getElementById(\"39e20eec-0a6d-44f1-873a-88ffb22e4547\")) {\n",
              "                    Plotly.newPlot(\n",
              "                        '39e20eec-0a6d-44f1-873a-88ffb22e4547',\n",
              "                        [{\"alignmentgroup\": \"True\", \"bingroup\": \"x\", \"hoverlabel\": {\"namelength\": 0}, \"hovertemplate\": \"Diagnosis of heart disease=0<br>Fasting Blood Sugar=%{x}<br>count=%{y}\", \"legendgroup\": \"Diagnosis of heart disease=0\", \"marker\": {\"color\": \"#636efa\"}, \"name\": \"Diagnosis of heart disease=0\", \"offsetgroup\": \"Diagnosis of heart disease=0\", \"orientation\": \"v\", \"showlegend\": true, \"type\": \"histogram\", \"x\": [true, false, false, false, false, false, false, false, true, false, false, false, false, false, true, false, false, false, false, false, false, false, false, true, false, false, true, false, true, true, false, false, false, false, false, false, true, false, false, false, false, false, false, false, false, false, false, false, false, false, false, false, false, false, false, false, false, false, false, false, true, false, false, false, true, false, false, false, false, false, false, false, false, false, false, false, true, false, true, false, false, false, false, true, false, false, false, true, false, false, true, false, false, true, false, false, false, true, false, true, false, false, false, true, false, false, true, false, false, false, false, true, false, false, false, false, false, false, false, false, false, false, false, false, false, false, false, false, false, false, false, false, false, false, false, false, true, true, false, false, false, false, false, false, false, false, false, false, false, false, false, false, false, false, false, false, false, false, false, false, false, false, false, false, false, false, false, false, false, false, false, false, false, false, false, false, false, false, false, false, false, false, false, false, false, false, false, false, false, false, false, null, false, false, false, false, false, false, false, false, false, true, false, false, false, false, false, false, false, false, false, false, false, false, false, false, false, false, false, false, false, false, false, false, false, false, false, false, false, false, false, false, false, false, false, false, false, false, true, false, false, false, false, false, false, null, false, false, false, false, false, false, false, true, false, true, false, false, false, false, false, false, false, false, false, false, false, false, false, false, false, null, false, false, false, false, false, false, false, false, false, false, false, false, false, false, false, false, false, false, false, false, false, false, false, null, false, false, false, false, false, false, false, false, false, true, false, false, null, false, false, false, false, false, false, false, false, false, false, false, false, false, false, true, false, false, false, false, false, false, null, false, false, false, false, false, false, true, false, false, false, false, false, false, false, false, false, false, false, false, false, false, null, null, null, null, null, false, null, null, false, true, false, false, false, false, false, false, false, false, false, false, false, null, false, true, false, true, true, false, true, true, false, false, false, true, false, false, false, false, false, true, false, true, false, true, true, false, false, false, false, false, false, false, false, false, false, true, true, false, true], \"xaxis\": \"x\", \"yaxis\": \"y\"}, {\"alignmentgroup\": \"True\", \"bingroup\": \"x\", \"hoverlabel\": {\"namelength\": 0}, \"hovertemplate\": \"Diagnosis of heart disease=1<br>Fasting Blood Sugar=%{x}<br>count=%{y}\", \"legendgroup\": \"Diagnosis of heart disease=1\", \"marker\": {\"color\": \"#EF553B\"}, \"name\": \"Diagnosis of heart disease=1\", \"offsetgroup\": \"Diagnosis of heart disease=1\", \"orientation\": \"v\", \"showlegend\": true, \"type\": \"histogram\", \"x\": [false, false, false, false, true, true, false, false, false, false, false, true, false, false, false, false, false, false, false, false, false, false, false, false, false, false, false, false, false, false, false, false, true, false, false, false, false, false, true, false, false, false, false, false, false, false, false, false, false, true, true, false, true, false, true, false, false, true, true, false, false, false, false, false, false, false, true, false, false, false, false, false, false, false, false, false, false, false, false, false, false, false, false, false, false, false, false, true, true, false, false, false, false, false, false, false, true, false, false, false, false, false, false, false, false, true, false, false, false, false, false, false, false, false, true, false, false, true, true, false, false, false, false, false, false, false, false, false, true, false, false, false, false, true, false, false, true, false, false, false, false, false, false, false, false, false, false, false, null, false, null, false, false, false, false, false, false, true, false, false, false, false, false, false, false, false, false, false, false, false, false, false, true, false, false, true, false, false, false, false, false, false, false, false, true, false, false, false, false, false, false, false, false, false, true, false, false, false, true, false, true, false, false, false, false, false, true, true, false, false, false, false, false, false, false, false, false, false, false, false, true, false, false, false, false, false, false, true, true, false, false, false, false, false, false, false, false, false, false, false, false, false, true, false, false, null, null, null, null, null, false, false, null, null, null, null, null, false, null, false, false, null, false, null, false, null, false, null, null, false, false, null, null, null, true, null, null, false, null, null, null, null, null, false, false, null, null, null, false, false, null, null, null, false, false, null, false, null, false, false, true, null, null, null, false, null, null, null, null, false, null, null, null, false, null, false, null, null, null, false, false, null, null, null, null, false, false, null, false, false, true, null, null, null, false, null, null, null, null, null, false, null, false, false, null, null, false, null, true, null, false, false, false, null, false, false, false, true, false, null, false, false, false, true, null, true, false, false, false, true, false, false, false, true, false, false, true, true, true, false, false, false, false, true, false, false, false, false, true, false, true, true, true, false, false, false, false, false, false, false, null, true, true, null, null, false, true, null, true, false, false, true, false, false, false, true, false, false, false, false, false, true, false, false, false, false, true, true, false, true, false, true, false, false, true, false, null, false, false, false, false, false, false, false, false, true, true, false, false, false, true, true, true, false, false, false, false, true, true, false, false, false, true, false, true, false, false, true, true, false, false, false, false, false, true, false, true, true, true, false, false, false, true, true, false, true, true, true, false, false, true, true, true, true, true, false, false, true, false, false, false, false, true, true, false, false, true, true, false], \"xaxis\": \"x\", \"yaxis\": \"y\"}],\n",
              "                        {\"barmode\": \"stack\", \"legend\": {\"orientation\": \"h\", \"tracegroupgap\": 0, \"x\": 1, \"xanchor\": \"right\", \"y\": 1.02, \"yanchor\": \"bottom\"}, \"template\": {\"data\": {\"bar\": [{\"error_x\": {\"color\": \"#2a3f5f\"}, \"error_y\": {\"color\": \"#2a3f5f\"}, \"marker\": {\"line\": {\"color\": \"#E5ECF6\", \"width\": 0.5}}, \"type\": \"bar\"}], \"barpolar\": [{\"marker\": {\"line\": {\"color\": \"#E5ECF6\", \"width\": 0.5}}, \"type\": \"barpolar\"}], \"carpet\": [{\"aaxis\": {\"endlinecolor\": \"#2a3f5f\", \"gridcolor\": \"white\", \"linecolor\": \"white\", \"minorgridcolor\": \"white\", \"startlinecolor\": \"#2a3f5f\"}, \"baxis\": {\"endlinecolor\": \"#2a3f5f\", \"gridcolor\": \"white\", \"linecolor\": \"white\", \"minorgridcolor\": \"white\", \"startlinecolor\": \"#2a3f5f\"}, \"type\": \"carpet\"}], \"choropleth\": [{\"colorbar\": {\"outlinewidth\": 0, \"ticks\": \"\"}, \"type\": \"choropleth\"}], \"contour\": [{\"colorbar\": {\"outlinewidth\": 0, \"ticks\": \"\"}, \"colorscale\": [[0.0, \"#0d0887\"], [0.1111111111111111, \"#46039f\"], [0.2222222222222222, \"#7201a8\"], [0.3333333333333333, \"#9c179e\"], [0.4444444444444444, \"#bd3786\"], [0.5555555555555556, \"#d8576b\"], [0.6666666666666666, \"#ed7953\"], [0.7777777777777778, \"#fb9f3a\"], [0.8888888888888888, \"#fdca26\"], [1.0, \"#f0f921\"]], \"type\": \"contour\"}], \"contourcarpet\": [{\"colorbar\": {\"outlinewidth\": 0, \"ticks\": \"\"}, \"type\": \"contourcarpet\"}], \"heatmap\": [{\"colorbar\": {\"outlinewidth\": 0, \"ticks\": \"\"}, \"colorscale\": [[0.0, \"#0d0887\"], [0.1111111111111111, \"#46039f\"], [0.2222222222222222, \"#7201a8\"], [0.3333333333333333, \"#9c179e\"], [0.4444444444444444, \"#bd3786\"], [0.5555555555555556, \"#d8576b\"], [0.6666666666666666, \"#ed7953\"], [0.7777777777777778, \"#fb9f3a\"], [0.8888888888888888, \"#fdca26\"], [1.0, \"#f0f921\"]], \"type\": \"heatmap\"}], \"heatmapgl\": [{\"colorbar\": {\"outlinewidth\": 0, \"ticks\": \"\"}, \"colorscale\": [[0.0, \"#0d0887\"], [0.1111111111111111, \"#46039f\"], [0.2222222222222222, \"#7201a8\"], [0.3333333333333333, \"#9c179e\"], [0.4444444444444444, \"#bd3786\"], [0.5555555555555556, \"#d8576b\"], [0.6666666666666666, \"#ed7953\"], [0.7777777777777778, \"#fb9f3a\"], [0.8888888888888888, \"#fdca26\"], [1.0, \"#f0f921\"]], \"type\": \"heatmapgl\"}], \"histogram\": [{\"marker\": {\"colorbar\": {\"outlinewidth\": 0, \"ticks\": \"\"}}, \"type\": \"histogram\"}], \"histogram2d\": [{\"colorbar\": {\"outlinewidth\": 0, \"ticks\": \"\"}, \"colorscale\": [[0.0, \"#0d0887\"], [0.1111111111111111, \"#46039f\"], [0.2222222222222222, \"#7201a8\"], [0.3333333333333333, \"#9c179e\"], [0.4444444444444444, \"#bd3786\"], [0.5555555555555556, \"#d8576b\"], [0.6666666666666666, \"#ed7953\"], [0.7777777777777778, \"#fb9f3a\"], [0.8888888888888888, \"#fdca26\"], [1.0, \"#f0f921\"]], \"type\": \"histogram2d\"}], \"histogram2dcontour\": [{\"colorbar\": {\"outlinewidth\": 0, \"ticks\": \"\"}, \"colorscale\": [[0.0, \"#0d0887\"], [0.1111111111111111, \"#46039f\"], [0.2222222222222222, \"#7201a8\"], [0.3333333333333333, \"#9c179e\"], [0.4444444444444444, \"#bd3786\"], [0.5555555555555556, \"#d8576b\"], [0.6666666666666666, \"#ed7953\"], [0.7777777777777778, \"#fb9f3a\"], [0.8888888888888888, \"#fdca26\"], [1.0, \"#f0f921\"]], \"type\": \"histogram2dcontour\"}], \"mesh3d\": [{\"colorbar\": {\"outlinewidth\": 0, \"ticks\": \"\"}, \"type\": \"mesh3d\"}], \"parcoords\": [{\"line\": {\"colorbar\": {\"outlinewidth\": 0, \"ticks\": \"\"}}, \"type\": \"parcoords\"}], \"pie\": [{\"automargin\": true, \"type\": \"pie\"}], \"scatter\": [{\"marker\": {\"colorbar\": {\"outlinewidth\": 0, \"ticks\": \"\"}}, \"type\": \"scatter\"}], \"scatter3d\": [{\"line\": {\"colorbar\": {\"outlinewidth\": 0, \"ticks\": \"\"}}, \"marker\": {\"colorbar\": {\"outlinewidth\": 0, \"ticks\": \"\"}}, \"type\": \"scatter3d\"}], \"scattercarpet\": [{\"marker\": {\"colorbar\": {\"outlinewidth\": 0, \"ticks\": \"\"}}, \"type\": \"scattercarpet\"}], \"scattergeo\": [{\"marker\": {\"colorbar\": {\"outlinewidth\": 0, \"ticks\": \"\"}}, \"type\": \"scattergeo\"}], \"scattergl\": [{\"marker\": {\"colorbar\": {\"outlinewidth\": 0, \"ticks\": \"\"}}, \"type\": \"scattergl\"}], \"scattermapbox\": [{\"marker\": {\"colorbar\": {\"outlinewidth\": 0, \"ticks\": \"\"}}, \"type\": \"scattermapbox\"}], \"scatterpolar\": [{\"marker\": {\"colorbar\": {\"outlinewidth\": 0, \"ticks\": \"\"}}, \"type\": \"scatterpolar\"}], \"scatterpolargl\": [{\"marker\": {\"colorbar\": {\"outlinewidth\": 0, \"ticks\": \"\"}}, \"type\": \"scatterpolargl\"}], \"scatterternary\": [{\"marker\": {\"colorbar\": {\"outlinewidth\": 0, \"ticks\": \"\"}}, \"type\": \"scatterternary\"}], \"surface\": [{\"colorbar\": {\"outlinewidth\": 0, \"ticks\": \"\"}, \"colorscale\": [[0.0, \"#0d0887\"], [0.1111111111111111, \"#46039f\"], [0.2222222222222222, \"#7201a8\"], [0.3333333333333333, \"#9c179e\"], [0.4444444444444444, \"#bd3786\"], [0.5555555555555556, \"#d8576b\"], [0.6666666666666666, \"#ed7953\"], [0.7777777777777778, \"#fb9f3a\"], [0.8888888888888888, \"#fdca26\"], [1.0, \"#f0f921\"]], \"type\": \"surface\"}], \"table\": [{\"cells\": {\"fill\": {\"color\": \"#EBF0F8\"}, \"line\": {\"color\": \"white\"}}, \"header\": {\"fill\": {\"color\": \"#C8D4E3\"}, \"line\": {\"color\": \"white\"}}, \"type\": \"table\"}]}, \"layout\": {\"annotationdefaults\": {\"arrowcolor\": \"#2a3f5f\", \"arrowhead\": 0, \"arrowwidth\": 1}, \"coloraxis\": {\"colorbar\": {\"outlinewidth\": 0, \"ticks\": \"\"}}, \"colorscale\": {\"diverging\": [[0, \"#8e0152\"], [0.1, \"#c51b7d\"], [0.2, \"#de77ae\"], [0.3, \"#f1b6da\"], [0.4, \"#fde0ef\"], [0.5, \"#f7f7f7\"], [0.6, \"#e6f5d0\"], [0.7, \"#b8e186\"], [0.8, \"#7fbc41\"], [0.9, \"#4d9221\"], [1, \"#276419\"]], \"sequential\": [[0.0, \"#0d0887\"], [0.1111111111111111, \"#46039f\"], [0.2222222222222222, \"#7201a8\"], [0.3333333333333333, \"#9c179e\"], [0.4444444444444444, \"#bd3786\"], [0.5555555555555556, \"#d8576b\"], [0.6666666666666666, \"#ed7953\"], [0.7777777777777778, \"#fb9f3a\"], [0.8888888888888888, \"#fdca26\"], [1.0, \"#f0f921\"]], \"sequentialminus\": [[0.0, \"#0d0887\"], [0.1111111111111111, \"#46039f\"], [0.2222222222222222, \"#7201a8\"], [0.3333333333333333, \"#9c179e\"], [0.4444444444444444, \"#bd3786\"], [0.5555555555555556, \"#d8576b\"], [0.6666666666666666, \"#ed7953\"], [0.7777777777777778, \"#fb9f3a\"], [0.8888888888888888, \"#fdca26\"], [1.0, \"#f0f921\"]]}, \"colorway\": [\"#636efa\", \"#EF553B\", \"#00cc96\", \"#ab63fa\", \"#FFA15A\", \"#19d3f3\", \"#FF6692\", \"#B6E880\", \"#FF97FF\", \"#FECB52\"], \"font\": {\"color\": \"#2a3f5f\"}, \"geo\": {\"bgcolor\": \"white\", \"lakecolor\": \"white\", \"landcolor\": \"#E5ECF6\", \"showlakes\": true, \"showland\": true, \"subunitcolor\": \"white\"}, \"hoverlabel\": {\"align\": \"left\"}, \"hovermode\": \"closest\", \"mapbox\": {\"style\": \"light\"}, \"paper_bgcolor\": \"white\", \"plot_bgcolor\": \"#E5ECF6\", \"polar\": {\"angularaxis\": {\"gridcolor\": \"white\", \"linecolor\": \"white\", \"ticks\": \"\"}, \"bgcolor\": \"#E5ECF6\", \"radialaxis\": {\"gridcolor\": \"white\", \"linecolor\": \"white\", \"ticks\": \"\"}}, \"scene\": {\"xaxis\": {\"backgroundcolor\": \"#E5ECF6\", \"gridcolor\": \"white\", \"gridwidth\": 2, \"linecolor\": \"white\", \"showbackground\": true, \"ticks\": \"\", \"zerolinecolor\": \"white\"}, \"yaxis\": {\"backgroundcolor\": \"#E5ECF6\", \"gridcolor\": \"white\", \"gridwidth\": 2, \"linecolor\": \"white\", \"showbackground\": true, \"ticks\": \"\", \"zerolinecolor\": \"white\"}, \"zaxis\": {\"backgroundcolor\": \"#E5ECF6\", \"gridcolor\": \"white\", \"gridwidth\": 2, \"linecolor\": \"white\", \"showbackground\": true, \"ticks\": \"\", \"zerolinecolor\": \"white\"}}, \"shapedefaults\": {\"line\": {\"color\": \"#2a3f5f\"}}, \"ternary\": {\"aaxis\": {\"gridcolor\": \"white\", \"linecolor\": \"white\", \"ticks\": \"\"}, \"baxis\": {\"gridcolor\": \"white\", \"linecolor\": \"white\", \"ticks\": \"\"}, \"bgcolor\": \"#E5ECF6\", \"caxis\": {\"gridcolor\": \"white\", \"linecolor\": \"white\", \"ticks\": \"\"}}, \"title\": {\"x\": 0.05}, \"xaxis\": {\"automargin\": true, \"gridcolor\": \"white\", \"linecolor\": \"white\", \"ticks\": \"\", \"title\": {\"standoff\": 15}, \"zerolinecolor\": \"white\", \"zerolinewidth\": 2}, \"yaxis\": {\"automargin\": true, \"gridcolor\": \"white\", \"linecolor\": \"white\", \"ticks\": \"\", \"title\": {\"standoff\": 15}, \"zerolinecolor\": \"white\", \"zerolinewidth\": 2}}}, \"title\": {\"text\": \"Number of Heart Disease when fasting blood sugar is more 120 mg/dl\"}, \"xaxis\": {\"anchor\": \"y\", \"domain\": [0.0, 1.0], \"title\": {\"text\": \"Fasting Blood Sugar\"}}, \"yaxis\": {\"anchor\": \"x\", \"domain\": [0.0, 1.0], \"title\": {\"text\": \"count\"}}},\n",
              "                        {\"responsive\": true}\n",
              "                    ).then(function(){\n",
              "                            \n",
              "var gd = document.getElementById('39e20eec-0a6d-44f1-873a-88ffb22e4547');\n",
              "var x = new MutationObserver(function (mutations, observer) {{\n",
              "        var display = window.getComputedStyle(gd).display;\n",
              "        if (!display || display === 'none') {{\n",
              "            console.log([gd, 'removed!']);\n",
              "            Plotly.purge(gd);\n",
              "            observer.disconnect();\n",
              "        }}\n",
              "}});\n",
              "\n",
              "// Listen for the removal of the full notebook cells\n",
              "var notebookContainer = gd.closest('#notebook-container');\n",
              "if (notebookContainer) {{\n",
              "    x.observe(notebookContainer, {childList: true});\n",
              "}}\n",
              "\n",
              "// Listen for the clearing of the current output cell\n",
              "var outputEl = gd.closest('.output');\n",
              "if (outputEl) {{\n",
              "    x.observe(outputEl, {childList: true});\n",
              "}}\n",
              "\n",
              "                        })\n",
              "                };\n",
              "                \n",
              "            </script>\n",
              "        </div>\n",
              "</body>\n",
              "</html>"
            ]
          },
          "metadata": {}
        }
      ]
    },
    {
      "cell_type": "markdown",
      "metadata": {
        "id": "uF1hQqYJZ0WB"
      },
      "source": [
        "### Missing values"
      ]
    },
    {
      "cell_type": "markdown",
      "metadata": {
        "id": "hG2bmy_w-k9U"
      },
      "source": [
        "Percentage of missing values in the dataset"
      ]
    },
    {
      "cell_type": "code",
      "metadata": {
        "colab": {
          "base_uri": "https://localhost:8080/"
        },
        "id": "NMymOI6dZ2tF",
        "outputId": "8dd06192-0f49-48be-e296-23432bd953be"
      },
      "source": [
        "round(df.isnull().sum()/len(df)*100, 2)"
      ],
      "execution_count": null,
      "outputs": [
        {
          "output_type": "execute_result",
          "data": {
            "text/plain": [
              "id           0.00\n",
              "age          0.00\n",
              "sex          0.00\n",
              "cp           0.00\n",
              "trestbps     6.41\n",
              "chol         3.26\n",
              "fbs          9.78\n",
              "restecg      0.22\n",
              "thalch       5.98\n",
              "exang        5.98\n",
              "oldpeak      6.74\n",
              "slope       33.59\n",
              "ca          66.41\n",
              "thal        52.83\n",
              "num          0.00\n",
              "dtype: float64"
            ]
          },
          "metadata": {},
          "execution_count": 16
        }
      ]
    },
    {
      "cell_type": "markdown",
      "metadata": {
        "id": "A7tY56NM-7f8"
      },
      "source": [
        "Correlation between the features and heatmap"
      ]
    },
    {
      "cell_type": "code",
      "metadata": {
        "colab": {
          "base_uri": "https://localhost:8080/",
          "height": 395
        },
        "id": "d42SFbqraNpl",
        "outputId": "d2e8fe99-1efe-4e68-8971-dfd9be67b22e"
      },
      "source": [
        "df_corr = df.corr()\n",
        "plt.figure(figsize=(9,6))\n",
        "sns.heatmap(df_corr, annot=True)"
      ],
      "execution_count": null,
      "outputs": [
        {
          "output_type": "execute_result",
          "data": {
            "text/plain": [
              "<matplotlib.axes._subplots.AxesSubplot at 0x7f9c1a413250>"
            ]
          },
          "metadata": {},
          "execution_count": 17
        },
        {
          "output_type": "display_data",
          "data": {
            "image/png": "[encoded data removed]",
            "text/plain": [
              "<Figure size 648x432 with 2 Axes>"
            ]
          },
          "metadata": {
            "needs_background": "light"
          }
        }
      ]
    },
    {
      "cell_type": "markdown",
      "metadata": {
        "id": "U-TELA2QU5jt"
      },
      "source": [
        "## Creating Model and Pipelines"
      ]
    },
    {
      "cell_type": "markdown",
      "metadata": {
        "id": "RV64LyRO_SMb"
      },
      "source": [
        "Eliminated all NA values from the dataset as well as join all levels of heart disease into one "
      ]
    },
    {
      "cell_type": "code",
      "metadata": {
        "colab": {
          "base_uri": "https://localhost:8080/"
        },
        "id": "kNmZwSFwdurw",
        "outputId": "85e616f4-7bb2-4eea-e642-df861b8cea26"
      },
      "source": [
        "df_not_null = df.dropna()\n",
        "df_not_null.shape\n"
      ],
      "execution_count": null,
      "outputs": [
        {
          "output_type": "execute_result",
          "data": {
            "text/plain": [
              "(299, 15)"
            ]
          },
          "metadata": {},
          "execution_count": 72
        }
      ]
    },
    {
      "cell_type": "code",
      "metadata": {
        "colab": {
          "base_uri": "https://localhost:8080/",
          "height": 423
        },
        "id": "lPMjTqDGiEkc",
        "outputId": "383b8521-3368-40aa-d894-aaa811f26485"
      },
      "source": [
        "df_not_null.num = df_not_null.num.replace([2,3,4], 1)\n",
        "df_not_null\n"
      ],
      "execution_count": null,
      "outputs": [
        {
          "output_type": "execute_result",
          "data": {
            "text/html": [
              "<div>\n",
              "<style scoped>\n",
              "    .dataframe tbody tr th:only-of-type {\n",
              "        vertical-align: middle;\n",
              "    }\n",
              "\n",
              "    .dataframe tbody tr th {\n",
              "        vertical-align: top;\n",
              "    }\n",
              "\n",
              "    .dataframe thead th {\n",
              "        text-align: right;\n",
              "    }\n",
              "</style>\n",
              "<table border=\"1\" class=\"dataframe\">\n",
              "  <thead>\n",
              "    <tr style=\"text-align: right;\">\n",
              "      <th></th>\n",
              "      <th>id</th>\n",
              "      <th>age</th>\n",
              "      <th>sex</th>\n",
              "      <th>cp</th>\n",
              "      <th>trestbps</th>\n",
              "      <th>chol</th>\n",
              "      <th>fbs</th>\n",
              "      <th>restecg</th>\n",
              "      <th>thalch</th>\n",
              "      <th>exang</th>\n",
              "      <th>oldpeak</th>\n",
              "      <th>slope</th>\n",
              "      <th>ca</th>\n",
              "      <th>thal</th>\n",
              "      <th>num</th>\n",
              "    </tr>\n",
              "  </thead>\n",
              "  <tbody>\n",
              "    <tr>\n",
              "      <th>0</th>\n",
              "      <td>1</td>\n",
              "      <td>63</td>\n",
              "      <td>Male</td>\n",
              "      <td>typical angina</td>\n",
              "      <td>145.0</td>\n",
              "      <td>233.0</td>\n",
              "      <td>True</td>\n",
              "      <td>lv hypertrophy</td>\n",
              "      <td>150.0</td>\n",
              "      <td>False</td>\n",
              "      <td>2.3</td>\n",
              "      <td>downsloping</td>\n",
              "      <td>0.0</td>\n",
              "      <td>fixed defect</td>\n",
              "      <td>0</td>\n",
              "    </tr>\n",
              "    <tr>\n",
              "      <th>1</th>\n",
              "      <td>2</td>\n",
              "      <td>67</td>\n",
              "      <td>Male</td>\n",
              "      <td>asymptomatic</td>\n",
              "      <td>160.0</td>\n",
              "      <td>286.0</td>\n",
              "      <td>False</td>\n",
              "      <td>lv hypertrophy</td>\n",
              "      <td>108.0</td>\n",
              "      <td>True</td>\n",
              "      <td>1.5</td>\n",
              "      <td>flat</td>\n",
              "      <td>3.0</td>\n",
              "      <td>normal</td>\n",
              "      <td>1</td>\n",
              "    </tr>\n",
              "    <tr>\n",
              "      <th>2</th>\n",
              "      <td>3</td>\n",
              "      <td>67</td>\n",
              "      <td>Male</td>\n",
              "      <td>asymptomatic</td>\n",
              "      <td>120.0</td>\n",
              "      <td>229.0</td>\n",
              "      <td>False</td>\n",
              "      <td>lv hypertrophy</td>\n",
              "      <td>129.0</td>\n",
              "      <td>True</td>\n",
              "      <td>2.6</td>\n",
              "      <td>flat</td>\n",
              "      <td>2.0</td>\n",
              "      <td>reversable defect</td>\n",
              "      <td>1</td>\n",
              "    </tr>\n",
              "    <tr>\n",
              "      <th>3</th>\n",
              "      <td>4</td>\n",
              "      <td>37</td>\n",
              "      <td>Male</td>\n",
              "      <td>non-anginal</td>\n",
              "      <td>130.0</td>\n",
              "      <td>250.0</td>\n",
              "      <td>False</td>\n",
              "      <td>normal</td>\n",
              "      <td>187.0</td>\n",
              "      <td>False</td>\n",
              "      <td>3.5</td>\n",
              "      <td>downsloping</td>\n",
              "      <td>0.0</td>\n",
              "      <td>normal</td>\n",
              "      <td>0</td>\n",
              "    </tr>\n",
              "    <tr>\n",
              "      <th>4</th>\n",
              "      <td>5</td>\n",
              "      <td>41</td>\n",
              "      <td>Female</td>\n",
              "      <td>atypical angina</td>\n",
              "      <td>130.0</td>\n",
              "      <td>204.0</td>\n",
              "      <td>False</td>\n",
              "      <td>lv hypertrophy</td>\n",
              "      <td>172.0</td>\n",
              "      <td>False</td>\n",
              "      <td>1.4</td>\n",
              "      <td>upsloping</td>\n",
              "      <td>0.0</td>\n",
              "      <td>normal</td>\n",
              "      <td>0</td>\n",
              "    </tr>\n",
              "    <tr>\n",
              "      <th>...</th>\n",
              "      <td>...</td>\n",
              "      <td>...</td>\n",
              "      <td>...</td>\n",
              "      <td>...</td>\n",
              "      <td>...</td>\n",
              "      <td>...</td>\n",
              "      <td>...</td>\n",
              "      <td>...</td>\n",
              "      <td>...</td>\n",
              "      <td>...</td>\n",
              "      <td>...</td>\n",
              "      <td>...</td>\n",
              "      <td>...</td>\n",
              "      <td>...</td>\n",
              "      <td>...</td>\n",
              "    </tr>\n",
              "    <tr>\n",
              "      <th>299</th>\n",
              "      <td>300</td>\n",
              "      <td>68</td>\n",
              "      <td>Male</td>\n",
              "      <td>asymptomatic</td>\n",
              "      <td>144.0</td>\n",
              "      <td>193.0</td>\n",
              "      <td>True</td>\n",
              "      <td>normal</td>\n",
              "      <td>141.0</td>\n",
              "      <td>False</td>\n",
              "      <td>3.4</td>\n",
              "      <td>flat</td>\n",
              "      <td>2.0</td>\n",
              "      <td>reversable defect</td>\n",
              "      <td>1</td>\n",
              "    </tr>\n",
              "    <tr>\n",
              "      <th>300</th>\n",
              "      <td>301</td>\n",
              "      <td>57</td>\n",
              "      <td>Male</td>\n",
              "      <td>asymptomatic</td>\n",
              "      <td>130.0</td>\n",
              "      <td>131.0</td>\n",
              "      <td>False</td>\n",
              "      <td>normal</td>\n",
              "      <td>115.0</td>\n",
              "      <td>True</td>\n",
              "      <td>1.2</td>\n",
              "      <td>flat</td>\n",
              "      <td>1.0</td>\n",
              "      <td>reversable defect</td>\n",
              "      <td>1</td>\n",
              "    </tr>\n",
              "    <tr>\n",
              "      <th>301</th>\n",
              "      <td>302</td>\n",
              "      <td>57</td>\n",
              "      <td>Female</td>\n",
              "      <td>atypical angina</td>\n",
              "      <td>130.0</td>\n",
              "      <td>236.0</td>\n",
              "      <td>False</td>\n",
              "      <td>lv hypertrophy</td>\n",
              "      <td>174.0</td>\n",
              "      <td>False</td>\n",
              "      <td>0.0</td>\n",
              "      <td>flat</td>\n",
              "      <td>1.0</td>\n",
              "      <td>normal</td>\n",
              "      <td>1</td>\n",
              "    </tr>\n",
              "    <tr>\n",
              "      <th>508</th>\n",
              "      <td>509</td>\n",
              "      <td>47</td>\n",
              "      <td>Male</td>\n",
              "      <td>asymptomatic</td>\n",
              "      <td>150.0</td>\n",
              "      <td>226.0</td>\n",
              "      <td>False</td>\n",
              "      <td>normal</td>\n",
              "      <td>98.0</td>\n",
              "      <td>True</td>\n",
              "      <td>1.5</td>\n",
              "      <td>flat</td>\n",
              "      <td>0.0</td>\n",
              "      <td>reversable defect</td>\n",
              "      <td>1</td>\n",
              "    </tr>\n",
              "    <tr>\n",
              "      <th>748</th>\n",
              "      <td>749</td>\n",
              "      <td>56</td>\n",
              "      <td>Male</td>\n",
              "      <td>asymptomatic</td>\n",
              "      <td>120.0</td>\n",
              "      <td>100.0</td>\n",
              "      <td>False</td>\n",
              "      <td>normal</td>\n",
              "      <td>120.0</td>\n",
              "      <td>True</td>\n",
              "      <td>1.5</td>\n",
              "      <td>flat</td>\n",
              "      <td>0.0</td>\n",
              "      <td>reversable defect</td>\n",
              "      <td>1</td>\n",
              "    </tr>\n",
              "  </tbody>\n",
              "</table>\n",
              "<p>299 rows × 15 columns</p>\n",
              "</div>"
            ],
            "text/plain": [
              "      id  age     sex  ...   ca               thal  num\n",
              "0      1   63    Male  ...  0.0       fixed defect    0\n",
              "1      2   67    Male  ...  3.0             normal    1\n",
              "2      3   67    Male  ...  2.0  reversable defect    1\n",
              "3      4   37    Male  ...  0.0             normal    0\n",
              "4      5   41  Female  ...  0.0             normal    0\n",
              "..   ...  ...     ...  ...  ...                ...  ...\n",
              "299  300   68    Male  ...  2.0  reversable defect    1\n",
              "300  301   57    Male  ...  1.0  reversable defect    1\n",
              "301  302   57  Female  ...  1.0             normal    1\n",
              "508  509   47    Male  ...  0.0  reversable defect    1\n",
              "748  749   56    Male  ...  0.0  reversable defect    1\n",
              "\n",
              "[299 rows x 15 columns]"
            ]
          },
          "metadata": {},
          "execution_count": 73
        }
      ]
    },
    {
      "cell_type": "markdown",
      "metadata": {
        "id": "eIxoiIvCFqr4"
      },
      "source": [
        "Split the dataset into features and targets and 80% train and 20% test"
      ]
    },
    {
      "cell_type": "code",
      "metadata": {
        "id": "tXeBSHoMU43T"
      },
      "source": [
        "from sklearn.metrics import classification_report\n",
        "from sklearn.model_selection import train_test_split \n",
        "\n",
        "features = df_not_null.drop(['num', 'id', 'oldpeak'], axis=1)\n",
        "target = df_not_null.num"
      ],
      "execution_count": null,
      "outputs": []
    },
    {
      "cell_type": "code",
      "metadata": {
        "colab": {
          "base_uri": "https://localhost:8080/"
        },
        "id": "sp0IcZPWVrS5",
        "outputId": "02d0c03a-a7e9-467c-f4fd-12623ad3b189"
      },
      "source": [
        "X_train, X_test, y_train, y_test = train_test_split(features, target, test_size=0.2, random_state=42)\n",
        "print(\"X_train shape: \", X_train.shape)\n",
        "print(\"X_test shape: \", X_test.shape)\n",
        "print(\"y_train shape: \", y_train.shape)\n",
        "print(\"y_test shape: \", y_test.shape)"
      ],
      "execution_count": null,
      "outputs": [
        {
          "output_type": "stream",
          "name": "stdout",
          "text": [
            "X_train shape:  (239, 12)\n",
            "X_test shape:  (60, 12)\n",
            "y_train shape:  (239,)\n",
            "y_test shape:  (60,)\n"
          ]
        }
      ]
    },
    {
      "cell_type": "code",
      "metadata": {
        "colab": {
          "base_uri": "https://localhost:8080/"
        },
        "id": "Iq956TBUWJPL",
        "outputId": "d7ae8cde-2ef8-4e03-cb06-3e78b2833025"
      },
      "source": [
        "model_numeric_features = X_train.select_dtypes(exclude=['object', 'category']).columns\n",
        "model_categorical_features = X_train.select_dtypes(['object', 'category']).columns\n",
        "print(model_numeric_features)\n",
        "print(model_categorical_features)"
      ],
      "execution_count": null,
      "outputs": [
        {
          "output_type": "stream",
          "name": "stdout",
          "text": [
            "Index(['age', 'trestbps', 'chol', 'thalch', 'ca'], dtype='object')\n",
            "Index(['sex', 'cp', 'fbs', 'restecg', 'exang', 'slope', 'thal'], dtype='object')\n"
          ]
        }
      ]
    },
    {
      "cell_type": "markdown",
      "metadata": {
        "id": "jizRpOigYE15"
      },
      "source": [
        "### Logistic Regression"
      ]
    },
    {
      "cell_type": "markdown",
      "metadata": {
        "id": "LY_BOw4kGKsU"
      },
      "source": [
        "Pipeline"
      ]
    },
    {
      "cell_type": "code",
      "metadata": {
        "id": "mu3tkqpGYCzM"
      },
      "source": [
        "from sklearn.pipeline import Pipeline\n",
        "from sklearn.compose import ColumnTransformer\n",
        "from sklearn.preprocessing import OneHotEncoder, StandardScaler\n",
        "from sklearn.linear_model import LogisticRegression\n",
        "\n",
        "numeric_transformer = Pipeline( steps=[ ('scaler', StandardScaler()) ])\n",
        "\n",
        "categorical_transformer = Pipeline( steps=[ ('one_hot', OneHotEncoder(handle_unknown='ignore')) ])\n",
        "\n",
        "preprocessor = ColumnTransformer( transformers=[ ('numeric', numeric_transformer, model_numeric_features), ('categorical', categorical_transformer, model_categorical_features) ])\n",
        "\n",
        "clf = Pipeline( steps=[ ('preprocessor', preprocessor), ('Logistic_reg', LogisticRegression(solver='liblinear')) ])\n",
        "\n",
        "clf.fit(X_train, y_train)\n",
        "\n",
        "logistic_preds = clf.predict(X_test)"
      ],
      "execution_count": null,
      "outputs": []
    },
    {
      "cell_type": "markdown",
      "metadata": {
        "id": "V6yMsk6VGOUf"
      },
      "source": [
        "Results"
      ]
    },
    {
      "cell_type": "code",
      "metadata": {
        "colab": {
          "base_uri": "https://localhost:8080/"
        },
        "id": "_FZiyWOHeJ8q",
        "outputId": "4365a934-e86b-4819-e978-11ed178583fa"
      },
      "source": [
        "from sklearn.metrics import classification_report\n",
        "\n",
        "print(classification_report(y_test, logistic_preds))"
      ],
      "execution_count": null,
      "outputs": [
        {
          "output_type": "stream",
          "name": "stdout",
          "text": [
            "              precision    recall  f1-score   support\n",
            "\n",
            "           0       0.94      0.89      0.91        35\n",
            "           1       0.85      0.92      0.88        25\n",
            "\n",
            "    accuracy                           0.90        60\n",
            "   macro avg       0.90      0.90      0.90        60\n",
            "weighted avg       0.90      0.90      0.90        60\n",
            "\n"
          ]
        }
      ]
    }
  ]
}